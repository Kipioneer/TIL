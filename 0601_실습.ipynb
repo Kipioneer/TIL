{
 "cells": [
  {
   "cell_type": "markdown",
   "id": "5627e239",
   "metadata": {},
   "source": [
    "- item 테이블을 대상으로 '상품등록', '상품조회1', '상품조회2' 기능을(를) 구현하는 파이썬 프로그램을 작성하세요."
   ]
  },
  {
   "cell_type": "code",
   "execution_count": 2,
   "id": "b37fcdf1",
   "metadata": {},
   "outputs": [],
   "source": [
    "import sqlite3"
   ]
  },
  {
   "cell_type": "code",
   "execution_count": 25,
   "id": "170147f7",
   "metadata": {
    "scrolled": true
   },
   "outputs": [
    {
     "name": "stdout",
     "output_type": "stream",
     "text": [
      "===상품등록===\n",
      "상품코드 입력 : 5\n",
      "상품명 입력 : 맥북\n",
      "수량 입력 : 1\n",
      "단가 입력 : 400\n",
      "상품등록을 성공했습니다.\n",
      "===상품조회1===\n",
      "code, name, qty, price\n",
      "(5, '맥북', 1, 400.0)\n",
      "===상품조회2===\n",
      "code 값을 입력하세요 (종료하려면 q를 입력하세요): 4\n",
      "조회결과 입력한 코드에 맞는 상품이 없습니다.\n",
      "상품코드 입력 : 1\n",
      "상품명 입력 : 아이폰\n",
      "수량 입력 : 1\n",
      "단가 입력 : 140\n",
      "상품등록을 성공했습니다.\n",
      "===상품조회1===\n",
      "code, name, qty, price\n",
      "(1, '아이폰', 1, 140.0)\n",
      "(5, '맥북', 1, 400.0)\n",
      "===상품조회2===\n",
      "code 값을 입력하세요 (종료하려면 q를 입력하세요): 4\n",
      "조회결과 입력한 코드에 맞는 상품이 없습니다.\n",
      "상품코드 입력 : 3\n",
      "상품명 입력 : 애플워치\n",
      "수량 입력 : 1\n",
      "단가 입력 : 40\n",
      "상품등록을 성공했습니다.\n",
      "===상품조회1===\n",
      "code, name, qty, price\n",
      "(1, '아이폰', 1, 140.0)\n",
      "(3, '애플워치', 1, 40.0)\n",
      "(5, '맥북', 1, 400.0)\n",
      "===상품조회2===\n",
      "code 값을 입력하세요 (종료하려면 q를 입력하세요):  \n",
      "조회결과 입력한 코드에 맞는 상품이 없습니다.\n",
      "상품코드 입력 : 2\n",
      "상품명 입력 : 아이패드\n",
      "수량 입력 : 1\n",
      "단가 입력 : 200\n",
      "상품등록을 성공했습니다.\n",
      "===상품조회1===\n",
      "code, name, qty, price\n",
      "(1, '아이폰', 1, 140.0)\n",
      "(2, '아이패드', 1, 200.0)\n",
      "(3, '애플워치', 1, 40.0)\n",
      "(5, '맥북', 1, 400.0)\n",
      "===상품조회2===\n",
      "code 값을 입력하세요 (종료하려면 q를 입력하세요): 4\n",
      "조회결과 입력한 코드에 맞는 상품이 없습니다.\n",
      "상품코드 입력 : 4\n",
      "상품명 입력 : 애플티비\n",
      "수량 입력 : 1\n",
      "단가 입력 : 30\n",
      "상품등록을 성공했습니다.\n",
      "===상품조회1===\n",
      "code, name, qty, price\n",
      "(1, '아이폰', 1, 140.0)\n",
      "(2, '아이패드', 1, 200.0)\n",
      "(3, '애플워치', 1, 40.0)\n",
      "(4, '애플티비', 1, 30.0)\n",
      "(5, '맥북', 1, 400.0)\n",
      "===상품조회2===\n",
      "code 값을 입력하세요 (종료하려면 q를 입력하세요): 4\n",
      "조회결과는 코드: 4, 제품명: 애플티비, 수량: 1, 단가: 30 입니다\n",
      "code 값을 입력하세요 (종료하려면 q를 입력하세요): 5\n",
      "조회결과는 코드: 5, 제품명: 맥북, 수량: 1, 단가: 400 입니다\n",
      "code 값을 입력하세요 (종료하려면 q를 입력하세요): 6\n",
      "조회결과 입력한 코드에 맞는 상품이 없습니다.\n"
     ]
    }
   ],
   "source": [
    "try:\n",
    "    conn = sqlite3.connect(\"data/sqlite_db2.db\") # 파일생성\n",
    "    cursor = conn.cursor()\n",
    "    \n",
    "    cursor.execute('drop table if exists item')\n",
    "    \n",
    "    # 가 \n",
    "    sql = '''\n",
    "    create table if not exists item(\n",
    "    code integer primary key,\n",
    "    name text(30) unique not null,\n",
    "    su integer default 0,\n",
    "    dan real default 0.0)\n",
    "    '''\n",
    "    cursor.execute(sql)\n",
    "\n",
    "#     상품등록\n",
    "    print('===상품등록===')\n",
    "    code = ''\n",
    "    while code < '6':\n",
    "        \n",
    "        code = int(input('상품코드 입력 : '))\n",
    "        name = input('상품명 입력 : ')\n",
    "        su = int(input('수량 입력 : '))\n",
    "        dan = int(input('단가 입력 : '))\n",
    "\n",
    "        if not code:\n",
    "            print('상품명을 입력해야 합니다. 등록을 중단합니다.')\n",
    "            exit() \n",
    "\n",
    "        print('상품등록을 성공했습니다.')\n",
    "        sql = f\"insert into item values({code}, '{name}', {su}, {dan})\"\n",
    "        cursor.execute(sql)\n",
    "        conn.commit()\n",
    "        \n",
    "#         if code == 5:\n",
    "#             break\n",
    "\n",
    "\n",
    "        #다\n",
    "        sql = \"select * from item\"\n",
    "        cursor.execute(sql)\n",
    "        rows= cursor.fetchall()\n",
    "\n",
    "        print('===상품조회1===')\n",
    "        print('code, name, qty, price')\n",
    "        if rows:\n",
    "            for row in rows:\n",
    "                print(row)\n",
    "        else:\n",
    "            print('No Record')\n",
    "\n",
    "        #라\n",
    "        print('===상품조회2===')\n",
    "        while True:\n",
    "            code = input(\"code 값을 입력하세요 (종료하려면 q를 입력하세요): \")\n",
    "            if code.lower() == 'q':  # q를 입력하면 루프를 종료하고 프로그램을 종료합니다\n",
    "                break\n",
    "\n",
    "            sql = f\"select * from item where code like '%{code}%'\"\n",
    "            cursor.execute(sql)\n",
    "            rows = cursor.fetchall()\n",
    "\n",
    "            if rows:\n",
    "                for row in rows:\n",
    "                    print(f'조회결과는 코드: {row[0]}, 제품명: {row[1]}, 수량: {row[2]}, 단가: {int(row[3])} 입니다')\n",
    "            else:\n",
    "                print('조회결과 입력한 코드에 맞는 상품이 없습니다.')\n",
    "                break\n",
    "\n",
    "except Exception as e:\n",
    "    print('error', e)\n",
    "    conn.rollback()\n",
    "    \n",
    "finally:\n",
    "    cursor.close()\n",
    "    conn.close()"
   ]
  },
  {
   "cell_type": "code",
   "execution_count": 8,
   "id": "f04c8926",
   "metadata": {},
   "outputs": [],
   "source": [
    "a = 0\n",
    "for i in range(0, 4):\n",
    "    a += 1"
   ]
  },
  {
   "cell_type": "code",
   "execution_count": 9,
   "id": "9b06e353",
   "metadata": {},
   "outputs": [
    {
     "data": {
      "text/plain": [
       "4"
      ]
     },
     "execution_count": 9,
     "metadata": {},
     "output_type": "execute_result"
    }
   ],
   "source": [
    "a"
   ]
  },
  {
   "cell_type": "code",
   "execution_count": null,
   "id": "f17cde1a",
   "metadata": {},
   "outputs": [],
   "source": []
  }
 ],
 "metadata": {
  "kernelspec": {
   "display_name": "Python 3 (ipykernel)",
   "language": "python",
   "name": "python3"
  },
  "language_info": {
   "codemirror_mode": {
    "name": "ipython",
    "version": 3
   },
   "file_extension": ".py",
   "mimetype": "text/x-python",
   "name": "python",
   "nbconvert_exporter": "python",
   "pygments_lexer": "ipython3",
   "version": "3.10.10"
  }
 },
 "nbformat": 4,
 "nbformat_minor": 5
}
