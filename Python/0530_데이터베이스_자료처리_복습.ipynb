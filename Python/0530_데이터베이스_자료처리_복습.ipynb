{
 "cells": [
  {
   "cell_type": "code",
   "execution_count": 2,
   "id": "abda7fa8",
   "metadata": {},
   "outputs": [],
   "source": [
    "import sqlite3"
   ]
  },
  {
   "cell_type": "code",
   "execution_count": 3,
   "id": "defd5b09",
   "metadata": {
    "scrolled": false
   },
   "outputs": [
    {
     "name": "stdout",
     "output_type": "stream",
     "text": [
      "(3, 39, 4)\n",
      "('홍길동', '010-1111-1111', '서울시')\n",
      "('이순신', '010-2222-2222', '해남시')\n",
      "('강감찬', '010-1111-1111', '평양시')\n",
      "이름   \t전화번호    \t주소\n",
      "홍길동 \t 010-1111-1111 \t 서울시\n",
      "이순신 \t 010-2222-2222 \t 해남시\n",
      "강감찬 \t 010-1111-1111 \t 평양시\n"
     ]
    }
   ],
   "source": [
    "print(sqlite3.sqlite_version_info) # (3 , 21 , 0)\n",
    "# (1) db 연동 객체\n",
    "try:\n",
    "    conn = sqlite3.connect('C:/workspace/data/sqlite_db')  # db 생성 -> 연결\n",
    "    cursor = conn.cursor()\n",
    "\n",
    "    # (3) table 생성\n",
    "    sql = 'create table if not exists test_table(name text(10) ,phone text(15) , addr text(50))'\n",
    "    cursor.execute(sql)  # sql문 실행\n",
    "\n",
    "    # (4) 레코드 추가\n",
    "    cursor.execute(\"insert into test_table values( '홍길동', '010-1111-1111', '서울시')\")\n",
    "    cursor.execute(\"insert into test_table values( '이순신', '010-2222-2222', '해남시')\")\n",
    "    cursor.execute(\"insert into test_table values( '강감찬', '010-1111-1111', '평양시')\")\n",
    "\n",
    "    conn.commit()\n",
    "\n",
    "    # (5) 레코드 조회\n",
    "    cursor.execute(\"select * from test_table\")\n",
    "    rows = cursor.fetchall()  # 조회 레코드 가져오기\n",
    "\n",
    "    for row in rows : # (6) 레코드 출력\n",
    "        print(row)\n",
    "\n",
    "    print('이름   \\t전화번호    \\t주소')\n",
    "    for row in rows :\n",
    "        print(row[0], '\\t', row[1], '\\t', row[2])\n",
    "\n",
    "except Exception as e :\n",
    "    print('db 연동 실패 : ', e)\n",
    "    conn.rollback()\n",
    "\n",
    "finally:\n",
    "    cursor.close()\n",
    "    conn.commit()"
   ]
  },
  {
   "cell_type": "markdown",
   "id": "c83a8cce",
   "metadata": {},
   "source": [
    "SQLite3 CRUD  실습"
   ]
  },
  {
   "cell_type": "code",
   "execution_count": 23,
   "id": "64373496",
   "metadata": {},
   "outputs": [
    {
     "name": "stdout",
     "output_type": "stream",
     "text": [
      "1 냉장고 2 850000.0\n",
      "2 세탁기 3 550000.0\n",
      "3 전자레인지 0 0.0\n",
      "4 HDTV 0 150000.0\n",
      "검색된 레코드 수 :  4\n",
      "상품명 입력 : 냉장고\n",
      "(1, '냉장고', 2, 850000.0)\n"
     ]
    }
   ],
   "source": [
    "try:\n",
    "    conn = sqlite3.connect('data/sqlite_db')  # db 생성 -> 연결\n",
    "    cursor = conn.cursor()\n",
    "\n",
    "    # (3) table 생성\n",
    "    sql = '''create table if not exists goods(\n",
    "    code integer primary key,\n",
    "    name text(30) unique not null,\n",
    "    count integer default 0,\n",
    "    price real default 0.0\n",
    "    )'''\n",
    "    cursor.execute(sql)  # sql문 실행\n",
    "\n",
    "#     (2) 레코드 추가\n",
    "#     cursor.execute(\"insert into goods values(1, '냉장고', 2, 850000)\")\n",
    "#     cursor.execute(\"insert into goods values(2, '세탁기', 3, 550000)\")\n",
    "#     cursor.execute(\"insert into goods (code, name) values(3, '전자레인지')\")\n",
    "#     cursor.execute(\"insert into goods (code, name, price) values(4, 'HDTV', 150000)\")\n",
    "#     conn.commit()\n",
    "\n",
    "    # (3) 레코드 조회\n",
    "    sql = \"select * from goods\"\n",
    "    cursor.execute(sql)\n",
    "    rows = cursor.fetchall()  # 조회 레코드 가져오기\n",
    "\n",
    "    for row in rows : # (6) 레코드 출력\n",
    "        print(row[0], row[1], row[2], row[3])\n",
    "    print('검색된 레코드 수 : ', len(rows))\n",
    "\n",
    "        # (4) 상품명 조회\n",
    "    name = input(\"상품명 입력 : \")\n",
    "    sql = f\"select * from goods where name like '%{name}%'\"\n",
    "    cursor.execute(sql)\n",
    "    rows = cursor.fetchall()\n",
    "    \n",
    "    if rows :\n",
    "        for row in rows:\n",
    "            print(row)\n",
    "    else:\n",
    "        print('검색된 레코드 없음')\n",
    "\n",
    "except Exception as e :\n",
    "    print('db 연동 error : ', e)\n",
    "    conn.rollback()\n",
    "\n",
    "finally:\n",
    "    cursor.close()\n",
    "    conn.commit()\n",
    "\n"
   ]
  },
  {
   "cell_type": "markdown",
   "id": "56b5097c",
   "metadata": {},
   "source": [
    "SQLite3 CRUD 예 추가\n",
    "\n",
    "\n"
   ]
  },
  {
   "cell_type": "code",
   "execution_count": 27,
   "id": "f0ca78d6",
   "metadata": {
    "scrolled": true
   },
   "outputs": [
    {
     "name": "stdout",
     "output_type": "stream",
     "text": [
      "code 입력 : 6\n",
      "name 입력 : 모니터\n",
      "count 입력 : 2\n",
      "price 입력 : 200000\n",
      "1 냉장고 2 850000.0\n",
      "2 세탁기 3 550000.0\n",
      "3 전자레인지 0 0.0\n",
      "4 HDTV 0 150000.0\n",
      "5 청소기 40000 40000.0\n",
      "6 모니터 2 200000.0\n",
      "검색된 레코드 수 :  6\n",
      "상품명 입력 : \n",
      "(1, '냉장고', 2, 850000.0)\n",
      "(2, '세탁기', 3, 550000.0)\n",
      "(3, '전자레인지', 0, 0.0)\n",
      "(4, 'HDTV', 0, 150000.0)\n",
      "(5, '청소기', 40000, 40000.0)\n",
      "(6, '모니터', 2, 200000.0)\n"
     ]
    }
   ],
   "source": [
    "try:\n",
    "    conn = sqlite3.connect('data/sqlite_db')  # db 생성 -> 연결\n",
    "    cursor = conn.cursor()\n",
    "\n",
    "    # (5) 레코드 추가 : 2차\n",
    "    code = int(input('code 입력 : '))\n",
    "    name = input('name 입력 : ')\n",
    "    count = int(input('count 입력 : '))\n",
    "    price = int(input('price 입력 : '))\n",
    "\n",
    "    sql = f\"insert into goods values({code}, '{name}', {count}, {price})\"\n",
    "    cursor.execute(sql)\n",
    "    conn.commit()\n",
    "    \n",
    "    # (3) 레코드 조회\n",
    "    sql = \"select * from goods\"\n",
    "    cursor.execute(sql)\n",
    "    rows = cursor.fetchall()  # 조회 레코드 가져오기\n",
    "\n",
    "    for row in rows : # (6) 레코드 출력\n",
    "        print(row[0], row[1], row[2], row[3])\n",
    "    print('검색된 레코드 수 : ', len(rows))\n",
    "\n",
    "        # (4) 상품명 조회\n",
    "    name = input(\"상품명 입력 : \")\n",
    "    sql = f\"select * from goods where name like '%{name}%'\"\n",
    "    cursor.execute(sql)\n",
    "    rows = cursor.fetchall()\n",
    "    \n",
    "    if rows :\n",
    "        for row in rows:\n",
    "            print(row)\n",
    "    else:\n",
    "        print('검색된 레코드 없음')\n",
    "\n",
    "except Exception as e :\n",
    "    print('db 연동 error : ', e)\n",
    "    conn.rollback()\n",
    "\n",
    "finally:\n",
    "    cursor.close()\n",
    "    conn.commit()\n"
   ]
  },
  {
   "cell_type": "markdown",
   "id": "7106bac6",
   "metadata": {},
   "source": [
    "SQLite3 CRUD 예 수정, 삭제"
   ]
  },
  {
   "cell_type": "code",
   "execution_count": 30,
   "id": "8182284f",
   "metadata": {
    "scrolled": true
   },
   "outputs": [
    {
     "name": "stdout",
     "output_type": "stream",
     "text": [
      "수정하고 싶은 code 입력 : 3\n",
      "수정 count 입력 : 1\n",
      "수정 price 입력 : 150000\n",
      "1 냉장고 2 850000.0\n",
      "2 세탁기 3 550000.0\n",
      "3 전자레인지 1 150000.0\n",
      "4 HDTV 0 150000.0\n",
      "5 청소기 3 50000.0\n",
      "6 모니터 2 200000.0\n",
      "검색된 레코드 수 :  6\n",
      "상품명 입력 : \n",
      "(1, '냉장고', 2, 850000.0)\n",
      "(2, '세탁기', 3, 550000.0)\n",
      "(3, '전자레인지', 1, 150000.0)\n",
      "(4, 'HDTV', 0, 150000.0)\n",
      "(5, '청소기', 3, 50000.0)\n",
      "(6, '모니터', 2, 200000.0)\n"
     ]
    }
   ],
   "source": [
    "try:\n",
    "    conn = sqlite3.connect('data/sqlite_db')  # db 생성 -> 연결\n",
    "    cursor = conn.cursor()\n",
    "\n",
    "    # (5) 레코드 수정 : code -> sum dan 수정\n",
    "    code = int(input('수정하고 싶은 code 입력 : '))\n",
    "    count = int(input('수정 count 입력 : '))\n",
    "    price = int(input('수정 price 입력 : '))\n",
    "\n",
    "    sql = f\"update goods set count = {count}, price = {price} where  code = {code}\"\n",
    "    cursor.execute(sql)\n",
    "    conn.commit()\n",
    "    \n",
    "    # (3) 레코드 조회\n",
    "    sql = \"select * from goods\"\n",
    "    cursor.execute(sql)\n",
    "    rows = cursor.fetchall()  # 조회 레코드 가져오기\n",
    "\n",
    "    for row in rows : # (6) 레코드 출력\n",
    "        print(row[0], row[1], row[2], row[3])\n",
    "    print('검색된 레코드 수 : ', len(rows))\n",
    "\n",
    "        # (4) 상품명 조회\n",
    "    name = input(\"상품명 입력 : \")\n",
    "    sql = f\"select * from goods where name like '%{name}%'\"\n",
    "    cursor.execute(sql)\n",
    "    rows = cursor.fetchall()\n",
    "    \n",
    "    if rows :\n",
    "        for row in rows:\n",
    "            print(row)\n",
    "    else:\n",
    "        print('검색된 레코드 없음')\n",
    "\n",
    "except Exception as e :\n",
    "    print('db 연동 error : ', e)\n",
    "    conn.rollback()\n",
    "\n",
    "finally:\n",
    "    cursor.close()\n",
    "    conn.commit()\n"
   ]
  },
  {
   "cell_type": "markdown",
   "id": "22801914",
   "metadata": {},
   "source": [
    "SQLite3 CRUD 예 삭제"
   ]
  },
  {
   "cell_type": "code",
   "execution_count": 31,
   "id": "b0559f98",
   "metadata": {},
   "outputs": [
    {
     "name": "stdout",
     "output_type": "stream",
     "text": [
      "삭제 code 입력 : 5\n",
      "1 냉장고 2 850000.0\n",
      "2 세탁기 3 550000.0\n",
      "3 전자레인지 1 150000.0\n",
      "4 HDTV 0 150000.0\n",
      "6 모니터 2 200000.0\n",
      "검색된 레코드 수 :  5\n",
      "상품명 입력 : \n",
      "(1, '냉장고', 2, 850000.0)\n",
      "(2, '세탁기', 3, 550000.0)\n",
      "(3, '전자레인지', 1, 150000.0)\n",
      "(4, 'HDTV', 0, 150000.0)\n",
      "(6, '모니터', 2, 200000.0)\n"
     ]
    }
   ],
   "source": [
    "try:\n",
    "    conn = sqlite3.connect('data/sqlite_db')  # db 생성 -> 연결\n",
    "    cursor = conn.cursor()\n",
    "\n",
    "    # (5) 레코드 삭제 : code -> 삭제\n",
    "    code = int(input('삭제 code 입력 : '))\n",
    "\n",
    "    sql = f\"delete from goods where code = {code}\"\n",
    "    cursor.execute(sql)\n",
    "    conn.commit()\n",
    "    \n",
    "    # (3) 레코드 조회\n",
    "    sql = \"select * from goods\"\n",
    "    cursor.execute(sql)\n",
    "    rows = cursor.fetchall()  # 조회 레코드 가져오기\n",
    "\n",
    "    for row in rows : # (6) 레코드 출력\n",
    "        print(row[0], row[1], row[2], row[3])\n",
    "    print('검색된 레코드 수 : ', len(rows))\n",
    "\n",
    "        # (4) 상품명 조회\n",
    "    name = input(\"상품명 입력 : \")\n",
    "    sql = f\"select * from goods where name like '%{name}%'\"\n",
    "    cursor.execute(sql)\n",
    "    rows = cursor.fetchall()\n",
    "    \n",
    "    if rows :\n",
    "        for row in rows:\n",
    "            print(row)\n",
    "    else:\n",
    "        print('검색된 레코드 없음')\n",
    "\n",
    "except Exception as e :\n",
    "    print('db 연동 error : ', e)\n",
    "    conn.rollback()\n",
    "\n",
    "finally:\n",
    "    cursor.close()\n",
    "    conn.commit()"
   ]
  }
 ],
 "metadata": {
  "kernelspec": {
   "display_name": "Python 3 (ipykernel)",
   "language": "python",
   "name": "python3"
  },
  "language_info": {
   "codemirror_mode": {
    "name": "ipython",
    "version": 3
   },
   "file_extension": ".py",
   "mimetype": "text/x-python",
   "name": "python",
   "nbconvert_exporter": "python",
   "pygments_lexer": "ipython3",
   "version": "3.10.10"
  }
 },
 "nbformat": 4,
 "nbformat_minor": 5
}
