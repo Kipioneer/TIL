{
 "cells": [
  {
   "cell_type": "code",
   "execution_count": 12,
   "id": "a6cd0872",
   "metadata": {},
   "outputs": [],
   "source": [
    "filename = './data1/kakaoAPI.txt'\n",
    "with open(filename) as f:\n",
    "    api_key = f.read()"
   ]
  },
  {
   "cell_type": "code",
   "execution_count": 13,
   "id": "4c32230c",
   "metadata": {},
   "outputs": [
    {
     "data": {
      "text/plain": [
       "32"
      ]
     },
     "execution_count": 13,
     "metadata": {},
     "output_type": "execute_result"
    }
   ],
   "source": [
    "len(api_key)"
   ]
  },
  {
   "cell_type": "code",
   "execution_count": 20,
   "id": "c752b8fb",
   "metadata": {},
   "outputs": [],
   "source": [
    "#이게 뭔뜻인지 ???\n",
    "\n",
    "import requests\n",
    "from urllib.parse import quote"
   ]
  },
  {
   "cell_type": "code",
   "execution_count": 22,
   "id": "9205bd13",
   "metadata": {},
   "outputs": [
    {
     "data": {
      "text/plain": [
       "'%EC%84%9C%EC%9A%B8%ED%8A%B9%EB%B3%84%EC%8B%9C%20%EC%A2%85%EB%A1%9C%EA%B5%AC%20%EC%A2%85%EB%A1%9C1%EA%B8%B8%2036%28%EC%88%98%EC%86%A1%EB%8F%99%29'"
      ]
     },
     "execution_count": 22,
     "metadata": {},
     "output_type": "execute_result"
    }
   ],
   "source": [
    "addr = '서울특별시 종로구 종로1길 36(수송동)'\n",
    "quote(addr)"
   ]
  },
  {
   "cell_type": "code",
   "execution_count": 23,
   "id": "9847a7aa",
   "metadata": {},
   "outputs": [
    {
     "data": {
      "text/plain": [
       "'https://dapi.kakao.com/v2/local/search/address.json?query=%EC%84%9C%EC%9A%B8%ED%8A%B9%EB%B3%84%EC%8B%9C%20%EC%A2%85%EB%A1%9C%EA%B5%AC%20%EC%A2%85%EB%A1%9C1%EA%B8%B8%2036%28%EC%88%98%EC%86%A1%EB%8F%99%29'"
      ]
     },
     "execution_count": 23,
     "metadata": {},
     "output_type": "execute_result"
    }
   ],
   "source": [
    "# 이주소는 알려주신건지?\n",
    "# 밑에 url 서치 이건뭔지?\n",
    "search_url = \"https://dapi.kakao.com/v2/local/search/address.json\"\n",
    "url = f'{search_url}?query={quote(addr)}'\n",
    "url\n"
   ]
  },
  {
   "cell_type": "code",
   "execution_count": 27,
   "id": "1b4059e0",
   "metadata": {},
   "outputs": [
    {
     "data": {
      "text/plain": [
       "{'documents': [{'address': {'address_name': '서울 종로구 수송동 146-12',\n",
       "    'b_code': '1111012400',\n",
       "    'h_code': '1111061500',\n",
       "    'main_address_no': '146',\n",
       "    'mountain_yn': 'N',\n",
       "    'region_1depth_name': '서울',\n",
       "    'region_2depth_name': '종로구',\n",
       "    'region_3depth_h_name': '종로1.2.3.4가동',\n",
       "    'region_3depth_name': '수송동',\n",
       "    'sub_address_no': '12',\n",
       "    'x': '126.978988255925',\n",
       "    'y': '37.5735051436739'},\n",
       "   'address_name': '서울 종로구 종로1길 36',\n",
       "   'address_type': 'ROAD_ADDR',\n",
       "   'road_address': {'address_name': '서울 종로구 종로1길 36',\n",
       "    'building_name': '종로구청',\n",
       "    'main_building_no': '36',\n",
       "    'region_1depth_name': '서울',\n",
       "    'region_2depth_name': '종로구',\n",
       "    'region_3depth_name': '수송동',\n",
       "    'road_name': '종로1길',\n",
       "    'sub_building_no': '',\n",
       "    'underground_yn': 'N',\n",
       "    'x': '126.978988255925',\n",
       "    'y': '37.5735051436739',\n",
       "    'zone_no': '03152'},\n",
       "   'x': '126.978988255925',\n",
       "   'y': '37.5735051436739'}],\n",
       " 'meta': {'is_end': True, 'pageable_count': 1, 'total_count': 1}}"
      ]
     },
     "execution_count": 27,
     "metadata": {},
     "output_type": "execute_result"
    }
   ],
   "source": [
    "# 이건 뭔뜻인지 ??\n",
    "\n",
    "result = requests.get(url, headers={\"Authorization\":f'KakaoAK {api_key}'}).json()\n",
    "result"
   ]
  },
  {
   "cell_type": "code",
   "execution_count": 28,
   "id": "71d03047",
   "metadata": {},
   "outputs": [
    {
     "data": {
      "text/plain": [
       "200"
      ]
     },
     "execution_count": 28,
     "metadata": {},
     "output_type": "execute_result"
    }
   ],
   "source": [
    "# 위코드에서 json()삭제후 확인 \n",
    "#result.status_code\n",
    "result1 = requests.get(url,headers = {\"Authorization\": f'KakaoAK {api_key}'})\n",
    "result1.status_code"
   ]
  },
  {
   "cell_type": "code",
   "execution_count": 29,
   "id": "a21e5274",
   "metadata": {},
   "outputs": [
    {
     "data": {
      "text/plain": [
       "'{\"documents\":[{\"address\":{\"address_name\":\"서울 종로구 수송동 146-12\",\"b_code\":\"1111012400\",\"h_code\":\"1111061500\",\"main_address_no\":\"146\",\"mountain_yn\":\"N\",\"region_1depth_name\":\"서울\",\"region_2depth_name\":\"종로구\",\"region_3depth_h_name\":\"종로1.2.3.4가동\",\"region_3depth_name\":\"수송동\",\"sub_address_no\":\"12\",\"x\":\"126.978988255925\",\"y\":\"37.5735051436739\"},\"address_name\":\"서울 종로구 종로1길 36\",\"address_type\":\"ROAD_ADDR\",\"road_address\":{\"address_name\":\"서울 종로구 종로1길 36\",\"building_name\":\"종로구청\",\"main_building_no\":\"36\",\"region_1depth_name\":\"서울\",\"region_2depth_name\":\"종로구\",\"region_3depth_name\":\"수송동\",\"road_name\":\"종로1길\",\"sub_building_no\":\"\",\"underground_yn\":\"N\",\"x\":\"126.978988255925\",\"y\":\"37.5735051436739\",\"zone_no\":\"03152\"},\"x\":\"126.978988255925\",\"y\":\"37.5735051436739\"}],\"meta\":{\"is_end\":true,\"pageable_count\":1,\"total_count\":1}}'"
      ]
     },
     "execution_count": 29,
     "metadata": {},
     "output_type": "execute_result"
    }
   ],
   "source": [
    "# json()으로 받지 않은경우 : result.text\n",
    "result1.text"
   ]
  },
  {
   "cell_type": "code",
   "execution_count": 30,
   "id": "8a5f8774",
   "metadata": {
    "scrolled": true
   },
   "outputs": [
    {
     "data": {
      "text/plain": [
       "{'documents': [{'address': {'address_name': '서울 종로구 수송동 146-12',\n",
       "    'b_code': '1111012400',\n",
       "    'h_code': '1111061500',\n",
       "    'main_address_no': '146',\n",
       "    'mountain_yn': 'N',\n",
       "    'region_1depth_name': '서울',\n",
       "    'region_2depth_name': '종로구',\n",
       "    'region_3depth_h_name': '종로1.2.3.4가동',\n",
       "    'region_3depth_name': '수송동',\n",
       "    'sub_address_no': '12',\n",
       "    'x': '126.978988255925',\n",
       "    'y': '37.5735051436739'},\n",
       "   'address_name': '서울 종로구 종로1길 36',\n",
       "   'address_type': 'ROAD_ADDR',\n",
       "   'road_address': {'address_name': '서울 종로구 종로1길 36',\n",
       "    'building_name': '종로구청',\n",
       "    'main_building_no': '36',\n",
       "    'region_1depth_name': '서울',\n",
       "    'region_2depth_name': '종로구',\n",
       "    'region_3depth_name': '수송동',\n",
       "    'road_name': '종로1길',\n",
       "    'sub_building_no': '',\n",
       "    'underground_yn': 'N',\n",
       "    'x': '126.978988255925',\n",
       "    'y': '37.5735051436739',\n",
       "    'zone_no': '03152'},\n",
       "   'x': '126.978988255925',\n",
       "   'y': '37.5735051436739'}],\n",
       " 'meta': {'is_end': True, 'pageable_count': 1, 'total_count': 1}}"
      ]
     },
     "execution_count": 30,
     "metadata": {},
     "output_type": "execute_result"
    }
   ],
   "source": [
    "import json\n",
    "res = json.loads(result1.text)\n",
    "res"
   ]
  },
  {
   "cell_type": "code",
   "execution_count": 31,
   "id": "e61a3fc6",
   "metadata": {},
   "outputs": [
    {
     "data": {
      "text/plain": [
       "dict_keys(['documents', 'meta'])"
      ]
     },
     "execution_count": 31,
     "metadata": {},
     "output_type": "execute_result"
    }
   ],
   "source": [
    "res.keys()"
   ]
  },
  {
   "cell_type": "code",
   "execution_count": 32,
   "id": "ff71fbcc",
   "metadata": {},
   "outputs": [
    {
     "name": "stdout",
     "output_type": "stream",
     "text": [
      "126.978988255925\n",
      "37.5735051436739\n"
     ]
    }
   ],
   "source": [
    "print(res['documents'][0]['x'])\n",
    "print(res['documents'][0]['y'])"
   ]
  },
  {
   "cell_type": "code",
   "execution_count": 33,
   "id": "5003df22",
   "metadata": {},
   "outputs": [],
   "source": [
    "lng = float(res['documents'][0]['x'])\n",
    "lat = float(res['documents'][0]['x'])"
   ]
  },
  {
   "cell_type": "code",
   "execution_count": 34,
   "id": "3930d2e5",
   "metadata": {},
   "outputs": [
    {
     "data": {
      "text/html": [
       "<div>\n",
       "<style scoped>\n",
       "    .dataframe tbody tr th:only-of-type {\n",
       "        vertical-align: middle;\n",
       "    }\n",
       "\n",
       "    .dataframe tbody tr th {\n",
       "        vertical-align: top;\n",
       "    }\n",
       "\n",
       "    .dataframe thead th {\n",
       "        text-align: right;\n",
       "    }\n",
       "</style>\n",
       "<table border=\"1\" class=\"dataframe\">\n",
       "  <thead>\n",
       "    <tr style=\"text-align: right;\">\n",
       "      <th></th>\n",
       "      <th>공공기관</th>\n",
       "      <th>도로명주소</th>\n",
       "    </tr>\n",
       "  </thead>\n",
       "  <tbody>\n",
       "    <tr>\n",
       "      <th>0</th>\n",
       "      <td>종로구청</td>\n",
       "      <td>서울특별시 종로구 종로1길 36(수송동)</td>\n",
       "    </tr>\n",
       "    <tr>\n",
       "      <th>1</th>\n",
       "      <td>노원구청</td>\n",
       "      <td>서울특별시 노원구 노해로 437(상계동)</td>\n",
       "    </tr>\n",
       "    <tr>\n",
       "      <th>2</th>\n",
       "      <td>송파구청</td>\n",
       "      <td>서울특별시 송파구 올림픽로 326(신천동)</td>\n",
       "    </tr>\n",
       "    <tr>\n",
       "      <th>3</th>\n",
       "      <td>마포구청</td>\n",
       "      <td>서울특별시 마포구 월드컵로 지하190(성산동)</td>\n",
       "    </tr>\n",
       "    <tr>\n",
       "      <th>4</th>\n",
       "      <td>양천구청</td>\n",
       "      <td>서울특별시 양천구 목동동로 105(신정동)</td>\n",
       "    </tr>\n",
       "  </tbody>\n",
       "</table>\n",
       "</div>"
      ],
      "text/plain": [
       "   공공기관                      도로명주소\n",
       "0  종로구청     서울특별시 종로구 종로1길 36(수송동)\n",
       "1  노원구청     서울특별시 노원구 노해로 437(상계동)\n",
       "2  송파구청    서울특별시 송파구 올림픽로 326(신천동)\n",
       "3  마포구청  서울특별시 마포구 월드컵로 지하190(성산동)\n",
       "4  양천구청    서울특별시 양천구 목동동로 105(신정동)"
      ]
     },
     "execution_count": 34,
     "metadata": {},
     "output_type": "execute_result"
    }
   ],
   "source": [
    "import pandas as pd\n",
    "df = pd.read_csv('./data1/공공기관.csv')\n",
    "df"
   ]
  },
  {
   "cell_type": "code",
   "execution_count": 35,
   "id": "ce5d2972",
   "metadata": {},
   "outputs": [],
   "source": [
    "lat_list = []\n",
    "lng_list = []\n",
    "\n",
    "for i in df.index:\n",
    "    search_url = \"https://dapi.kakao.com/v2/local/search/address.json\"\n",
    "    url = f'{search_url}?query={quote(df.도로명주소[i])}'\n",
    "    result = requests.get(url,\n",
    "                         headers={\"Authorization\": f'KakaoAK {api_key}'}).json()\n",
    "    lng = lng = float(result['documents'][0]['x'])\n",
    "    lat = lat = float(result['documents'][0]['y'])\n",
    "    lat_list.append(lat)\n",
    "    lng_list.append(lng)"
   ]
  },
  {
   "cell_type": "code",
   "execution_count": 36,
   "id": "20b092ae",
   "metadata": {},
   "outputs": [],
   "source": [
    "df['위도'] = lat_list\n",
    "df['경도'] = lng_list\n",
    "df.to_csv('공공기관2.csv', index=False)"
   ]
  },
  {
   "cell_type": "code",
   "execution_count": 37,
   "id": "5bcabb04",
   "metadata": {},
   "outputs": [
    {
     "data": {
      "text/html": [
       "<div>\n",
       "<style scoped>\n",
       "    .dataframe tbody tr th:only-of-type {\n",
       "        vertical-align: middle;\n",
       "    }\n",
       "\n",
       "    .dataframe tbody tr th {\n",
       "        vertical-align: top;\n",
       "    }\n",
       "\n",
       "    .dataframe thead th {\n",
       "        text-align: right;\n",
       "    }\n",
       "</style>\n",
       "<table border=\"1\" class=\"dataframe\">\n",
       "  <thead>\n",
       "    <tr style=\"text-align: right;\">\n",
       "      <th></th>\n",
       "      <th>공공기관</th>\n",
       "      <th>도로명주소</th>\n",
       "      <th>위도</th>\n",
       "      <th>경도</th>\n",
       "    </tr>\n",
       "  </thead>\n",
       "  <tbody>\n",
       "    <tr>\n",
       "      <th>0</th>\n",
       "      <td>종로구청</td>\n",
       "      <td>서울특별시 종로구 종로1길 36(수송동)</td>\n",
       "      <td>37.573505</td>\n",
       "      <td>126.978988</td>\n",
       "    </tr>\n",
       "    <tr>\n",
       "      <th>1</th>\n",
       "      <td>노원구청</td>\n",
       "      <td>서울특별시 노원구 노해로 437(상계동)</td>\n",
       "      <td>37.654523</td>\n",
       "      <td>127.056268</td>\n",
       "    </tr>\n",
       "    <tr>\n",
       "      <th>2</th>\n",
       "      <td>송파구청</td>\n",
       "      <td>서울특별시 송파구 올림픽로 326(신천동)</td>\n",
       "      <td>37.514477</td>\n",
       "      <td>127.105860</td>\n",
       "    </tr>\n",
       "    <tr>\n",
       "      <th>3</th>\n",
       "      <td>마포구청</td>\n",
       "      <td>서울특별시 마포구 월드컵로 지하190(성산동)</td>\n",
       "      <td>37.563426</td>\n",
       "      <td>126.903357</td>\n",
       "    </tr>\n",
       "    <tr>\n",
       "      <th>4</th>\n",
       "      <td>양천구청</td>\n",
       "      <td>서울특별시 양천구 목동동로 105(신정동)</td>\n",
       "      <td>37.517075</td>\n",
       "      <td>126.866543</td>\n",
       "    </tr>\n",
       "  </tbody>\n",
       "</table>\n",
       "</div>"
      ],
      "text/plain": [
       "   공공기관                      도로명주소         위도          경도\n",
       "0  종로구청     서울특별시 종로구 종로1길 36(수송동)  37.573505  126.978988\n",
       "1  노원구청     서울특별시 노원구 노해로 437(상계동)  37.654523  127.056268\n",
       "2  송파구청    서울특별시 송파구 올림픽로 326(신천동)  37.514477  127.105860\n",
       "3  마포구청  서울특별시 마포구 월드컵로 지하190(성산동)  37.563426  126.903357\n",
       "4  양천구청    서울특별시 양천구 목동동로 105(신정동)  37.517075  126.866543"
      ]
     },
     "execution_count": 37,
     "metadata": {},
     "output_type": "execute_result"
    }
   ],
   "source": [
    "df"
   ]
  },
  {
   "cell_type": "markdown",
   "id": "c975c0d2",
   "metadata": {},
   "source": [
    "# 지도에 그려보기"
   ]
  },
  {
   "cell_type": "code",
   "execution_count": 38,
   "id": "75fd6d2a",
   "metadata": {},
   "outputs": [],
   "source": [
    "import folium"
   ]
  },
  {
   "cell_type": "code",
   "execution_count": 47,
   "id": "f5d1b2fe",
   "metadata": {
    "scrolled": true
   },
   "outputs": [
    {
     "data": {
      "text/html": [
       "<div style=\"width:100%;\"><div style=\"position:relative;width:100%;height:0;padding-bottom:60%;\"><span style=\"color:#565656\">Make this Notebook Trusted to load map: File -> Trust Notebook</span><iframe srcdoc=\"&lt;!DOCTYPE html&gt;\n",
       "&lt;html&gt;\n",
       "&lt;head&gt;\n",
       "    \n",
       "    &lt;meta http-equiv=&quot;content-type&quot; content=&quot;text/html; charset=UTF-8&quot; /&gt;\n",
       "    \n",
       "        &lt;script&gt;\n",
       "            L_NO_TOUCH = false;\n",
       "            L_DISABLE_3D = false;\n",
       "        &lt;/script&gt;\n",
       "    \n",
       "    &lt;style&gt;html, body {width: 100%;height: 100%;margin: 0;padding: 0;}&lt;/style&gt;\n",
       "    &lt;style&gt;#map {position:absolute;top:0;bottom:0;right:0;left:0;}&lt;/style&gt;\n",
       "    &lt;script src=&quot;https://cdn.jsdelivr.net/npm/leaflet@1.9.3/dist/leaflet.js&quot;&gt;&lt;/script&gt;\n",
       "    &lt;script src=&quot;https://code.jquery.com/jquery-1.12.4.min.js&quot;&gt;&lt;/script&gt;\n",
       "    &lt;script src=&quot;https://cdn.jsdelivr.net/npm/bootstrap@5.2.2/dist/js/bootstrap.bundle.min.js&quot;&gt;&lt;/script&gt;\n",
       "    &lt;script src=&quot;https://cdnjs.cloudflare.com/ajax/libs/Leaflet.awesome-markers/2.0.2/leaflet.awesome-markers.js&quot;&gt;&lt;/script&gt;\n",
       "    &lt;link rel=&quot;stylesheet&quot; href=&quot;https://cdn.jsdelivr.net/npm/leaflet@1.9.3/dist/leaflet.css&quot;/&gt;\n",
       "    &lt;link rel=&quot;stylesheet&quot; href=&quot;https://cdn.jsdelivr.net/npm/bootstrap@5.2.2/dist/css/bootstrap.min.css&quot;/&gt;\n",
       "    &lt;link rel=&quot;stylesheet&quot; href=&quot;https://netdna.bootstrapcdn.com/bootstrap/3.0.0/css/bootstrap.min.css&quot;/&gt;\n",
       "    &lt;link rel=&quot;stylesheet&quot; href=&quot;https://cdn.jsdelivr.net/npm/@fortawesome/fontawesome-free@6.2.0/css/all.min.css&quot;/&gt;\n",
       "    &lt;link rel=&quot;stylesheet&quot; href=&quot;https://cdnjs.cloudflare.com/ajax/libs/Leaflet.awesome-markers/2.0.2/leaflet.awesome-markers.css&quot;/&gt;\n",
       "    &lt;link rel=&quot;stylesheet&quot; href=&quot;https://cdn.jsdelivr.net/gh/python-visualization/folium/folium/templates/leaflet.awesome.rotate.min.css&quot;/&gt;\n",
       "    \n",
       "            &lt;meta name=&quot;viewport&quot; content=&quot;width=device-width,\n",
       "                initial-scale=1.0, maximum-scale=1.0, user-scalable=no&quot; /&gt;\n",
       "            &lt;style&gt;\n",
       "                #map_e1bf7e44a2c817ea6d131c5da91ad979 {\n",
       "                    position: relative;\n",
       "                    width: 100.0%;\n",
       "                    height: 100.0%;\n",
       "                    left: 0.0%;\n",
       "                    top: 0.0%;\n",
       "                }\n",
       "                .leaflet-container { font-size: 1rem; }\n",
       "            &lt;/style&gt;\n",
       "        \n",
       "&lt;/head&gt;\n",
       "&lt;body&gt;\n",
       "    \n",
       "    &lt;h3 align=&quot;center&quot; style=&quot;font-size:20&quot;&gt; 서울시 구청&lt;/h3&gt;\n",
       "    \n",
       "            &lt;div class=&quot;folium-map&quot; id=&quot;map_e1bf7e44a2c817ea6d131c5da91ad979&quot; &gt;&lt;/div&gt;\n",
       "        \n",
       "&lt;/body&gt;\n",
       "&lt;script&gt;\n",
       "    \n",
       "    \n",
       "            var map_e1bf7e44a2c817ea6d131c5da91ad979 = L.map(\n",
       "                &quot;map_e1bf7e44a2c817ea6d131c5da91ad979&quot;,\n",
       "                {\n",
       "                    center: [37.56460137149641, 126.98220321478],\n",
       "                    crs: L.CRS.EPSG3857,\n",
       "                    zoom: 12,\n",
       "                    zoomControl: true,\n",
       "                    preferCanvas: false,\n",
       "                }\n",
       "            );\n",
       "\n",
       "            \n",
       "\n",
       "        \n",
       "    \n",
       "            var tile_layer_5d1064f83c0ba2a4668e77248fd619f6 = L.tileLayer(\n",
       "                &quot;https://{s}.tile.openstreetmap.org/{z}/{x}/{y}.png&quot;,\n",
       "                {&quot;attribution&quot;: &quot;Data by \\u0026copy; \\u003ca target=\\&quot;_blank\\&quot; href=\\&quot;http://openstreetmap.org\\&quot;\\u003eOpenStreetMap\\u003c/a\\u003e, under \\u003ca target=\\&quot;_blank\\&quot; href=\\&quot;http://www.openstreetmap.org/copyright\\&quot;\\u003eODbL\\u003c/a\\u003e.&quot;, &quot;detectRetina&quot;: false, &quot;maxNativeZoom&quot;: 18, &quot;maxZoom&quot;: 18, &quot;minZoom&quot;: 0, &quot;noWrap&quot;: false, &quot;opacity&quot;: 1, &quot;subdomains&quot;: &quot;abc&quot;, &quot;tms&quot;: false}\n",
       "            ).addTo(map_e1bf7e44a2c817ea6d131c5da91ad979);\n",
       "        \n",
       "    \n",
       "            var circle_bd8989bca82c164ec7539de3408b705c = L.circle(\n",
       "                [37.5735051436739, 126.978988255925],\n",
       "                {&quot;bubblingMouseEvents&quot;: true, &quot;color&quot;: &quot;red&quot;, &quot;dashArray&quot;: null, &quot;dashOffset&quot;: null, &quot;fill&quot;: true, &quot;fillColor&quot;: &quot;#3186cc&quot;, &quot;fillOpacity&quot;: 0.2, &quot;fillRule&quot;: &quot;evenodd&quot;, &quot;lineCap&quot;: &quot;round&quot;, &quot;lineJoin&quot;: &quot;round&quot;, &quot;opacity&quot;: 1.0, &quot;radius&quot;: 300, &quot;stroke&quot;: true, &quot;weight&quot;: 3}\n",
       "            ).addTo(map_e1bf7e44a2c817ea6d131c5da91ad979);\n",
       "        \n",
       "    \n",
       "        var popup_79260040332e29810f72ba30b72a5db2 = L.popup({&quot;maxWidth&quot;: 200});\n",
       "\n",
       "        \n",
       "            \n",
       "                var html_50d746f3f9da28beca4097d14d5a2d78 = $(`&lt;div id=&quot;html_50d746f3f9da28beca4097d14d5a2d78&quot; style=&quot;width: 100.0%; height: 100.0%;&quot;&gt;서울특별시 종로구 종로1길 36(수송동)&lt;/div&gt;`)[0];\n",
       "                popup_79260040332e29810f72ba30b72a5db2.setContent(html_50d746f3f9da28beca4097d14d5a2d78);\n",
       "            \n",
       "        \n",
       "\n",
       "        circle_bd8989bca82c164ec7539de3408b705c.bindPopup(popup_79260040332e29810f72ba30b72a5db2)\n",
       "        ;\n",
       "\n",
       "        \n",
       "    \n",
       "    \n",
       "            circle_bd8989bca82c164ec7539de3408b705c.bindTooltip(\n",
       "                `&lt;div&gt;\n",
       "                     종로구청\n",
       "                 &lt;/div&gt;`,\n",
       "                {&quot;sticky&quot;: true}\n",
       "            );\n",
       "        \n",
       "    \n",
       "            var circle_b21a3acc00bad02de0d41cbeabd32b24 = L.circle(\n",
       "                [37.6545228397157, 127.056268317802],\n",
       "                {&quot;bubblingMouseEvents&quot;: true, &quot;color&quot;: &quot;red&quot;, &quot;dashArray&quot;: null, &quot;dashOffset&quot;: null, &quot;fill&quot;: true, &quot;fillColor&quot;: &quot;#3186cc&quot;, &quot;fillOpacity&quot;: 0.2, &quot;fillRule&quot;: &quot;evenodd&quot;, &quot;lineCap&quot;: &quot;round&quot;, &quot;lineJoin&quot;: &quot;round&quot;, &quot;opacity&quot;: 1.0, &quot;radius&quot;: 300, &quot;stroke&quot;: true, &quot;weight&quot;: 3}\n",
       "            ).addTo(map_e1bf7e44a2c817ea6d131c5da91ad979);\n",
       "        \n",
       "    \n",
       "        var popup_a396f6591a6ac1ea3760abbf1aefc9fb = L.popup({&quot;maxWidth&quot;: 200});\n",
       "\n",
       "        \n",
       "            \n",
       "                var html_0998599b67a5aab861382cb863e6fa2f = $(`&lt;div id=&quot;html_0998599b67a5aab861382cb863e6fa2f&quot; style=&quot;width: 100.0%; height: 100.0%;&quot;&gt;서울특별시 노원구 노해로 437(상계동)&lt;/div&gt;`)[0];\n",
       "                popup_a396f6591a6ac1ea3760abbf1aefc9fb.setContent(html_0998599b67a5aab861382cb863e6fa2f);\n",
       "            \n",
       "        \n",
       "\n",
       "        circle_b21a3acc00bad02de0d41cbeabd32b24.bindPopup(popup_a396f6591a6ac1ea3760abbf1aefc9fb)\n",
       "        ;\n",
       "\n",
       "        \n",
       "    \n",
       "    \n",
       "            circle_b21a3acc00bad02de0d41cbeabd32b24.bindTooltip(\n",
       "                `&lt;div&gt;\n",
       "                     노원구청\n",
       "                 &lt;/div&gt;`,\n",
       "                {&quot;sticky&quot;: true}\n",
       "            );\n",
       "        \n",
       "    \n",
       "            var circle_7697525ceb15d24070812a2c69cd68fc = L.circle(\n",
       "                [37.514477182474, 127.105859984389],\n",
       "                {&quot;bubblingMouseEvents&quot;: true, &quot;color&quot;: &quot;red&quot;, &quot;dashArray&quot;: null, &quot;dashOffset&quot;: null, &quot;fill&quot;: true, &quot;fillColor&quot;: &quot;#3186cc&quot;, &quot;fillOpacity&quot;: 0.2, &quot;fillRule&quot;: &quot;evenodd&quot;, &quot;lineCap&quot;: &quot;round&quot;, &quot;lineJoin&quot;: &quot;round&quot;, &quot;opacity&quot;: 1.0, &quot;radius&quot;: 300, &quot;stroke&quot;: true, &quot;weight&quot;: 3}\n",
       "            ).addTo(map_e1bf7e44a2c817ea6d131c5da91ad979);\n",
       "        \n",
       "    \n",
       "        var popup_622d345ad3cb4e812607d47ba7270f5a = L.popup({&quot;maxWidth&quot;: 200});\n",
       "\n",
       "        \n",
       "            \n",
       "                var html_cadbe5f45f4f051ce0b79761fbdf5e30 = $(`&lt;div id=&quot;html_cadbe5f45f4f051ce0b79761fbdf5e30&quot; style=&quot;width: 100.0%; height: 100.0%;&quot;&gt;서울특별시 송파구 올림픽로 326(신천동)&lt;/div&gt;`)[0];\n",
       "                popup_622d345ad3cb4e812607d47ba7270f5a.setContent(html_cadbe5f45f4f051ce0b79761fbdf5e30);\n",
       "            \n",
       "        \n",
       "\n",
       "        circle_7697525ceb15d24070812a2c69cd68fc.bindPopup(popup_622d345ad3cb4e812607d47ba7270f5a)\n",
       "        ;\n",
       "\n",
       "        \n",
       "    \n",
       "    \n",
       "            circle_7697525ceb15d24070812a2c69cd68fc.bindTooltip(\n",
       "                `&lt;div&gt;\n",
       "                     송파구청\n",
       "                 &lt;/div&gt;`,\n",
       "                {&quot;sticky&quot;: true}\n",
       "            );\n",
       "        \n",
       "    \n",
       "            var circle_46c00ca1f4f8c756a961a92d6e7d5134 = L.circle(\n",
       "                [37.5634263131969, 126.903356973848],\n",
       "                {&quot;bubblingMouseEvents&quot;: true, &quot;color&quot;: &quot;red&quot;, &quot;dashArray&quot;: null, &quot;dashOffset&quot;: null, &quot;fill&quot;: true, &quot;fillColor&quot;: &quot;#3186cc&quot;, &quot;fillOpacity&quot;: 0.2, &quot;fillRule&quot;: &quot;evenodd&quot;, &quot;lineCap&quot;: &quot;round&quot;, &quot;lineJoin&quot;: &quot;round&quot;, &quot;opacity&quot;: 1.0, &quot;radius&quot;: 300, &quot;stroke&quot;: true, &quot;weight&quot;: 3}\n",
       "            ).addTo(map_e1bf7e44a2c817ea6d131c5da91ad979);\n",
       "        \n",
       "    \n",
       "        var popup_25e504b66818a8fc7100a364a884773f = L.popup({&quot;maxWidth&quot;: 200});\n",
       "\n",
       "        \n",
       "            \n",
       "                var html_c4b9123eaaa4d697821b6db0b71245db = $(`&lt;div id=&quot;html_c4b9123eaaa4d697821b6db0b71245db&quot; style=&quot;width: 100.0%; height: 100.0%;&quot;&gt;서울특별시 마포구 월드컵로 지하190(성산동)&lt;/div&gt;`)[0];\n",
       "                popup_25e504b66818a8fc7100a364a884773f.setContent(html_c4b9123eaaa4d697821b6db0b71245db);\n",
       "            \n",
       "        \n",
       "\n",
       "        circle_46c00ca1f4f8c756a961a92d6e7d5134.bindPopup(popup_25e504b66818a8fc7100a364a884773f)\n",
       "        ;\n",
       "\n",
       "        \n",
       "    \n",
       "    \n",
       "            circle_46c00ca1f4f8c756a961a92d6e7d5134.bindTooltip(\n",
       "                `&lt;div&gt;\n",
       "                     마포구청\n",
       "                 &lt;/div&gt;`,\n",
       "                {&quot;sticky&quot;: true}\n",
       "            );\n",
       "        \n",
       "    \n",
       "            var circle_b53b73a1a49189fa0f333be323f4c3f1 = L.circle(\n",
       "                [37.5170753784215, 126.866542541936],\n",
       "                {&quot;bubblingMouseEvents&quot;: true, &quot;color&quot;: &quot;red&quot;, &quot;dashArray&quot;: null, &quot;dashOffset&quot;: null, &quot;fill&quot;: true, &quot;fillColor&quot;: &quot;#3186cc&quot;, &quot;fillOpacity&quot;: 0.2, &quot;fillRule&quot;: &quot;evenodd&quot;, &quot;lineCap&quot;: &quot;round&quot;, &quot;lineJoin&quot;: &quot;round&quot;, &quot;opacity&quot;: 1.0, &quot;radius&quot;: 300, &quot;stroke&quot;: true, &quot;weight&quot;: 3}\n",
       "            ).addTo(map_e1bf7e44a2c817ea6d131c5da91ad979);\n",
       "        \n",
       "    \n",
       "        var popup_13825157e75755b190fcda896b46eb08 = L.popup({&quot;maxWidth&quot;: 200});\n",
       "\n",
       "        \n",
       "            \n",
       "                var html_188936d0439f376fdf115194b49e12f1 = $(`&lt;div id=&quot;html_188936d0439f376fdf115194b49e12f1&quot; style=&quot;width: 100.0%; height: 100.0%;&quot;&gt;서울특별시 양천구 목동동로 105(신정동)&lt;/div&gt;`)[0];\n",
       "                popup_13825157e75755b190fcda896b46eb08.setContent(html_188936d0439f376fdf115194b49e12f1);\n",
       "            \n",
       "        \n",
       "\n",
       "        circle_b53b73a1a49189fa0f333be323f4c3f1.bindPopup(popup_13825157e75755b190fcda896b46eb08)\n",
       "        ;\n",
       "\n",
       "        \n",
       "    \n",
       "    \n",
       "            circle_b53b73a1a49189fa0f333be323f4c3f1.bindTooltip(\n",
       "                `&lt;div&gt;\n",
       "                     양천구청\n",
       "                 &lt;/div&gt;`,\n",
       "                {&quot;sticky&quot;: true}\n",
       "            );\n",
       "        \n",
       "&lt;/script&gt;\n",
       "&lt;/html&gt;\" style=\"position:absolute;width:100%;height:100%;left:0;top:0;border:none !important;\" allowfullscreen webkitallowfullscreen mozallowfullscreen></iframe></div></div>"
      ],
      "text/plain": [
       "<folium.folium.Map at 0x280a2704970>"
      ]
     },
     "execution_count": 47,
     "metadata": {},
     "output_type": "execute_result"
    }
   ],
   "source": [
    "#공공기관 위치 표시한거임\n",
    "map = folium.Map(location=[df.위도.mean(), df.경도.mean()],\n",
    "                zoom_start=12)\n",
    "for i in df.index:\n",
    "    folium.Circle(radius=300,\n",
    "                 location=[df.위도[i], df.경도[i]],\n",
    "                 popup=folium.Popup(df.도로명주소[i], max_width=200),\n",
    "                 tooltip=df.공공기관[i],\n",
    "                 color = 'red',\n",
    "                 fill=True,\n",
    "                 fill_color = '#3186cc').add_to(map)\n",
    "title = '<h3 align=\"center\" style=\"font-size:20\"> 서울시 구청</h3>'\n",
    "map.get_root().html.add_child(folium.Element(title))\n",
    "map"
   ]
  },
  {
   "cell_type": "code",
   "execution_count": 46,
   "id": "fd4aa3c1",
   "metadata": {},
   "outputs": [
    {
     "name": "stderr",
     "output_type": "stream",
     "text": [
      "C:\\Users\\tjoeun\\AppData\\Local\\Temp\\ipykernel_6636\\1167365381.py:2: DeprecationWarning: Importing display from IPython.core.display is deprecated since IPython 7.14, please import from IPython display\n",
      "  from IPython.core.display import display, HTML\n"
     ]
    },
    {
     "data": {
      "text/html": [
       "<style>.container { width:95% !important; }</style>"
      ],
      "text/plain": [
       "<IPython.core.display.HTML object>"
      ]
     },
     "metadata": {},
     "output_type": "display_data"
    }
   ],
   "source": [
    "# 사용 화면크기조절\n",
    "from IPython.core.display import display, HTML\n",
    "display(HTML(\"<style>.container { width:95% !important; }</style>\"))"
   ]
  },
  {
   "cell_type": "code",
   "execution_count": null,
   "id": "2c3e0a27",
   "metadata": {},
   "outputs": [],
   "source": []
  }
 ],
 "metadata": {
  "kernelspec": {
   "display_name": "Python 3 (ipykernel)",
   "language": "python",
   "name": "python3"
  },
  "language_info": {
   "codemirror_mode": {
    "name": "ipython",
    "version": 3
   },
   "file_extension": ".py",
   "mimetype": "text/x-python",
   "name": "python",
   "nbconvert_exporter": "python",
   "pygments_lexer": "ipython3",
   "version": "3.8.7"
  }
 },
 "nbformat": 4,
 "nbformat_minor": 5
}
