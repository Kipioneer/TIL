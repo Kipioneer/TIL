{
 "cells": [
  {
   "cell_type": "code",
   "execution_count": 1,
   "id": "1b4fae5d",
   "metadata": {},
   "outputs": [],
   "source": [
    "filename = './data1/행안부API.txt'\n",
    "with open(filename) as f:\n",
    "    api_key = f.read()"
   ]
  },
  {
   "cell_type": "code",
   "execution_count": 6,
   "id": "0e35a5f6",
   "metadata": {
    "scrolled": true
   },
   "outputs": [
    {
     "data": {
      "text/plain": [
       "43"
      ]
     },
     "execution_count": 6,
     "metadata": {},
     "output_type": "execute_result"
    }
   ],
   "source": [
    "len(api_key)"
   ]
  },
  {
   "cell_type": "code",
   "execution_count": null,
   "id": "f8d6caf0",
   "metadata": {},
   "outputs": [],
   "source": [
    "# colab 에서 할때 아마도?"
   ]
  },
  {
   "cell_type": "code",
   "execution_count": 7,
   "id": "309592c8",
   "metadata": {},
   "outputs": [],
   "source": [
    "#from google.colab import files\n",
    "#uploaded = files.upload()"
   ]
  },
  {
   "cell_type": "code",
   "execution_count": 8,
   "id": "b6a520af",
   "metadata": {},
   "outputs": [],
   "source": [
    "#filename = list(uploaded.keys())[0]\n",
    "#with open(filename) as f:\n",
    "#    api_key = f.read()\n",
    "#len(api_key)"
   ]
  },
  {
   "cell_type": "code",
   "execution_count": 9,
   "id": "1527c4cf",
   "metadata": {},
   "outputs": [],
   "source": [
    "import requests \n",
    "# html 다루거나 웹에 접속할 대 사용하는 , 외부 요청으로 받아오는  패키지\n",
    "from urllib.parse import quote\n",
    "import json"
   ]
  },
  {
   "cell_type": "code",
   "execution_count": 10,
   "id": "39dd519c",
   "metadata": {},
   "outputs": [
    {
     "data": {
      "text/plain": [
       "'%EC%84%9C%EC%9A%B8%ED%8A%B9%EB%B3%84%EC%8B%9C%EC%B2%AD'"
      ]
     },
     "execution_count": 10,
     "metadata": {},
     "output_type": "execute_result"
    }
   ],
   "source": [
    "bldg = '서울특별시청'\n",
    "quote(bldg) # quote: (마지막)주소값인셈임"
   ]
  },
  {
   "cell_type": "markdown",
   "id": "4f5f2d4b",
   "metadata": {},
   "source": [
    "Q.quote란?\n",
    "1.인터넷에 '서울특별시청' 검색 주소창 마지막: query = 서울특별시청\n",
    "\n",
    "복사+붙여넣기 해서 보면 한글(문자)이 아님: %EC%84%9C%EC%9A%B8%ED%8A%B9%EB%B3%84%EC%8B%9C%EC%B2%AD\n",
    "\n",
    "위 quote(bldg와 같음)\n",
    "\n",
    "https://search.naver.com/search.naver?where=nexearch&sm=top_hty&fbm=0&ie=utf8&query=%EC%84%9C%EC%9A%B8%ED%8A%B9%EB%B3%84%EC%8B%9C%EC%B2%AD\n",
    "\n",
    "대구시청\n",
    "https://search.naver.com/search.naver?where=nexearch&sm=top_hty&fbm=0&ie=utf8&query=%EB%8C%80%EA%B5%AC%EC%8B%9C%EC%B2%AD"
   ]
  },
  {
   "cell_type": "code",
   "execution_count": 11,
   "id": "6614184f",
   "metadata": {},
   "outputs": [
    {
     "data": {
      "text/plain": [
       "'%EB%8C%80%EA%B5%AC%EC%8B%9C%EC%B2%AD'"
      ]
     },
     "execution_count": 11,
     "metadata": {},
     "output_type": "execute_result"
    }
   ],
   "source": [
    "bldg = '대구시청'\n",
    "quote(bldg)"
   ]
  },
  {
   "cell_type": "markdown",
   "id": "e48094e9",
   "metadata": {},
   "source": [
    "행안부\n",
    "https://business.juso.go.kr/addrlink/openApi/searchApi.do\n",
    "\n",
    "기술제공 > API신청 > 검색API > 웹호출소스보기 > '가이드 및 소스 다운로드'\n",
    "\n",
    "'검색API활용 가이드'파일 열어보기\n",
    "\n",
    "p10 샘플 데이터 보기(json) 복사\n",
    "\n",
    "https://business.juso.go.kr/addrlink/addrLinkApi.do?currentPage=1&countPerPage=10&keyword=강남대로12길&confmKey=TESTJUSOGOKR&resultType=json"
   ]
  },
  {
   "cell_type": "code",
   "execution_count": 14,
   "id": "480e9f83",
   "metadata": {},
   "outputs": [],
   "source": [
    "base_url = 'https://business.juso.go.kr/addrlink/addrLinkApi.do'\n",
    "params1 = f'?currentPage=1&countPerPage=10&keyword={quote(\"서울특별시청\")}'\n",
    "# 서울특별ㄹ시청 같은거는   #큰따옴표만 사용\n",
    "params2 = f'&confmKey={api_key}&resultType=json'\n",
    "url = f'{base_url}?{params1}?{params2}' #요청을 보낼 합친 주소"
   ]
  },
  {
   "cell_type": "code",
   "execution_count": 15,
   "id": "b10c6c40",
   "metadata": {},
   "outputs": [
    {
     "data": {
      "text/plain": [
       "'https://business.juso.go.kr/addrlink/addrLinkApi.do??currentPage=1&countPerPage=10&keyword=%EC%84%9C%EC%9A%B8%ED%8A%B9%EB%B3%84%EC%8B%9C%EC%B2%AD?&confmKey=devU01TX0FVVEgyMDIzMDMyMzEyMDg1OTExMzYxODE=&resultType=json'"
      ]
     },
     "execution_count": 15,
     "metadata": {},
     "output_type": "execute_result"
    }
   ],
   "source": [
    "url \n",
    "# chrome에서 열어보면 정보가 있음, 실행하면 key값이 보이므로 github공유시유의할 것"
   ]
  },
  {
   "cell_type": "code",
   "execution_count": 16,
   "id": "265c0e3f",
   "metadata": {},
   "outputs": [
    {
     "data": {
      "text/plain": [
       "200"
      ]
     },
     "execution_count": 16,
     "metadata": {},
     "output_type": "execute_result"
    }
   ],
   "source": [
    "result = requests.get(url) #url을 보내서 받아온 정보를 저장\n",
    "result.status_code  \n",
    "#url 주소 잘못 입력되면 404 Error, 200은 정상적 소통이 됐을 때 뜨는 코드임"
   ]
  },
  {
   "cell_type": "code",
   "execution_count": 17,
   "id": "7f2cb409",
   "metadata": {},
   "outputs": [
    {
     "data": {
      "text/plain": [
       "'{\"results\":{\"common\":{\"errorMessage\":\"정상\",\"countPerPage\":\"10\",\"totalCount\":\"1\",\"errorCode\":\"0\",\"currentPage\":\"1\"},\"juso\":[{\"detBdNmList\":\"본관동,신관\",\"engAddr\":\"110 Sejong-daero, Jung-gu, Seoul\",\"rn\":\"세종대로\",\"emdNm\":\"태평로1가\",\"zipNo\":\"04524\",\"roadAddrPart2\":\"(태평로1가)\",\"emdNo\":\"02\",\"sggNm\":\"중구\",\"jibunAddr\":\"서울특별시 중구 태평로1가 31 서울특별시청\",\"siNm\":\"서울특별시\",\"roadAddrPart1\":\"서울특별시 중구 세종대로 110\",\"bdNm\":\"서울특별시청\",\"admCd\":\"1114010300\",\"udrtYn\":\"0\",\"lnbrMnnm\":\"31\",\"roadAddr\":\"서울특별시 중구 세종대로 110(태평로1가)\",\"lnbrSlno\":\"0\",\"buldMnnm\":\"110\",\"bdKdcd\":\"0\",\"liNm\":\"\",\"rnMgtSn\":\"111402005001\",\"mtYn\":\"0\",\"bdMgtSn\":\"1114010300100310000019224\",\"buldSlno\":\"0\"}]}}'"
      ]
     },
     "execution_count": 17,
     "metadata": {},
     "output_type": "execute_result"
    }
   ],
   "source": [
    "result.text #결과가 안뜨면 주소가 잘못됐거나 API키가 잘못된 것임"
   ]
  },
  {
   "cell_type": "code",
   "execution_count": 18,
   "id": "9c4b04ef",
   "metadata": {},
   "outputs": [],
   "source": [
    "########### 제대로된 결과가 안 나오면 ############# 위 대신에 아래를 다시 실행해볼 것\n",
    "#base_url = 'https://business.juso.go.kr/addrlink/addrLinkApi.do'\n",
    "#params1 = f'currentPage=1&countPerPage=10&confmKey={api_key}'\n",
    "#params2 = f'keyword={quote(\"서울특별시청\")}&resultType=json'\n",
    "#url = f'{base_url}?{params1}&{params2}'"
   ]
  },
  {
   "cell_type": "code",
   "execution_count": 19,
   "id": "cd9463c4",
   "metadata": {},
   "outputs": [
    {
     "data": {
      "text/plain": [
       "{'results': {'common': {'errorMessage': '정상',\n",
       "   'countPerPage': '10',\n",
       "   'totalCount': '1',\n",
       "   'errorCode': '0',\n",
       "   'currentPage': '1'},\n",
       "  'juso': [{'detBdNmList': '본관동,신관',\n",
       "    'engAddr': '110 Sejong-daero, Jung-gu, Seoul',\n",
       "    'rn': '세종대로',\n",
       "    'emdNm': '태평로1가',\n",
       "    'zipNo': '04524',\n",
       "    'roadAddrPart2': '(태평로1가)',\n",
       "    'emdNo': '02',\n",
       "    'sggNm': '중구',\n",
       "    'jibunAddr': '서울특별시 중구 태평로1가 31 서울특별시청',\n",
       "    'siNm': '서울특별시',\n",
       "    'roadAddrPart1': '서울특별시 중구 세종대로 110',\n",
       "    'bdNm': '서울특별시청',\n",
       "    'admCd': '1114010300',\n",
       "    'udrtYn': '0',\n",
       "    'lnbrMnnm': '31',\n",
       "    'roadAddr': '서울특별시 중구 세종대로 110(태평로1가)',\n",
       "    'lnbrSlno': '0',\n",
       "    'buldMnnm': '110',\n",
       "    'bdKdcd': '0',\n",
       "    'liNm': '',\n",
       "    'rnMgtSn': '111402005001',\n",
       "    'mtYn': '0',\n",
       "    'bdMgtSn': '1114010300100310000019224',\n",
       "    'buldSlno': '0'}]}}"
      ]
     },
     "execution_count": 19,
     "metadata": {},
     "output_type": "execute_result"
    }
   ],
   "source": [
    "#result.text를 json으로 바꾸기\n",
    "\n",
    "res = json.loads(result.text)\n",
    "res"
   ]
  },
  {
   "cell_type": "code",
   "execution_count": 20,
   "id": "17f794e6",
   "metadata": {},
   "outputs": [
    {
     "data": {
      "text/plain": [
       "'서울특별시 중구 세종대로 110(태평로1가)'"
      ]
     },
     "execution_count": 20,
     "metadata": {},
     "output_type": "execute_result"
    }
   ],
   "source": [
    "# roadAddr: '서울특별시 중구 세종대로 110(태평로1가) 뽑아보기\n",
    "\n",
    "road_add = res['results']['juso'][0]['roadAddr']\n",
    "road_add"
   ]
  },
  {
   "cell_type": "code",
   "execution_count": 22,
   "id": "140191b2",
   "metadata": {},
   "outputs": [
    {
     "data": {
      "text/plain": [
       "['종로구청', '노원구청', '송파구청', '마포구청', '양천구청']"
      ]
     },
     "execution_count": 22,
     "metadata": {},
     "output_type": "execute_result"
    }
   ],
   "source": [
    "# 여러개 해보기\n",
    "\n",
    "places = '종로구청 노원구청 송파구청 마포구청 양천구청'\n",
    "places = places.split(' ') ## 여기 빈칸 한개 \n",
    "places"
   ]
  },
  {
   "cell_type": "code",
   "execution_count": 25,
   "id": "43da4793",
   "metadata": {},
   "outputs": [],
   "source": [
    "base_url = 'https://business.juso.go.kr/addrlink/addrLinkApi.do' #위에서\n",
    "params2 = f'&confmKey={api_key}&resultType=json' #위에서\n",
    "\n",
    "addr_list = []\n",
    "for i in places:\n",
    "    params1 = params1 = f'?currentPage=1&countPerPage=10&keyword={quote(i)}' #위에서\n",
    "    url = f'{base_url}{params1}?{params2}'\n",
    "    result = requests.get(url)\n",
    "    res = json.loads(result.text)\n",
    "    road_add = res['results']['juso'][0]['roadAddr']\n",
    "    addr_list.append(road_add)"
   ]
  },
  {
   "cell_type": "code",
   "execution_count": 26,
   "id": "0be7f8af",
   "metadata": {},
   "outputs": [
    {
     "data": {
      "text/plain": [
       "['서울특별시 종로구 종로1길 36(수송동)',\n",
       " '서울특별시 노원구 노해로 437(상계동)',\n",
       " '서울특별시 송파구 올림픽로 326(신천동)',\n",
       " '서울특별시 마포구 월드컵로 지하190(성산동)',\n",
       " '서울특별시 양천구 목동동로 105(신정동)']"
      ]
     },
     "execution_count": 26,
     "metadata": {},
     "output_type": "execute_result"
    }
   ],
   "source": [
    "addr_list"
   ]
  },
  {
   "cell_type": "code",
   "execution_count": 28,
   "id": "f8574e0e",
   "metadata": {},
   "outputs": [],
   "source": [
    "import pandas as pd"
   ]
  },
  {
   "cell_type": "code",
   "execution_count": 29,
   "id": "49065bc6",
   "metadata": {},
   "outputs": [],
   "source": [
    "df = pd.DataFrame({'공공기관':places, '도로명주소':addr_list})\n",
    "df.to_csv('./data1/공공기관_행안부.csv')"
   ]
  },
  {
   "cell_type": "code",
   "execution_count": 30,
   "id": "7b8a41a2",
   "metadata": {},
   "outputs": [
    {
     "data": {
      "text/html": [
       "<div>\n",
       "<style scoped>\n",
       "    .dataframe tbody tr th:only-of-type {\n",
       "        vertical-align: middle;\n",
       "    }\n",
       "\n",
       "    .dataframe tbody tr th {\n",
       "        vertical-align: top;\n",
       "    }\n",
       "\n",
       "    .dataframe thead th {\n",
       "        text-align: right;\n",
       "    }\n",
       "</style>\n",
       "<table border=\"1\" class=\"dataframe\">\n",
       "  <thead>\n",
       "    <tr style=\"text-align: right;\">\n",
       "      <th></th>\n",
       "      <th>공공기관</th>\n",
       "      <th>도로명주소</th>\n",
       "    </tr>\n",
       "  </thead>\n",
       "  <tbody>\n",
       "    <tr>\n",
       "      <th>0</th>\n",
       "      <td>종로구청</td>\n",
       "      <td>서울특별시 종로구 종로1길 36(수송동)</td>\n",
       "    </tr>\n",
       "    <tr>\n",
       "      <th>1</th>\n",
       "      <td>노원구청</td>\n",
       "      <td>서울특별시 노원구 노해로 437(상계동)</td>\n",
       "    </tr>\n",
       "    <tr>\n",
       "      <th>2</th>\n",
       "      <td>송파구청</td>\n",
       "      <td>서울특별시 송파구 올림픽로 326(신천동)</td>\n",
       "    </tr>\n",
       "    <tr>\n",
       "      <th>3</th>\n",
       "      <td>마포구청</td>\n",
       "      <td>서울특별시 마포구 월드컵로 지하190(성산동)</td>\n",
       "    </tr>\n",
       "    <tr>\n",
       "      <th>4</th>\n",
       "      <td>양천구청</td>\n",
       "      <td>서울특별시 양천구 목동동로 105(신정동)</td>\n",
       "    </tr>\n",
       "  </tbody>\n",
       "</table>\n",
       "</div>"
      ],
      "text/plain": [
       "   공공기관                      도로명주소\n",
       "0  종로구청     서울특별시 종로구 종로1길 36(수송동)\n",
       "1  노원구청     서울특별시 노원구 노해로 437(상계동)\n",
       "2  송파구청    서울특별시 송파구 올림픽로 326(신천동)\n",
       "3  마포구청  서울특별시 마포구 월드컵로 지하190(성산동)\n",
       "4  양천구청    서울특별시 양천구 목동동로 105(신정동)"
      ]
     },
     "execution_count": 30,
     "metadata": {},
     "output_type": "execute_result"
    }
   ],
   "source": [
    "df"
   ]
  },
  {
   "cell_type": "code",
   "execution_count": null,
   "id": "ddeabc33",
   "metadata": {},
   "outputs": [],
   "source": [
    "########### 제대로된 결과가 안 나오면 ############# 아래 이용\n",
    "\n",
    "base_url = 'https://business.juso.go.kr/addrlink/addrLinkApi.do'    # 위에서 가져옴\n",
    "params1 = f'currentPage=1&countPerPage=10&confmKey={api_key}'       # 위에서 가져옴\n",
    "\n",
    "addr_list = []\n",
    "for i in places:\n",
    "    params2 = f'keyword={quote(i)}&resultType=json'     # 위에서 가져옴, quote(i)만 변경\n",
    "    url = f'{base_url}?{params1}?{params2}'             # 위에서 가져옴\n",
    "    result = requests.get(url)\n",
    "    res = json.loads(result.text)\n",
    "    road_add = res['results']['juso'][0]['roadAddr']\n",
    "    addr_list.append(road_add)"
   ]
  }
 ],
 "metadata": {
  "kernelspec": {
   "display_name": "Python 3 (ipykernel)",
   "language": "python",
   "name": "python3"
  },
  "language_info": {
   "codemirror_mode": {
    "name": "ipython",
    "version": 3
   },
   "file_extension": ".py",
   "mimetype": "text/x-python",
   "name": "python",
   "nbconvert_exporter": "python",
   "pygments_lexer": "ipython3",
   "version": "3.8.7"
  }
 },
 "nbformat": 4,
 "nbformat_minor": 5
}
