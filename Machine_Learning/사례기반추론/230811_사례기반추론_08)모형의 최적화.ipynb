{
 "cells": [
  {
   "cell_type": "code",
   "execution_count": 11,
   "metadata": {
    "collapsed": true,
    "ExecuteTime": {
     "start_time": "2023-08-11T12:59:10.573815Z",
     "end_time": "2023-08-11T12:59:10.630662Z"
    }
   },
   "outputs": [
    {
     "data": {
      "text/plain": "   id         player_name    birthday preferred_foot  age  height  weight  \\\n0   1  Aaron Appindangoye  1992-02-29          right   27     183     187   \n1   2     Aaron Cresswell  1989-12-15          right   30     170     146   \n2   3         Aaron Doran  1991-05-13          right   28     170     163   \n3   4       Aaron Galindo  1982-05-08          right   37     183     198   \n4   5        Aaron Hughes  1979-11-08          right   40     183     154   \n\n   potential  right_foot  left_foot  ...  marking  standing_tackle  \\\n0         71           1          0  ...       65               69   \n1         71           1          0  ...       65               69   \n2         66           1          0  ...       65               66   \n3         65           1          0  ...       62               63   \n4         65           1          0  ...       62               63   \n\n   sliding_tackle  gk_diving  gk_handling  gk_kicking  gk_positioning  \\\n0              69          6           11          10               8   \n1              69          6           11          10               8   \n2              69          6           11          10               8   \n3              66          5           10           9               7   \n4              66          5           10           9               7   \n\n   gk_reflexes  overall_rating  Label  \n0            8              67      0  \n1            8              67      0  \n2            8              62      0  \n3            7              61      0  \n4            7              61      0  \n\n[5 rows x 45 columns]",
      "text/html": "<div>\n<style scoped>\n    .dataframe tbody tr th:only-of-type {\n        vertical-align: middle;\n    }\n\n    .dataframe tbody tr th {\n        vertical-align: top;\n    }\n\n    .dataframe thead th {\n        text-align: right;\n    }\n</style>\n<table border=\"1\" class=\"dataframe\">\n  <thead>\n    <tr style=\"text-align: right;\">\n      <th></th>\n      <th>id</th>\n      <th>player_name</th>\n      <th>birthday</th>\n      <th>preferred_foot</th>\n      <th>age</th>\n      <th>height</th>\n      <th>weight</th>\n      <th>potential</th>\n      <th>right_foot</th>\n      <th>left_foot</th>\n      <th>...</th>\n      <th>marking</th>\n      <th>standing_tackle</th>\n      <th>sliding_tackle</th>\n      <th>gk_diving</th>\n      <th>gk_handling</th>\n      <th>gk_kicking</th>\n      <th>gk_positioning</th>\n      <th>gk_reflexes</th>\n      <th>overall_rating</th>\n      <th>Label</th>\n    </tr>\n  </thead>\n  <tbody>\n    <tr>\n      <th>0</th>\n      <td>1</td>\n      <td>Aaron Appindangoye</td>\n      <td>1992-02-29</td>\n      <td>right</td>\n      <td>27</td>\n      <td>183</td>\n      <td>187</td>\n      <td>71</td>\n      <td>1</td>\n      <td>0</td>\n      <td>...</td>\n      <td>65</td>\n      <td>69</td>\n      <td>69</td>\n      <td>6</td>\n      <td>11</td>\n      <td>10</td>\n      <td>8</td>\n      <td>8</td>\n      <td>67</td>\n      <td>0</td>\n    </tr>\n    <tr>\n      <th>1</th>\n      <td>2</td>\n      <td>Aaron Cresswell</td>\n      <td>1989-12-15</td>\n      <td>right</td>\n      <td>30</td>\n      <td>170</td>\n      <td>146</td>\n      <td>71</td>\n      <td>1</td>\n      <td>0</td>\n      <td>...</td>\n      <td>65</td>\n      <td>69</td>\n      <td>69</td>\n      <td>6</td>\n      <td>11</td>\n      <td>10</td>\n      <td>8</td>\n      <td>8</td>\n      <td>67</td>\n      <td>0</td>\n    </tr>\n    <tr>\n      <th>2</th>\n      <td>3</td>\n      <td>Aaron Doran</td>\n      <td>1991-05-13</td>\n      <td>right</td>\n      <td>28</td>\n      <td>170</td>\n      <td>163</td>\n      <td>66</td>\n      <td>1</td>\n      <td>0</td>\n      <td>...</td>\n      <td>65</td>\n      <td>66</td>\n      <td>69</td>\n      <td>6</td>\n      <td>11</td>\n      <td>10</td>\n      <td>8</td>\n      <td>8</td>\n      <td>62</td>\n      <td>0</td>\n    </tr>\n    <tr>\n      <th>3</th>\n      <td>4</td>\n      <td>Aaron Galindo</td>\n      <td>1982-05-08</td>\n      <td>right</td>\n      <td>37</td>\n      <td>183</td>\n      <td>198</td>\n      <td>65</td>\n      <td>1</td>\n      <td>0</td>\n      <td>...</td>\n      <td>62</td>\n      <td>63</td>\n      <td>66</td>\n      <td>5</td>\n      <td>10</td>\n      <td>9</td>\n      <td>7</td>\n      <td>7</td>\n      <td>61</td>\n      <td>0</td>\n    </tr>\n    <tr>\n      <th>4</th>\n      <td>5</td>\n      <td>Aaron Hughes</td>\n      <td>1979-11-08</td>\n      <td>right</td>\n      <td>40</td>\n      <td>183</td>\n      <td>154</td>\n      <td>65</td>\n      <td>1</td>\n      <td>0</td>\n      <td>...</td>\n      <td>62</td>\n      <td>63</td>\n      <td>66</td>\n      <td>5</td>\n      <td>10</td>\n      <td>9</td>\n      <td>7</td>\n      <td>7</td>\n      <td>61</td>\n      <td>0</td>\n    </tr>\n  </tbody>\n</table>\n<p>5 rows × 45 columns</p>\n</div>"
     },
     "execution_count": 11,
     "metadata": {},
     "output_type": "execute_result"
    }
   ],
   "source": [
    "# validation_curve : 단일 하이퍼 파라미터 최적화\n",
    "# GridSearchCV : 그리드를 사용한 복수 하이퍼 파라미터 최적화\n",
    "\n",
    "import pandas as pd\n",
    "df = pd.read_csv('c:/work/data/soccor/player.csv')\n",
    "df.head()"
   ]
  },
  {
   "cell_type": "code",
   "execution_count": 12,
   "outputs": [
    {
     "name": "stdout",
     "output_type": "stream",
     "text": [
      "Index(['age', 'height', 'weight', 'potential', 'right_foot', 'left_foot',\n",
      "       'crossing', 'finishing', 'heading_accuracy', 'short_passing', 'volleys',\n",
      "       'dribbling', 'curve', 'free_kick_accuracy', 'long_passing',\n",
      "       'ball_control', 'acceleration', 'sprint_speed', 'agility', 'reactions',\n",
      "       'balance', 'shot_power', 'jumping', 'stamina', 'strength', 'long_shots',\n",
      "       'aggression', 'interceptions', 'positioning', 'vision', 'penalties',\n",
      "       'marking', 'standing_tackle', 'sliding_tackle', 'gk_diving',\n",
      "       'gk_handling', 'gk_kicking', 'gk_positioning', 'gk_reflexes'],\n",
      "      dtype='object')\n"
     ]
    },
    {
     "data": {
      "text/plain": "Label\n1    5705\n0    5230\nName: count, dtype: int64"
     },
     "execution_count": 12,
     "metadata": {},
     "output_type": "execute_result"
    }
   ],
   "source": [
    "train_cols = df.columns[4:43]\n",
    "print(train_cols)\n",
    "X = df[train_cols] # 독립변수\n",
    "y = df['Label'] # 종속변수\n",
    "y.value_counts()"
   ],
   "metadata": {
    "collapsed": false,
    "ExecuteTime": {
     "start_time": "2023-08-11T12:59:11.401386Z",
     "end_time": "2023-08-11T12:59:11.421926Z"
    }
   }
  },
  {
   "cell_type": "code",
   "execution_count": 13,
   "outputs": [
    {
     "data": {
      "text/plain": "       age  height  weight  potential  right_foot  left_foot  crossing  \\\n0       27     183     187         71           1          0        49   \n1       30     170     146         71           1          0        49   \n2       28     170     163         66           1          0        49   \n3       37     183     198         65           1          0        48   \n4       40     183     154         65           1          0        48   \n...    ...     ...     ...        ...         ...        ...       ...   \n10930   40     183     168         68           1          0        58   \n10931   33     183     176         68           1          0        11   \n10932   40     180     154         70           1          0        11   \n10933   38     185     172         75           1          0        11   \n10934   37     180     176         75           1          0        11   \n\n       finishing  heading_accuracy  short_passing  ...  vision  penalties  \\\n0             44                71             61  ...      54         48   \n1             44                71             61  ...      54         48   \n2             44                71             61  ...      54         48   \n3             43                70             60  ...      53         47   \n4             43                70             60  ...      53         47   \n...          ...               ...            ...  ...     ...        ...   \n10930         54                52             63  ...      60         63   \n10931         11                13             23  ...      33         30   \n10932         11                13             23  ...      33         30   \n10933         11                13             23  ...      31         18   \n10934          6                13             23  ...      31         18   \n\n       marking  standing_tackle  sliding_tackle  gk_diving  gk_handling  \\\n0           65               69              69          6           11   \n1           65               69              69          6           11   \n2           65               66              69          6           11   \n3           62               63              66          5           10   \n4           62               63              66          5           10   \n...        ...              ...             ...        ...          ...   \n10930       38               32              46          8           20   \n10931       11               12              13         69           70   \n10932       11               12              13         71           70   \n10933       11               12              13         71           70   \n10934       11                7               8         71           74   \n\n       gk_kicking  gk_positioning  gk_reflexes  \n0              10               8            8  \n1              10               8            8  \n2              10               8            8  \n3               9               7            7  \n4               9               7            7  \n...           ...             ...          ...  \n10930          54              20           20  \n10931          54              73           66  \n10932          56              73           71  \n10933          56              73           71  \n10934          56              77           73  \n\n[10935 rows x 39 columns]",
      "text/html": "<div>\n<style scoped>\n    .dataframe tbody tr th:only-of-type {\n        vertical-align: middle;\n    }\n\n    .dataframe tbody tr th {\n        vertical-align: top;\n    }\n\n    .dataframe thead th {\n        text-align: right;\n    }\n</style>\n<table border=\"1\" class=\"dataframe\">\n  <thead>\n    <tr style=\"text-align: right;\">\n      <th></th>\n      <th>age</th>\n      <th>height</th>\n      <th>weight</th>\n      <th>potential</th>\n      <th>right_foot</th>\n      <th>left_foot</th>\n      <th>crossing</th>\n      <th>finishing</th>\n      <th>heading_accuracy</th>\n      <th>short_passing</th>\n      <th>...</th>\n      <th>vision</th>\n      <th>penalties</th>\n      <th>marking</th>\n      <th>standing_tackle</th>\n      <th>sliding_tackle</th>\n      <th>gk_diving</th>\n      <th>gk_handling</th>\n      <th>gk_kicking</th>\n      <th>gk_positioning</th>\n      <th>gk_reflexes</th>\n    </tr>\n  </thead>\n  <tbody>\n    <tr>\n      <th>0</th>\n      <td>27</td>\n      <td>183</td>\n      <td>187</td>\n      <td>71</td>\n      <td>1</td>\n      <td>0</td>\n      <td>49</td>\n      <td>44</td>\n      <td>71</td>\n      <td>61</td>\n      <td>...</td>\n      <td>54</td>\n      <td>48</td>\n      <td>65</td>\n      <td>69</td>\n      <td>69</td>\n      <td>6</td>\n      <td>11</td>\n      <td>10</td>\n      <td>8</td>\n      <td>8</td>\n    </tr>\n    <tr>\n      <th>1</th>\n      <td>30</td>\n      <td>170</td>\n      <td>146</td>\n      <td>71</td>\n      <td>1</td>\n      <td>0</td>\n      <td>49</td>\n      <td>44</td>\n      <td>71</td>\n      <td>61</td>\n      <td>...</td>\n      <td>54</td>\n      <td>48</td>\n      <td>65</td>\n      <td>69</td>\n      <td>69</td>\n      <td>6</td>\n      <td>11</td>\n      <td>10</td>\n      <td>8</td>\n      <td>8</td>\n    </tr>\n    <tr>\n      <th>2</th>\n      <td>28</td>\n      <td>170</td>\n      <td>163</td>\n      <td>66</td>\n      <td>1</td>\n      <td>0</td>\n      <td>49</td>\n      <td>44</td>\n      <td>71</td>\n      <td>61</td>\n      <td>...</td>\n      <td>54</td>\n      <td>48</td>\n      <td>65</td>\n      <td>66</td>\n      <td>69</td>\n      <td>6</td>\n      <td>11</td>\n      <td>10</td>\n      <td>8</td>\n      <td>8</td>\n    </tr>\n    <tr>\n      <th>3</th>\n      <td>37</td>\n      <td>183</td>\n      <td>198</td>\n      <td>65</td>\n      <td>1</td>\n      <td>0</td>\n      <td>48</td>\n      <td>43</td>\n      <td>70</td>\n      <td>60</td>\n      <td>...</td>\n      <td>53</td>\n      <td>47</td>\n      <td>62</td>\n      <td>63</td>\n      <td>66</td>\n      <td>5</td>\n      <td>10</td>\n      <td>9</td>\n      <td>7</td>\n      <td>7</td>\n    </tr>\n    <tr>\n      <th>4</th>\n      <td>40</td>\n      <td>183</td>\n      <td>154</td>\n      <td>65</td>\n      <td>1</td>\n      <td>0</td>\n      <td>48</td>\n      <td>43</td>\n      <td>70</td>\n      <td>60</td>\n      <td>...</td>\n      <td>53</td>\n      <td>47</td>\n      <td>62</td>\n      <td>63</td>\n      <td>66</td>\n      <td>5</td>\n      <td>10</td>\n      <td>9</td>\n      <td>7</td>\n      <td>7</td>\n    </tr>\n    <tr>\n      <th>...</th>\n      <td>...</td>\n      <td>...</td>\n      <td>...</td>\n      <td>...</td>\n      <td>...</td>\n      <td>...</td>\n      <td>...</td>\n      <td>...</td>\n      <td>...</td>\n      <td>...</td>\n      <td>...</td>\n      <td>...</td>\n      <td>...</td>\n      <td>...</td>\n      <td>...</td>\n      <td>...</td>\n      <td>...</td>\n      <td>...</td>\n      <td>...</td>\n      <td>...</td>\n      <td>...</td>\n    </tr>\n    <tr>\n      <th>10930</th>\n      <td>40</td>\n      <td>183</td>\n      <td>168</td>\n      <td>68</td>\n      <td>1</td>\n      <td>0</td>\n      <td>58</td>\n      <td>54</td>\n      <td>52</td>\n      <td>63</td>\n      <td>...</td>\n      <td>60</td>\n      <td>63</td>\n      <td>38</td>\n      <td>32</td>\n      <td>46</td>\n      <td>8</td>\n      <td>20</td>\n      <td>54</td>\n      <td>20</td>\n      <td>20</td>\n    </tr>\n    <tr>\n      <th>10931</th>\n      <td>33</td>\n      <td>183</td>\n      <td>176</td>\n      <td>68</td>\n      <td>1</td>\n      <td>0</td>\n      <td>11</td>\n      <td>11</td>\n      <td>13</td>\n      <td>23</td>\n      <td>...</td>\n      <td>33</td>\n      <td>30</td>\n      <td>11</td>\n      <td>12</td>\n      <td>13</td>\n      <td>69</td>\n      <td>70</td>\n      <td>54</td>\n      <td>73</td>\n      <td>66</td>\n    </tr>\n    <tr>\n      <th>10932</th>\n      <td>40</td>\n      <td>180</td>\n      <td>154</td>\n      <td>70</td>\n      <td>1</td>\n      <td>0</td>\n      <td>11</td>\n      <td>11</td>\n      <td>13</td>\n      <td>23</td>\n      <td>...</td>\n      <td>33</td>\n      <td>30</td>\n      <td>11</td>\n      <td>12</td>\n      <td>13</td>\n      <td>71</td>\n      <td>70</td>\n      <td>56</td>\n      <td>73</td>\n      <td>71</td>\n    </tr>\n    <tr>\n      <th>10933</th>\n      <td>38</td>\n      <td>185</td>\n      <td>172</td>\n      <td>75</td>\n      <td>1</td>\n      <td>0</td>\n      <td>11</td>\n      <td>11</td>\n      <td>13</td>\n      <td>23</td>\n      <td>...</td>\n      <td>31</td>\n      <td>18</td>\n      <td>11</td>\n      <td>12</td>\n      <td>13</td>\n      <td>71</td>\n      <td>70</td>\n      <td>56</td>\n      <td>73</td>\n      <td>71</td>\n    </tr>\n    <tr>\n      <th>10934</th>\n      <td>37</td>\n      <td>180</td>\n      <td>176</td>\n      <td>75</td>\n      <td>1</td>\n      <td>0</td>\n      <td>11</td>\n      <td>6</td>\n      <td>13</td>\n      <td>23</td>\n      <td>...</td>\n      <td>31</td>\n      <td>18</td>\n      <td>11</td>\n      <td>7</td>\n      <td>8</td>\n      <td>71</td>\n      <td>74</td>\n      <td>56</td>\n      <td>77</td>\n      <td>73</td>\n    </tr>\n  </tbody>\n</table>\n<p>10935 rows × 39 columns</p>\n</div>"
     },
     "execution_count": 13,
     "metadata": {},
     "output_type": "execute_result"
    }
   ],
   "source": [
    "X"
   ],
   "metadata": {
    "collapsed": false,
    "ExecuteTime": {
     "start_time": "2023-08-11T12:59:16.058655Z",
     "end_time": "2023-08-11T12:59:16.107693Z"
    }
   }
  },
  {
   "cell_type": "code",
   "execution_count": 14,
   "outputs": [
    {
     "data": {
      "text/plain": "Label\n0    5230\n1    5230\nName: count, dtype: int64"
     },
     "execution_count": 14,
     "metadata": {},
     "output_type": "execute_result"
    }
   ],
   "source": [
    "# 언더샘플링\n",
    "from imblearn.under_sampling import RandomUnderSampler\n",
    "X_sample, y_sample = RandomUnderSampler(random_state=0).fit_resample(X,y)\n",
    "X_samp = pd.DataFrame(data=X_sample, columns=train_cols)\n",
    "y_samp = pd.DataFrame(data=y_sample, columns=['Label'])\n",
    "df_samp=pd.concat([X_samp, y_samp], axis=1)\n",
    "df_samp.Label.value_counts()"
   ],
   "metadata": {
    "collapsed": false,
    "ExecuteTime": {
     "start_time": "2023-08-11T12:59:22.553652Z",
     "end_time": "2023-08-11T12:59:22.594541Z"
    }
   }
  },
  {
   "cell_type": "code",
   "execution_count": 15,
   "outputs": [],
   "source": [
    "X = df_samp[train_cols] # 독립변수\n",
    "y = df_samp['Label'] # 종속변수"
   ],
   "metadata": {
    "collapsed": false,
    "ExecuteTime": {
     "start_time": "2023-08-11T12:59:25.589793Z",
     "end_time": "2023-08-11T12:59:25.601760Z"
    }
   }
  },
  {
   "cell_type": "code",
   "execution_count": 5,
   "outputs": [],
   "source": [
    "# validation_curve 함수: 1개의 파라미터를 튜닝하는 함수\n",
    "# param_name 최적화할 파라미터 이름\n",
    "# param_range 범위\n",
    "# scoring 성능 측정 기준"
   ],
   "metadata": {
    "collapsed": false,
    "ExecuteTime": {
     "start_time": "2023-08-11T12:53:27.963810Z",
     "end_time": "2023-08-11T12:53:27.979790Z"
    }
   }
  },
  {
   "cell_type": "code",
   "execution_count": 16,
   "outputs": [],
   "source": [
    "from sklearn.model_selection import validation_curve\n",
    "from sklearn.svm import SVC\n",
    "\n",
    "param_range = [0.01, 0.1, 1, 10]\n",
    "# C : cost, 오차에 대한 패널티\n",
    "train_scores, test_scores = validation_curve(\n",
    "    SVC(), X, y, param_name=\"C\", param_range=param_range,\n",
    "    cv=2, scoring=\"accuracy\", n_jobs=-1)"
   ],
   "metadata": {
    "collapsed": false,
    "ExecuteTime": {
     "start_time": "2023-08-11T13:01:45.929483Z",
     "end_time": "2023-08-11T13:01:54.969338Z"
    }
   }
  },
  {
   "cell_type": "code",
   "execution_count": 17,
   "outputs": [
    {
     "name": "stdout",
     "output_type": "stream",
     "text": [
      "[[0.81491396 0.83518164]\n",
      " [0.88489484 0.90210325]\n",
      " [0.92810707 0.9418738 ]\n",
      " [0.95391969 0.96099426]]\n",
      "[[0.84225621 0.79407266]\n",
      " [0.90095602 0.8709369 ]\n",
      " [0.92887189 0.91108987]\n",
      " [0.94034417 0.92160612]]\n"
     ]
    }
   ],
   "source": [
    "print(train_scores)\n",
    "print(test_scores)"
   ],
   "metadata": {
    "collapsed": false,
    "ExecuteTime": {
     "start_time": "2023-08-11T13:02:14.688331Z",
     "end_time": "2023-08-11T13:02:14.704316Z"
    }
   }
  },
  {
   "cell_type": "code",
   "execution_count": 19,
   "outputs": [
    {
     "data": {
      "text/plain": "<Figure size 640x480 with 1 Axes>",
      "image/png": "[encoded data removed]"
     },
     "metadata": {},
     "output_type": "display_data"
    }
   ],
   "source": [
    "import matplotlib.pyplot as plt\n",
    "import numpy as np\n",
    "train_scores_mean = np.mean(train_scores, axis=1)\n",
    "test_scores_mean = np.mean(test_scores, axis=1)\n",
    "plt.plot(param_range, train_scores_mean, label='Train', color='r')\n",
    "plt.plot(param_range, test_scores_mean, label='Test', color='g')\n",
    "plt.legend(loc='best')\n",
    "plt.show()"
   ],
   "metadata": {
    "collapsed": false,
    "ExecuteTime": {
     "start_time": "2023-08-11T13:04:07.941036Z",
     "end_time": "2023-08-11T13:04:08.136530Z"
    }
   }
  },
  {
   "cell_type": "code",
   "execution_count": 21,
   "outputs": [
    {
     "data": {
      "text/plain": "GridSearchCV(cv=3,\n             estimator=Pipeline(steps=[('scl', StandardScaler()),\n                                       ('clf', KNeighborsClassifier())]),\n             n_jobs=-4,\n             param_grid=[{'clf__n_neighbors': [2, 3, 4, 5], 'clf__p': [1, 2],\n                          'clf__weights': ['uniform', 'distance']}],\n             scoring='accuracy')",
      "text/html": "<style>#sk-container-id-1 {color: black;}#sk-container-id-1 pre{padding: 0;}#sk-container-id-1 div.sk-toggleable {background-color: white;}#sk-container-id-1 label.sk-toggleable__label {cursor: pointer;display: block;width: 100%;margin-bottom: 0;padding: 0.3em;box-sizing: border-box;text-align: center;}#sk-container-id-1 label.sk-toggleable__label-arrow:before {content: \"▸\";float: left;margin-right: 0.25em;color: #696969;}#sk-container-id-1 label.sk-toggleable__label-arrow:hover:before {color: black;}#sk-container-id-1 div.sk-estimator:hover label.sk-toggleable__label-arrow:before {color: black;}#sk-container-id-1 div.sk-toggleable__content {max-height: 0;max-width: 0;overflow: hidden;text-align: left;background-color: #f0f8ff;}#sk-container-id-1 div.sk-toggleable__content pre {margin: 0.2em;color: black;border-radius: 0.25em;background-color: #f0f8ff;}#sk-container-id-1 input.sk-toggleable__control:checked~div.sk-toggleable__content {max-height: 200px;max-width: 100%;overflow: auto;}#sk-container-id-1 input.sk-toggleable__control:checked~label.sk-toggleable__label-arrow:before {content: \"▾\";}#sk-container-id-1 div.sk-estimator input.sk-toggleable__control:checked~label.sk-toggleable__label {background-color: #d4ebff;}#sk-container-id-1 div.sk-label input.sk-toggleable__control:checked~label.sk-toggleable__label {background-color: #d4ebff;}#sk-container-id-1 input.sk-hidden--visually {border: 0;clip: rect(1px 1px 1px 1px);clip: rect(1px, 1px, 1px, 1px);height: 1px;margin: -1px;overflow: hidden;padding: 0;position: absolute;width: 1px;}#sk-container-id-1 div.sk-estimator {font-family: monospace;background-color: #f0f8ff;border: 1px dotted black;border-radius: 0.25em;box-sizing: border-box;margin-bottom: 0.5em;}#sk-container-id-1 div.sk-estimator:hover {background-color: #d4ebff;}#sk-container-id-1 div.sk-parallel-item::after {content: \"\";width: 100%;border-bottom: 1px solid gray;flex-grow: 1;}#sk-container-id-1 div.sk-label:hover label.sk-toggleable__label {background-color: #d4ebff;}#sk-container-id-1 div.sk-serial::before {content: \"\";position: absolute;border-left: 1px solid gray;box-sizing: border-box;top: 0;bottom: 0;left: 50%;z-index: 0;}#sk-container-id-1 div.sk-serial {display: flex;flex-direction: column;align-items: center;background-color: white;padding-right: 0.2em;padding-left: 0.2em;position: relative;}#sk-container-id-1 div.sk-item {position: relative;z-index: 1;}#sk-container-id-1 div.sk-parallel {display: flex;align-items: stretch;justify-content: center;background-color: white;position: relative;}#sk-container-id-1 div.sk-item::before, #sk-container-id-1 div.sk-parallel-item::before {content: \"\";position: absolute;border-left: 1px solid gray;box-sizing: border-box;top: 0;bottom: 0;left: 50%;z-index: -1;}#sk-container-id-1 div.sk-parallel-item {display: flex;flex-direction: column;z-index: 1;position: relative;background-color: white;}#sk-container-id-1 div.sk-parallel-item:first-child::after {align-self: flex-end;width: 50%;}#sk-container-id-1 div.sk-parallel-item:last-child::after {align-self: flex-start;width: 50%;}#sk-container-id-1 div.sk-parallel-item:only-child::after {width: 0;}#sk-container-id-1 div.sk-dashed-wrapped {border: 1px dashed gray;margin: 0 0.4em 0.5em 0.4em;box-sizing: border-box;padding-bottom: 0.4em;background-color: white;}#sk-container-id-1 div.sk-label label {font-family: monospace;font-weight: bold;display: inline-block;line-height: 1.2em;}#sk-container-id-1 div.sk-label-container {text-align: center;}#sk-container-id-1 div.sk-container {/* jupyter's `normalize.less` sets `[hidden] { display: none; }` but bootstrap.min.css set `[hidden] { display: none !important; }` so we also need the `!important` here to be able to override the default hidden behavior on the sphinx rendered scikit-learn.org. See: https://github.com/scikit-learn/scikit-learn/issues/21755 */display: inline-block !important;position: relative;}#sk-container-id-1 div.sk-text-repr-fallback {display: none;}</style><div id=\"sk-container-id-1\" class=\"sk-top-container\"><div class=\"sk-text-repr-fallback\"><pre>GridSearchCV(cv=3,\n             estimator=Pipeline(steps=[(&#x27;scl&#x27;, StandardScaler()),\n                                       (&#x27;clf&#x27;, KNeighborsClassifier())]),\n             n_jobs=-4,\n             param_grid=[{&#x27;clf__n_neighbors&#x27;: [2, 3, 4, 5], &#x27;clf__p&#x27;: [1, 2],\n                          &#x27;clf__weights&#x27;: [&#x27;uniform&#x27;, &#x27;distance&#x27;]}],\n             scoring=&#x27;accuracy&#x27;)</pre><b>In a Jupyter environment, please rerun this cell to show the HTML representation or trust the notebook. <br />On GitHub, the HTML representation is unable to render, please try loading this page with nbviewer.org.</b></div><div class=\"sk-container\" hidden><div class=\"sk-item sk-dashed-wrapped\"><div class=\"sk-label-container\"><div class=\"sk-label sk-toggleable\"><input class=\"sk-toggleable__control sk-hidden--visually\" id=\"sk-estimator-id-1\" type=\"checkbox\" ><label for=\"sk-estimator-id-1\" class=\"sk-toggleable__label sk-toggleable__label-arrow\">GridSearchCV</label><div class=\"sk-toggleable__content\"><pre>GridSearchCV(cv=3,\n             estimator=Pipeline(steps=[(&#x27;scl&#x27;, StandardScaler()),\n                                       (&#x27;clf&#x27;, KNeighborsClassifier())]),\n             n_jobs=-4,\n             param_grid=[{&#x27;clf__n_neighbors&#x27;: [2, 3, 4, 5], &#x27;clf__p&#x27;: [1, 2],\n                          &#x27;clf__weights&#x27;: [&#x27;uniform&#x27;, &#x27;distance&#x27;]}],\n             scoring=&#x27;accuracy&#x27;)</pre></div></div></div><div class=\"sk-parallel\"><div class=\"sk-parallel-item\"><div class=\"sk-item\"><div class=\"sk-label-container\"><div class=\"sk-label sk-toggleable\"><input class=\"sk-toggleable__control sk-hidden--visually\" id=\"sk-estimator-id-2\" type=\"checkbox\" ><label for=\"sk-estimator-id-2\" class=\"sk-toggleable__label sk-toggleable__label-arrow\">estimator: Pipeline</label><div class=\"sk-toggleable__content\"><pre>Pipeline(steps=[(&#x27;scl&#x27;, StandardScaler()), (&#x27;clf&#x27;, KNeighborsClassifier())])</pre></div></div></div><div class=\"sk-serial\"><div class=\"sk-item\"><div class=\"sk-serial\"><div class=\"sk-item\"><div class=\"sk-estimator sk-toggleable\"><input class=\"sk-toggleable__control sk-hidden--visually\" id=\"sk-estimator-id-3\" type=\"checkbox\" ><label for=\"sk-estimator-id-3\" class=\"sk-toggleable__label sk-toggleable__label-arrow\">StandardScaler</label><div class=\"sk-toggleable__content\"><pre>StandardScaler()</pre></div></div></div><div class=\"sk-item\"><div class=\"sk-estimator sk-toggleable\"><input class=\"sk-toggleable__control sk-hidden--visually\" id=\"sk-estimator-id-4\" type=\"checkbox\" ><label for=\"sk-estimator-id-4\" class=\"sk-toggleable__label sk-toggleable__label-arrow\">KNeighborsClassifier</label><div class=\"sk-toggleable__content\"><pre>KNeighborsClassifier()</pre></div></div></div></div></div></div></div></div></div></div></div></div>"
     },
     "execution_count": 21,
     "metadata": {},
     "output_type": "execute_result"
    }
   ],
   "source": [
    "from sklearn.model_selection import GridSearchCV\n",
    "from sklearn.pipeline import Pipeline\n",
    "from sklearn.preprocessing import StandardScaler\n",
    "from sklearn.neighbors import KNeighborsClassifier\n",
    "\n",
    "# 모델 전처리와 학습을 한번에 수행하기 위해 Pipeline 사용\n",
    "pipe = Pipeline([\n",
    "    ('scl', StandardScaler()),\n",
    "    ('clf', KNeighborsClassifier())\n",
    "])\n",
    "\n",
    "# 그리드 서치를 위한 하이퍼파라미터 그리드 정의\n",
    "# 'clf__weights': ['uniform', 'distance'] -> 가중치 옵션\n",
    "# 'clf__p': [1,2] -> 거리 측정 방법 옵션\n",
    "# 'clf__n_neighbors': list(range(2,6)) -> 이웃의 개수 옵션\n",
    "param_grid = [\n",
    "    {\n",
    "        'clf__weights': ['uniform', 'distance'],\n",
    "        'clf__p': [1,2],\n",
    "        'clf__n_neighbors': list(range(2,6))\n",
    "    }\n",
    "]\n",
    "gs = GridSearchCV(estimator=pipe, param_grid=param_grid, scoring='accuracy', cv=3, n_jobs=-4)\n",
    "#               파이프라인 / 그리드서치에 사용할 하이퍼파라미터 그리드 / 평가지표 / 교차검증 폴드 개수 / 병렬 처리할 작업 개수\n",
    "gs.fit(X,y)"
   ],
   "metadata": {
    "collapsed": false,
    "ExecuteTime": {
     "start_time": "2023-08-11T13:08:51.612277Z",
     "end_time": "2023-08-11T13:08:59.711617Z"
    }
   }
  },
  {
   "cell_type": "code",
   "execution_count": 22,
   "outputs": [
    {
     "data": {
      "text/plain": "[{'clf__n_neighbors': 2, 'clf__p': 1, 'clf__weights': 'uniform'},\n {'clf__n_neighbors': 2, 'clf__p': 1, 'clf__weights': 'distance'},\n {'clf__n_neighbors': 2, 'clf__p': 2, 'clf__weights': 'uniform'},\n {'clf__n_neighbors': 2, 'clf__p': 2, 'clf__weights': 'distance'},\n {'clf__n_neighbors': 3, 'clf__p': 1, 'clf__weights': 'uniform'},\n {'clf__n_neighbors': 3, 'clf__p': 1, 'clf__weights': 'distance'},\n {'clf__n_neighbors': 3, 'clf__p': 2, 'clf__weights': 'uniform'},\n {'clf__n_neighbors': 3, 'clf__p': 2, 'clf__weights': 'distance'},\n {'clf__n_neighbors': 4, 'clf__p': 1, 'clf__weights': 'uniform'},\n {'clf__n_neighbors': 4, 'clf__p': 1, 'clf__weights': 'distance'},\n {'clf__n_neighbors': 4, 'clf__p': 2, 'clf__weights': 'uniform'},\n {'clf__n_neighbors': 4, 'clf__p': 2, 'clf__weights': 'distance'},\n {'clf__n_neighbors': 5, 'clf__p': 1, 'clf__weights': 'uniform'},\n {'clf__n_neighbors': 5, 'clf__p': 1, 'clf__weights': 'distance'},\n {'clf__n_neighbors': 5, 'clf__p': 2, 'clf__weights': 'uniform'},\n {'clf__n_neighbors': 5, 'clf__p': 2, 'clf__weights': 'distance'}]"
     },
     "execution_count": 22,
     "metadata": {},
     "output_type": "execute_result"
    }
   ],
   "source": [
    "gs.cv_results_['params']"
   ],
   "metadata": {
    "collapsed": false,
    "ExecuteTime": {
     "start_time": "2023-08-11T13:09:13.713071Z",
     "end_time": "2023-08-11T13:09:13.761434Z"
    }
   }
  },
  {
   "cell_type": "code",
   "execution_count": 23,
   "outputs": [
    {
     "data": {
      "text/plain": "array([0.85955909, 0.8288693 , 0.86615609, 0.84244523, 0.85353598,\n       0.85162376, 0.86338307, 0.86347863, 0.86969312, 0.85162355,\n       0.87447335, 0.8627138 , 0.86596455, 0.86405225, 0.87189193,\n       0.87131831])"
     },
     "execution_count": 23,
     "metadata": {},
     "output_type": "execute_result"
    }
   ],
   "source": [
    "gs.cv_results_['mean_test_score']"
   ],
   "metadata": {
    "collapsed": false,
    "ExecuteTime": {
     "start_time": "2023-08-11T13:09:25.984294Z",
     "end_time": "2023-08-11T13:09:26.037283Z"
    }
   }
  },
  {
   "cell_type": "code",
   "execution_count": 24,
   "outputs": [
    {
     "name": "stdout",
     "output_type": "stream",
     "text": [
      "0.8744733532844969\n",
      "{'clf__n_neighbors': 4, 'clf__p': 2, 'clf__weights': 'uniform'}\n",
      "Pipeline(steps=[('scl', StandardScaler()),\n",
      "                ('clf', KNeighborsClassifier(n_neighbors=4))])\n",
      "10\n"
     ]
    }
   ],
   "source": [
    "print(gs.best_score_)\n",
    "print(gs.best_params_)\n",
    "print(gs.best_estimator_)\n",
    "print(gs.best_index_)"
   ],
   "metadata": {
    "collapsed": false,
    "ExecuteTime": {
     "start_time": "2023-08-11T13:10:05.603523Z",
     "end_time": "2023-08-11T13:10:05.652821Z"
    }
   }
  },
  {
   "cell_type": "code",
   "execution_count": null,
   "outputs": [],
   "source": [],
   "metadata": {
    "collapsed": false
   }
  }
 ],
 "metadata": {
  "kernelspec": {
   "display_name": "Python 3",
   "language": "python",
   "name": "python3"
  },
  "language_info": {
   "codemirror_mode": {
    "name": "ipython",
    "version": 2
   },
   "file_extension": ".py",
   "mimetype": "text/x-python",
   "name": "python",
   "nbconvert_exporter": "python",
   "pygments_lexer": "ipython2",
   "version": "2.7.6"
  }
 },
 "nbformat": 4,
 "nbformat_minor": 0
}
