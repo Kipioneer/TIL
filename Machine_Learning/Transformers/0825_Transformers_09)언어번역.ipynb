{
 "cells": [
  {
   "cell_type": "code",
   "execution_count": 1,
   "outputs": [],
   "source": [
    "import os\n",
    "\n",
    "from transformers import M2M100ForConditionalGeneration, M2M100Tokenizer\n",
    "\n",
    "# 모델 및 토크나이저 불러오기\n",
    "model = M2M100ForConditionalGeneration.from_pretrained('facebook/m2m100_418M')\n",
    "tokenizer = M2M100Tokenizer.from_pretrained('facebook/m2m100_418M')"
   ],
   "metadata": {
    "collapsed": false,
    "ExecuteTime": {
     "start_time": "2023-08-25T10:07:18.905550Z",
     "end_time": "2023-08-25T10:07:37.028966Z"
    }
   }
  },
  {
   "cell_type": "markdown",
   "source": [
    "국가별 언어코드가 있음\n",
    "ex ko, zh, en jp"
   ],
   "metadata": {
    "collapsed": false
   }
  },
  {
   "cell_type": "code",
   "execution_count": 2,
   "outputs": [],
   "source": [
    "chinese_text = \"生活就像一盒巧克力。\"\n",
    "tokenizer.src_lang = 'zh'"
   ],
   "metadata": {
    "collapsed": false,
    "ExecuteTime": {
     "start_time": "2023-08-25T10:07:37.030962Z",
     "end_time": "2023-08-25T10:07:37.044057Z"
    }
   }
  },
  {
   "cell_type": "code",
   "execution_count": 3,
   "outputs": [],
   "source": [
    "encoded_zh = tokenizer(chinese_text, return_tensors='pt')"
   ],
   "metadata": {
    "collapsed": false,
    "ExecuteTime": {
     "start_time": "2023-08-25T10:07:37.046052Z",
     "end_time": "2023-08-25T10:07:37.068986Z"
    }
   }
  },
  {
   "cell_type": "code",
   "execution_count": 4,
   "outputs": [
    {
     "data": {
      "text/plain": "{'input_ids': tensor([[128102,     22,   8523,  62206,    971, 115515,  53259,   9175,   3182,\n             37,      2]]), 'attention_mask': tensor([[1, 1, 1, 1, 1, 1, 1, 1, 1, 1, 1]])}"
     },
     "execution_count": 4,
     "metadata": {},
     "output_type": "execute_result"
    }
   ],
   "source": [
    "encoded_zh"
   ],
   "metadata": {
    "collapsed": false,
    "ExecuteTime": {
     "start_time": "2023-08-25T10:07:37.062005Z",
     "end_time": "2023-08-25T10:07:37.076965Z"
    }
   }
  },
  {
   "cell_type": "code",
   "execution_count": 5,
   "outputs": [
    {
     "name": "stderr",
     "output_type": "stream",
     "text": [
      "C:\\Python\\Python39\\lib\\site-packages\\transformers\\generation\\utils.py:1369: UserWarning: Using `max_length`'s default (200) to control the generation length. This behaviour is deprecated and will be removed from the config in v5 of Transformers -- we recommend using `max_new_tokens` to control the maximum length of the generation.\n",
      "  warnings.warn(\n"
     ]
    }
   ],
   "source": [
    "# 중국어 => 영어\n",
    "generated_tokens = model.generate(**encoded_zh, forced_bos_token_id=tokenizer.get_lang_id('en'))"
   ],
   "metadata": {
    "collapsed": false,
    "ExecuteTime": {
     "start_time": "2023-08-25T10:07:37.075970Z",
     "end_time": "2023-08-25T10:07:39.467761Z"
    }
   }
  },
  {
   "cell_type": "code",
   "execution_count": 6,
   "outputs": [
    {
     "data": {
      "text/plain": "tensor([[     2, 128022,  21457,    117,  14906,      8,  37089,    432, 111889,\n              5,      2]])"
     },
     "execution_count": 6,
     "metadata": {},
     "output_type": "execute_result"
    }
   ],
   "source": [
    "generated_tokens"
   ],
   "metadata": {
    "collapsed": false,
    "ExecuteTime": {
     "start_time": "2023-08-25T10:08:13.917918Z",
     "end_time": "2023-08-25T10:08:13.932905Z"
    }
   }
  },
  {
   "cell_type": "code",
   "execution_count": 7,
   "outputs": [],
   "source": [
    "text = tokenizer.batch_decode(generated_tokens, skip_special_tokens=True)"
   ],
   "metadata": {
    "collapsed": false,
    "ExecuteTime": {
     "start_time": "2023-08-25T10:08:16.653163Z",
     "end_time": "2023-08-25T10:08:25.320746Z"
    }
   }
  },
  {
   "cell_type": "code",
   "execution_count": 8,
   "outputs": [
    {
     "data": {
      "text/plain": "['Life is like a box of chocolate.']"
     },
     "execution_count": 8,
     "metadata": {},
     "output_type": "execute_result"
    }
   ],
   "source": [
    "text"
   ],
   "metadata": {
    "collapsed": false,
    "ExecuteTime": {
     "start_time": "2023-08-25T10:08:29.633383Z",
     "end_time": "2023-08-25T10:08:29.677292Z"
    }
   }
  },
  {
   "cell_type": "code",
   "execution_count": 14,
   "outputs": [
    {
     "data": {
      "text/plain": "['As the back of our time as the back of our life as the back of our life as the back of our life as the back of our life as the back of our life as the back of our life as the back of our life as the back of our life as the back of our life as the back of our life as the back of our life as the back of our life as the back of our life.']"
     },
     "execution_count": 14,
     "metadata": {},
     "output_type": "execute_result"
    }
   ],
   "source": [
    "tokenizer.src_lang = 'ko'\n",
    "korean_text = '빙빙 돌아가는 회전목마 처럼 영원히 계속될 것처럼 빙빙 돌아온 우리의 시간처럼 우리 인생은 회전목마.'\n",
    "encoded_ko = tokenizer(korean_text, return_tensors='pt')\n",
    "\n",
    "generated_tokens = model.generate(**encoded_ko, forced_bos_token_id=tokenizer.get_lang_id(\"en\"))\n",
    "# tokenizer.batch_decode(generated_tokens, skip_special_tokens=True)\n",
    "text1 = tokenizer.batch_decode(generated_tokens, skip_special_tokens=True)\n",
    "text1"
   ],
   "metadata": {
    "collapsed": false,
    "ExecuteTime": {
     "start_time": "2023-08-25T10:12:40.041275Z",
     "end_time": "2023-08-25T10:13:01.625523Z"
    }
   }
  },
  {
   "cell_type": "code",
   "execution_count": 16,
   "outputs": [
    {
     "name": "stderr",
     "output_type": "stream",
     "text": [
      "C:\\Python\\Python39\\lib\\site-packages\\transformers\\generation\\utils.py:1369: UserWarning: Using `max_length`'s default (200) to control the generation length. This behaviour is deprecated and will be removed from the config in v5 of Transformers -- we recommend using `max_new_tokens` to control the maximum length of the generation.\n",
      "  warnings.warn(\n"
     ]
    },
    {
     "data": {
      "text/plain": "['나는 이 나라가 이 10년이 끝나기 전에 사람을 달에 착륙시키고 그를 안전하게 지구로 돌려보내는 목표를 달성하기 위해 노력해야 한다고 믿는다.']"
     },
     "execution_count": 16,
     "metadata": {},
     "output_type": "execute_result"
    }
   ],
   "source": [
    "english_text = \"I believe this nation should commit itself to achieving the goal, before this decade is out, of landing a man on the moon and returning him safely to the Earth.\"\n",
    "\n",
    "tokenizer.src_lang = \"en\"\n",
    "encoded_en = tokenizer(english_text, return_tensors='pt')\n",
    "generated_tokens = model.generate(**encoded_en, forced_bos_token_id=tokenizer.get_lang_id('ko'))\n",
    "# tokenizer.batch_decode(generated_tokens, skip_special_tokens=True)\n",
    "text2 = tokenizer.batch_decode(generated_tokens, skip_special_tokens=True)\n",
    "text2"
   ],
   "metadata": {
    "collapsed": false,
    "ExecuteTime": {
     "start_time": "2023-08-25T10:17:41.458070Z",
     "end_time": "2023-08-25T10:17:52.848593Z"
    }
   }
  },
  {
   "cell_type": "code",
   "execution_count": 12,
   "outputs": [],
   "source": [
    "# pip install playsound==1.2.2\n",
    "# !pip install gtts\n",
    "# !pip install playsound"
   ],
   "metadata": {
    "collapsed": false,
    "ExecuteTime": {
     "start_time": "2023-08-25T10:11:03.682186Z",
     "end_time": "2023-08-25T10:11:03.691160Z"
    }
   }
  },
  {
   "cell_type": "code",
   "execution_count": 11,
   "outputs": [],
   "source": [
    "# 강사님 추가\n",
    "from gtts import gTTS\n",
    "from playsound import playsound\n",
    "tts = gTTS(text=text[0], lang='en')\n",
    "tts.save(\"output1.mp3\")\n",
    "playsound(\"output1.mp3\") # 음성파일 플레이\n",
    "\n",
    "os.remove(\"output1.mp3\")"
   ],
   "metadata": {
    "collapsed": false,
    "ExecuteTime": {
     "start_time": "2023-08-25T10:11:01.975738Z",
     "end_time": "2023-08-25T10:11:01.983717Z"
    }
   }
  },
  {
   "cell_type": "code",
   "execution_count": 15,
   "outputs": [],
   "source": [
    "# 강사님 추가\n",
    "from gtts import gTTS\n",
    "from playsound import playsound\n",
    "tts = gTTS(text=text1[0], lang='en')\n",
    "tts.save(\"output2.mp3\")\n",
    "playsound(\"output2.mp3\") # 음성파일 플레이\n",
    "\n",
    "os.remove(\"output2.mp3\")"
   ],
   "metadata": {
    "collapsed": false,
    "ExecuteTime": {
     "start_time": "2023-08-25T10:13:02.018333Z",
     "end_time": "2023-08-25T10:13:24.484797Z"
    }
   }
  },
  {
   "cell_type": "code",
   "execution_count": 21,
   "outputs": [],
   "source": [
    "# 강사님 추가\n",
    "from gtts import gTTS\n",
    "from playsound import playsound\n",
    "tts = gTTS(text=text2[0], lang='ja')\n",
    "tts.save(\"output3.mp3\")\n",
    "playsound(\"output3.mp3\") # 음성파일 플레이\n",
    "\n",
    "os.remove(\"output3.mp3\")"
   ],
   "metadata": {
    "collapsed": false,
    "ExecuteTime": {
     "start_time": "2023-08-25T10:19:05.305902Z",
     "end_time": "2023-08-25T10:19:22.643395Z"
    }
   }
  },
  {
   "cell_type": "code",
   "execution_count": null,
   "outputs": [],
   "source": [],
   "metadata": {
    "collapsed": false
   }
  }
 ],
 "metadata": {
  "kernelspec": {
   "display_name": "Python 3",
   "language": "python",
   "name": "python3"
  },
  "language_info": {
   "codemirror_mode": {
    "name": "ipython",
    "version": 2
   },
   "file_extension": ".py",
   "mimetype": "text/x-python",
   "name": "python",
   "nbconvert_exporter": "python",
   "pygments_lexer": "ipython2",
   "version": "2.7.6"
  }
 },
 "nbformat": 4,
 "nbformat_minor": 0
}
