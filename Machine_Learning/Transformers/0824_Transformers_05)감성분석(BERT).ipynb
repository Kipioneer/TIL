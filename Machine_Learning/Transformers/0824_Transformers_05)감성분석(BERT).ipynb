{
 "cells": [
  {
   "cell_type": "code",
   "execution_count": 3,
   "metadata": {
    "collapsed": true,
    "ExecuteTime": {
     "start_time": "2023-08-24T10:07:39.598137Z",
     "end_time": "2023-08-24T10:07:46.721579Z"
    }
   },
   "outputs": [
    {
     "data": {
      "text/plain": "HBox(children=(FloatProgress(value=0.0, description='Downloading model.safetensors', max=435755784.0, style=Pr…",
      "application/vnd.jupyter.widget-view+json": {
       "version_major": 2,
       "version_minor": 0,
       "model_id": "bb3a7856d5df4d6fa2087f96c3d5f9d5"
      }
     },
     "metadata": {},
     "output_type": "display_data"
    },
    {
     "name": "stdout",
     "output_type": "stream",
     "text": [
      "\n"
     ]
    },
    {
     "name": "stderr",
     "output_type": "stream",
     "text": [
      "Some weights of BertForSequenceClassification were not initialized from the model checkpoint at bert-base-cased and are newly initialized: ['classifier.bias', 'classifier.weight']\n",
      "You should probably TRAIN this model on a down-stream task to be able to use it for predictions and inference.\n"
     ]
    }
   ],
   "source": [
    "from transformers import AutoTokenizer, AutoModelForSequenceClassification\n",
    "\n",
    "# 모델 및 토크나이저 불러오기\n",
    "tokenizer = AutoTokenizer.from_pretrained('bert-base-cased')\n",
    "#토크나이저 -> 형태소 분석 => 정수 인코딩\n",
    "model = AutoModelForSequenceClassification.from_pretrained(\"bert-base-cased\", num_labels=3)\n",
    "#           분류모델\n",
    "# down-stream 작업 : 사전학습 모델을 불러온 후 추가로 처리하고자 하는 작업 = 파인튜닝"
   ]
  },
  {
   "cell_type": "code",
   "execution_count": 6,
   "outputs": [
    {
     "data": {
      "text/plain": "BertForSequenceClassification(\n  (bert): BertModel(\n    (embeddings): BertEmbeddings(\n      (word_embeddings): Embedding(28996, 768, padding_idx=0)\n      (position_embeddings): Embedding(512, 768)\n      (token_type_embeddings): Embedding(2, 768)\n      (LayerNorm): LayerNorm((768,), eps=1e-12, elementwise_affine=True)\n      (dropout): Dropout(p=0.1, inplace=False)\n    )\n    (encoder): BertEncoder(\n      (layer): ModuleList(\n        (0-11): 12 x BertLayer(\n          (attention): BertAttention(\n            (self): BertSelfAttention(\n              (query): Linear(in_features=768, out_features=768, bias=True)\n              (key): Linear(in_features=768, out_features=768, bias=True)\n              (value): Linear(in_features=768, out_features=768, bias=True)\n              (dropout): Dropout(p=0.1, inplace=False)\n            )\n            (output): BertSelfOutput(\n              (dense): Linear(in_features=768, out_features=768, bias=True)\n              (LayerNorm): LayerNorm((768,), eps=1e-12, elementwise_affine=True)\n              (dropout): Dropout(p=0.1, inplace=False)\n            )\n          )\n          (intermediate): BertIntermediate(\n            (dense): Linear(in_features=768, out_features=3072, bias=True)\n            (intermediate_act_fn): GELUActivation()\n          )\n          (output): BertOutput(\n            (dense): Linear(in_features=3072, out_features=768, bias=True)\n            (LayerNorm): LayerNorm((768,), eps=1e-12, elementwise_affine=True)\n            (dropout): Dropout(p=0.1, inplace=False)\n          )\n        )\n      )\n    )\n    (pooler): BertPooler(\n      (dense): Linear(in_features=768, out_features=768, bias=True)\n      (activation): Tanh()\n    )\n  )\n  (dropout): Dropout(p=0.1, inplace=False)\n  (classifier): Linear(in_features=768, out_features=3, bias=True)\n)"
     },
     "execution_count": 6,
     "metadata": {},
     "output_type": "execute_result"
    }
   ],
   "source": [
    "model\n",
    "# (classifier): Linear(in_features=768, out_features=3, bias=True)"
   ],
   "metadata": {
    "collapsed": false,
    "ExecuteTime": {
     "start_time": "2023-08-24T10:12:54.090256Z",
     "end_time": "2023-08-24T10:12:54.104216Z"
    }
   }
  },
  {
   "cell_type": "code",
   "execution_count": 4,
   "outputs": [],
   "source": [
    "import torch\n",
    "\n",
    "# 긍정/부정 데이터셋 준비\n",
    "dic = {0: 'posivie', 1: 'neutral', 2: 'negative'}\n",
    "eval_list = ['I like apple',\n",
    "             'I like pear',\n",
    "             'I go to school',\n",
    "             'I dislike mosquito',\n",
    "             'I felt very sad',\n",
    "             'I feel so good']\n",
    "\n",
    "ans = torch.tensor([0,0,1,2,2,0])"
   ],
   "metadata": {
    "collapsed": false,
    "ExecuteTime": {
     "start_time": "2023-08-24T10:10:04.460372Z",
     "end_time": "2023-08-24T10:10:04.474334Z"
    }
   }
  },
  {
   "cell_type": "code",
   "execution_count": 18,
   "outputs": [
    {
     "name": "stdout",
     "output_type": "stream",
     "text": [
      "tensor([[  101,   146,  1176, 12075,   102]])\n",
      "SequenceClassifierOutput(loss=None, logits=tensor([[ 0.4318,  0.7718, -0.9293]]), hidden_states=None, attentions=None)\n",
      "neutral : I like apple\n",
      "tensor([[  101,   146,  1176,   185, 19386,   102]])\n",
      "SequenceClassifierOutput(loss=None, logits=tensor([[ 0.3099,  0.8144, -0.8673]]), hidden_states=None, attentions=None)\n",
      "neutral : I like pear\n",
      "tensor([[ 101,  146, 1301, 1106, 1278,  102]])\n",
      "SequenceClassifierOutput(loss=None, logits=tensor([[ 0.4183,  0.7622, -0.9533]]), hidden_states=None, attentions=None)\n",
      "neutral : I go to school\n",
      "tensor([[  101,   146, 20662,   182,  2155, 21594,   102]])\n",
      "SequenceClassifierOutput(loss=None, logits=tensor([[ 0.3922,  0.8232, -0.9084]]), hidden_states=None, attentions=None)\n",
      "neutral : I dislike mosquito\n",
      "tensor([[ 101,  146, 1464, 1304, 6782,  102]])\n",
      "SequenceClassifierOutput(loss=None, logits=tensor([[ 0.4543,  0.6065, -0.8943]]), hidden_states=None, attentions=None)\n",
      "neutral : I felt very sad\n",
      "tensor([[ 101,  146, 1631, 1177, 1363,  102]])\n",
      "SequenceClassifierOutput(loss=None, logits=tensor([[ 0.3775,  0.6417, -0.8775]]), hidden_states=None, attentions=None)\n",
      "neutral : I feel so good\n",
      "==================================================\n",
      "Prediction: neutral | Article: I like apple\n",
      "Prediction: neutral | Article: I like pear\n",
      "Prediction: neutral | Article: I go to school\n",
      "Prediction: neutral | Article: I dislike mosquito\n",
      "Prediction: neutral | Article: I felt very sad\n",
      "Prediction: neutral | Article: I feel so good\n"
     ]
    }
   ],
   "source": [
    "# 파인 튜닝을 하지 않고 테스트\n",
    "model.eval()\n",
    "# 결과만 확인하기 위해 빈리스트 생성\n",
    "predicted_results = []\n",
    "\n",
    "with torch.no_grad():\n",
    "    for article in eval_list:\n",
    "        inputs = tokenizer.encode(article, return_tensors='pt', padding=True, truncation=True)\n",
    "        print(inputs)\n",
    "        outputs = model(inputs)\n",
    "        print(outputs)\n",
    "        logits = outputs.logits\n",
    "        print(f\"{dic[logits.argmax(-1).item()]} : {article}\")\n",
    "        # 추가 #\n",
    "        predicted_label = logits.argmax(-1).item()\n",
    "        predicted_results.append((article, dic[predicted_label]))\n",
    "    print('=' * 50)\n",
    "for article, prediction in predicted_results:\n",
    "    print(f\"Prediction: {prediction} | Article: {article}\")"
   ],
   "metadata": {
    "collapsed": false,
    "ExecuteTime": {
     "start_time": "2023-08-24T10:44:40.852101Z",
     "end_time": "2023-08-24T10:44:41.110408Z"
    }
   }
  },
  {
   "cell_type": "markdown",
   "source": [
    "▲ 모든 결과가 중립으로 나타남, 학습이 필요한 상태임"
   ],
   "metadata": {
    "collapsed": false
   }
  },
  {
   "cell_type": "code",
   "execution_count": 21,
   "outputs": [
    {
     "name": "stdout",
     "output_type": "stream",
     "text": [
      "epoch: 1, loss:0.0473, Accuracy: 1.0000, F1 score: 1.0000\n",
      "epoch: 2, loss:0.0504, Accuracy: 1.0000, F1 score: 1.0000\n",
      "epoch: 3, loss:0.0468, Accuracy: 1.0000, F1 score: 1.0000\n",
      "epoch: 4, loss:0.0442, Accuracy: 1.0000, F1 score: 1.0000\n",
      "epoch: 5, loss:0.0421, Accuracy: 1.0000, F1 score: 1.0000\n",
      "epoch: 6, loss:0.0499, Accuracy: 1.0000, F1 score: 1.0000\n",
      "epoch: 7, loss:0.0399, Accuracy: 1.0000, F1 score: 1.0000\n",
      "epoch: 8, loss:0.0416, Accuracy: 1.0000, F1 score: 1.0000\n",
      "epoch: 9, loss:0.0387, Accuracy: 1.0000, F1 score: 1.0000\n",
      "epoch: 10, loss:0.0389, Accuracy: 1.0000, F1 score: 1.0000\n",
      "epoch: 11, loss:0.0359, Accuracy: 1.0000, F1 score: 1.0000\n",
      "epoch: 12, loss:0.0464, Accuracy: 1.0000, F1 score: 1.0000\n",
      "epoch: 13, loss:0.0301, Accuracy: 1.0000, F1 score: 1.0000\n",
      "epoch: 14, loss:0.0296, Accuracy: 1.0000, F1 score: 1.0000\n",
      "epoch: 15, loss:0.0275, Accuracy: 1.0000, F1 score: 1.0000\n",
      "epoch: 16, loss:0.0259, Accuracy: 1.0000, F1 score: 1.0000\n",
      "epoch: 17, loss:0.0263, Accuracy: 1.0000, F1 score: 1.0000\n",
      "epoch: 18, loss:0.0313, Accuracy: 1.0000, F1 score: 1.0000\n",
      "epoch: 19, loss:0.0282, Accuracy: 1.0000, F1 score: 1.0000\n",
      "epoch: 20, loss:0.0247, Accuracy: 1.0000, F1 score: 1.0000\n",
      "epoch: 21, loss:0.0285, Accuracy: 1.0000, F1 score: 1.0000\n",
      "epoch: 22, loss:0.0253, Accuracy: 1.0000, F1 score: 1.0000\n",
      "epoch: 23, loss:0.0238, Accuracy: 1.0000, F1 score: 1.0000\n",
      "epoch: 24, loss:0.0222, Accuracy: 1.0000, F1 score: 1.0000\n",
      "epoch: 25, loss:0.0215, Accuracy: 1.0000, F1 score: 1.0000\n",
      "epoch: 26, loss:0.0198, Accuracy: 1.0000, F1 score: 1.0000\n",
      "epoch: 27, loss:0.0209, Accuracy: 1.0000, F1 score: 1.0000\n",
      "epoch: 28, loss:0.0209, Accuracy: 1.0000, F1 score: 1.0000\n",
      "epoch: 29, loss:0.0197, Accuracy: 1.0000, F1 score: 1.0000\n",
      "epoch: 30, loss:0.0174, Accuracy: 1.0000, F1 score: 1.0000\n",
      "epoch: 31, loss:0.0180, Accuracy: 1.0000, F1 score: 1.0000\n",
      "epoch: 32, loss:0.0197, Accuracy: 1.0000, F1 score: 1.0000\n",
      "epoch: 33, loss:0.0206, Accuracy: 1.0000, F1 score: 1.0000\n",
      "epoch: 34, loss:0.0167, Accuracy: 1.0000, F1 score: 1.0000\n",
      "epoch: 35, loss:0.0183, Accuracy: 1.0000, F1 score: 1.0000\n",
      "epoch: 36, loss:0.0184, Accuracy: 1.0000, F1 score: 1.0000\n",
      "epoch: 37, loss:0.0163, Accuracy: 1.0000, F1 score: 1.0000\n",
      "epoch: 38, loss:0.0163, Accuracy: 1.0000, F1 score: 1.0000\n",
      "epoch: 39, loss:0.0205, Accuracy: 1.0000, F1 score: 1.0000\n",
      "epoch: 40, loss:0.0180, Accuracy: 1.0000, F1 score: 1.0000\n",
      "epoch: 41, loss:0.0156, Accuracy: 1.0000, F1 score: 1.0000\n",
      "epoch: 42, loss:0.0156, Accuracy: 1.0000, F1 score: 1.0000\n",
      "epoch: 43, loss:0.0153, Accuracy: 1.0000, F1 score: 1.0000\n",
      "epoch: 44, loss:0.0152, Accuracy: 1.0000, F1 score: 1.0000\n",
      "epoch: 45, loss:0.0120, Accuracy: 1.0000, F1 score: 1.0000\n",
      "epoch: 46, loss:0.0164, Accuracy: 1.0000, F1 score: 1.0000\n",
      "epoch: 47, loss:0.0146, Accuracy: 1.0000, F1 score: 1.0000\n",
      "epoch: 48, loss:0.0146, Accuracy: 1.0000, F1 score: 1.0000\n",
      "epoch: 49, loss:0.0118, Accuracy: 1.0000, F1 score: 1.0000\n",
      "epoch: 50, loss:0.0138, Accuracy: 1.0000, F1 score: 1.0000\n"
     ]
    }
   ],
   "source": [
    "# 학습모드 => model.train()\n",
    "from torch.optim import AdamW\n",
    "from sklearn.metrics import accuracy_score, f1_score\n",
    "import numpy as np\n",
    "\n",
    "optimizer = AdamW(model.parameters(), lr=1e-5)\n",
    "model.train()\n",
    "\n",
    "epochs = 50\n",
    "losses = []\n",
    "\n",
    "for epoch in range(epochs):\n",
    "    optimizer.zero_grad()\n",
    "\n",
    "    inputs = tokenizer.batch_encode_plus(eval_list, return_tensors='pt', padding=True, truncation=True)\n",
    "    # 미니배치로 여러개 한꺼번에\n",
    "    outputs = model(**inputs, labels=ans) # ** 딕셔너리\n",
    "    logits = outputs.logits\n",
    "    loss = outputs.loss\n",
    "\n",
    "    # 오차역전파\n",
    "    loss.backward()\n",
    "\n",
    "    # 가중치(weight) 업데이트\n",
    "    optimizer.step()\n",
    "    losses.append(loss)\n",
    "\n",
    "    # 추가 #\n",
    "    # 정확도 계산\n",
    "    predicted_labels = np.argmax(logits.detach().cpu().numpy(), axis=1)\n",
    "    true_labels = ans.detach().cpu().numpy()\n",
    "    accuracy = accuracy_score(true_labels, predicted_labels)\n",
    "\n",
    "    # F1 score\n",
    "    f1 = f1_score(true_labels, predicted_labels, average='weighted')\n",
    "\n",
    "    # print(f'epoch: {epoch+1}, loss:{loss}')\n",
    "    print(f'epoch: {epoch+1}, loss:{loss:.4f}, Accuracy: {accuracy:.4f}, F1 score: {f1:.4f}')"
   ],
   "metadata": {
    "collapsed": false,
    "ExecuteTime": {
     "start_time": "2023-08-24T11:01:13.327643Z",
     "end_time": "2023-08-24T11:02:17.810110Z"
    }
   }
  },
  {
   "cell_type": "code",
   "execution_count": 22,
   "outputs": [],
   "source": [
    "new_losses = [i.item() for i in losses]"
   ],
   "metadata": {
    "collapsed": false,
    "ExecuteTime": {
     "start_time": "2023-08-24T11:02:44.507735Z",
     "end_time": "2023-08-24T11:02:44.521190Z"
    }
   }
  },
  {
   "cell_type": "code",
   "execution_count": 24,
   "outputs": [
    {
     "data": {
      "text/plain": "[0.04725749418139458,\n 0.050399523228406906,\n 0.0467742383480072,\n 0.04416678845882416,\n 0.04209035262465477,\n 0.04987900331616402,\n 0.03990262746810913,\n 0.04163069650530815,\n 0.03871798515319824,\n 0.03887121006846428,\n 0.03586837649345398,\n 0.04638320207595825,\n 0.03011794202029705,\n 0.029647981747984886,\n 0.027545394375920296,\n 0.025865109637379646,\n 0.02634836919605732,\n 0.03127655014395714,\n 0.028184248134493828,\n 0.024696098640561104,\n 0.028467630967497826,\n 0.025271952152252197,\n 0.023766981437802315,\n 0.022214293479919434,\n 0.02149777114391327,\n 0.01983286254107952,\n 0.020885713398456573,\n 0.02092609368264675,\n 0.019680391997098923,\n 0.017359301447868347,\n 0.018020842224359512,\n 0.01972913183271885,\n 0.020620863884687424,\n 0.01666112244129181,\n 0.01828535459935665,\n 0.01844356395304203,\n 0.01629849709570408,\n 0.01634804904460907,\n 0.020543240010738373,\n 0.01800663396716118,\n 0.015576477162539959,\n 0.015635965391993523,\n 0.01533252838999033,\n 0.015223967842757702,\n 0.01200956106185913,\n 0.016387181356549263,\n 0.014580572955310345,\n 0.014615964144468307,\n 0.011784359812736511,\n 0.013825812377035618]"
     },
     "execution_count": 24,
     "metadata": {},
     "output_type": "execute_result"
    }
   ],
   "source": [
    "new_losses"
   ],
   "metadata": {
    "collapsed": false,
    "ExecuteTime": {
     "start_time": "2023-08-24T11:02:52.808602Z",
     "end_time": "2023-08-24T11:02:52.827577Z"
    }
   }
  },
  {
   "cell_type": "code",
   "execution_count": 23,
   "outputs": [
    {
     "data": {
      "text/plain": "[<matplotlib.lines.Line2D at 0x223b97dc250>]"
     },
     "execution_count": 23,
     "metadata": {},
     "output_type": "execute_result"
    },
    {
     "data": {
      "text/plain": "<Figure size 640x480 with 1 Axes>",
      "image/png": "[encoded data removed]"
     },
     "metadata": {},
     "output_type": "display_data"
    }
   ],
   "source": [
    "# loss값 시각화\n",
    "import matplotlib.pyplot as plt\n",
    "plt.plot(new_losses)"
   ],
   "metadata": {
    "collapsed": false,
    "ExecuteTime": {
     "start_time": "2023-08-24T11:02:46.404264Z",
     "end_time": "2023-08-24T11:02:47.267138Z"
    }
   }
  },
  {
   "cell_type": "code",
   "execution_count": 25,
   "outputs": [
    {
     "name": "stdout",
     "output_type": "stream",
     "text": [
      "positive: I like apple\n",
      "positive: I like pear\n",
      "neutral: I go to school\n",
      "negative: I dislike mosquito\n",
      "negative: I felt very sad\n",
      "positive: I feel so good\n"
     ]
    }
   ],
   "source": [
    "# 파인튜닝 이후 추론\n",
    "dic = {0: 'positive', 1: 'neutral', 2: 'negative'}\n",
    "\n",
    "eval_list = ['I like apple',\n",
    "             'I like pear',\n",
    "             'I go to school',\n",
    "             'I dislike mosquito',\n",
    "             'I felt very sad',\n",
    "             'I feel so good']\n",
    "\n",
    "model.eval()\n",
    "preds = []\n",
    "\n",
    "with torch.no_grad():\n",
    "    for article in eval_list:\n",
    "        inputs = tokenizer.encode(article, return_tensors='pt', padding=True, truncation=True)\n",
    "        outputs = model(inputs)\n",
    "        logits = outputs.logits\n",
    "        pred = logits.argmax(-1).item()\n",
    "        preds.append(logits.argmax(-1).item())\n",
    "        print(f'{dic[pred]}: {article}')"
   ],
   "metadata": {
    "collapsed": false,
    "ExecuteTime": {
     "start_time": "2023-08-24T11:08:44.882983Z",
     "end_time": "2023-08-24T11:08:45.137279Z"
    }
   }
  },
  {
   "cell_type": "code",
   "execution_count": 26,
   "outputs": [
    {
     "data": {
      "text/plain": "tensor([0, 0, 1, 2, 2, 0])"
     },
     "execution_count": 26,
     "metadata": {},
     "output_type": "execute_result"
    }
   ],
   "source": [
    "import torch\n",
    "preds = torch.tensor(preds)\n",
    "preds"
   ],
   "metadata": {
    "collapsed": false,
    "ExecuteTime": {
     "start_time": "2023-08-24T11:10:31.655380Z",
     "end_time": "2023-08-24T11:10:31.678347Z"
    }
   }
  },
  {
   "cell_type": "code",
   "execution_count": 27,
   "outputs": [
    {
     "name": "stdout",
     "output_type": "stream",
     "text": [
      "Accuracy: 100.0%\n"
     ]
    }
   ],
   "source": [
    "print(f\"Accuracy: {100 * sum(ans.detach().clone()==preds)/len(ans.detach().clone())}%\")"
   ],
   "metadata": {
    "collapsed": false,
    "ExecuteTime": {
     "start_time": "2023-08-24T11:11:44.987495Z",
     "end_time": "2023-08-24T11:11:45.011534Z"
    }
   }
  },
  {
   "cell_type": "code",
   "execution_count": 28,
   "outputs": [
    {
     "data": {
      "text/plain": "tensor([0, 0, 1, 2, 2, 0])"
     },
     "execution_count": 28,
     "metadata": {},
     "output_type": "execute_result"
    }
   ],
   "source": [
    "ans"
   ],
   "metadata": {
    "collapsed": false,
    "ExecuteTime": {
     "start_time": "2023-08-24T11:12:13.998013Z",
     "end_time": "2023-08-24T11:12:14.036907Z"
    }
   }
  },
  {
   "cell_type": "code",
   "execution_count": null,
   "outputs": [],
   "source": [],
   "metadata": {
    "collapsed": false
   }
  }
 ],
 "metadata": {
  "kernelspec": {
   "display_name": "Python 3",
   "language": "python",
   "name": "python3"
  },
  "language_info": {
   "codemirror_mode": {
    "name": "ipython",
    "version": 2
   },
   "file_extension": ".py",
   "mimetype": "text/x-python",
   "name": "python",
   "nbconvert_exporter": "python",
   "pygments_lexer": "ipython2",
   "version": "2.7.6"
  }
 },
 "nbformat": 4,
 "nbformat_minor": 0
}
