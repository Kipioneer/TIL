{
 "cells": [
  {
   "cell_type": "code",
   "execution_count": 1,
   "metadata": {
    "collapsed": true,
    "ExecuteTime": {
     "start_time": "2023-08-24T11:35:20.010785Z",
     "end_time": "2023-08-24T11:35:50.655942Z"
    }
   },
   "outputs": [
    {
     "data": {
      "text/plain": "HBox(children=(FloatProgress(value=0.0, description='Downloading (…)lve/main/config.json', max=1716.0, style=P…",
      "application/vnd.jupyter.widget-view+json": {
       "version_major": 2,
       "version_minor": 0,
       "model_id": "4b90e3bbc3f34fa0b562d269d1a8e8bc"
      }
     },
     "metadata": {},
     "output_type": "display_data"
    },
    {
     "name": "stdout",
     "output_type": "stream",
     "text": [
      "\n"
     ]
    },
    {
     "name": "stderr",
     "output_type": "stream",
     "text": [
      "C:\\Python\\Python39\\lib\\site-packages\\huggingface_hub\\file_download.py:133: UserWarning: `huggingface_hub` cache-system uses symlinks by default to efficiently store duplicated files but your machine does not support them in C:\\Users\\tjoeun\\.cache\\huggingface\\hub. Caching files will still work but in a degraded version that might require more space on your disk. This warning can be disabled by setting the `HF_HUB_DISABLE_SYMLINKS_WARNING` environment variable. For more details, see https://huggingface.co/docs/huggingface_hub/how-to-cache#limitations.\n",
      "To support symlinks on Windows, you either need to activate Developer Mode or to run Python as an administrator. In order to see activate developer mode, see this article: https://docs.microsoft.com/en-us/windows/apps/get-started/enable-your-device-for-development\n",
      "  warnings.warn(message)\n"
     ]
    },
    {
     "data": {
      "text/plain": "HBox(children=(FloatProgress(value=0.0, description='Downloading model.safetensors', max=557709915.0, style=Pr…",
      "application/vnd.jupyter.widget-view+json": {
       "version_major": 2,
       "version_minor": 0,
       "model_id": "2ef2fe1634be4f5da04a03f7f5feba57"
      }
     },
     "metadata": {},
     "output_type": "display_data"
    },
    {
     "name": "stdout",
     "output_type": "stream",
     "text": [
      "\n"
     ]
    },
    {
     "name": "stderr",
     "output_type": "stream",
     "text": [
      "All PyTorch model weights were used when initializing TFBartForConditionalGeneration.\n",
      "\n",
      "All the weights of TFBartForConditionalGeneration were initialized from the PyTorch model.\n",
      "If your task is similar to the task the model of the checkpoint was trained on, you can already use TFBartForConditionalGeneration for predictions without further training.\n"
     ]
    },
    {
     "data": {
      "text/plain": "HBox(children=(FloatProgress(value=0.0, description='Downloading (…)olve/main/vocab.json', max=898823.0, style…",
      "application/vnd.jupyter.widget-view+json": {
       "version_major": 2,
       "version_minor": 0,
       "model_id": "0a5faa88c131458b891628df1f043f6a"
      }
     },
     "metadata": {},
     "output_type": "display_data"
    },
    {
     "name": "stdout",
     "output_type": "stream",
     "text": [
      "\n"
     ]
    },
    {
     "data": {
      "text/plain": "HBox(children=(FloatProgress(value=0.0, description='Downloading (…)olve/main/merges.txt', max=456318.0, style…",
      "application/vnd.jupyter.widget-view+json": {
       "version_major": 2,
       "version_minor": 0,
       "model_id": "8ac8be6fac15461fbd0c28682c0b6d68"
      }
     },
     "metadata": {},
     "output_type": "display_data"
    },
    {
     "name": "stdout",
     "output_type": "stream",
     "text": [
      "\n"
     ]
    }
   ],
   "source": [
    "from transformers import BartTokenizer, TFBartForConditionalGeneration\n",
    "\n",
    "# 모델 및 토크나이저 불러오기\n",
    "model = TFBartForConditionalGeneration.from_pretrained('facebook/bart-base')\n",
    "tokenizer = BartTokenizer.from_pretrained('facebook/bart-base')"
   ]
  },
  {
   "cell_type": "code",
   "execution_count": 2,
   "outputs": [
    {
     "name": "stdout",
     "output_type": "stream",
     "text": [
      "before:\n",
      "\n",
      "\n",
      "Google LLC is an American multinational technology company focusing on search engine technology, online advertising, cloud computing, computer software, quantum computing, e-commerce, artificial intelligence,[9] and consumer electronics. It has been referred to as \"the most powerful company in the world\"[10] and one of the world's most valuable brands due to its market dominance, data collection, and technological advantages in the area of artificial intelligence.[11][12][13] Its parent company Alphabet is considered one of the Big Five American information technology companies, alongside Amazon, Apple, Meta, and Microsoft.\n",
      "\n",
      "Google was founded on September 4, 1998, by Larry Page and Sergey Brin while they were PhD students at Stanford University in California. Together they own about 14% of its publicly listed shares and control 56% of the stockholder voting power through super-voting stock. The company went public via an initial public offering (IPO) in 2004. In 2015, Google was reorganized as a wholly owned subsidiary of Alphabet Inc. Google is Alphabet's largest subsidiary and is a holding company for Alphabet's Internet properties and interests. Sundar Pichai was appointed CEO of Google on October 24, 2015, replacing Larry Page, who became the CEO of Alphabet. On December 3, 2019, Pichai also became the CEO of Alphabet.[14]\n",
      "\n",
      "The company has since rapidly grown to offer a multitude of products and services beyond Google Search, many of which hold dominant market positions. These products address a wide range of use cases, including email (Gmail), navigation (Waze & Maps), cloud computing (Cloud), web browsing (Chrome), video sharing (YouTube), productivity (Workspace), operating systems (Android), cloud storage (Drive), language translation (Translate), photo storage (Photos), video calling (Meet), smart home (Nest), smartphones (Pixel), wearable technology (Pixel Watch & Fitbit), music streaming (YouTube Music), video on demand (YouTube TV), artificial intelligence (Google Assistant), machine learning APIs (TensorFlow), AI chips (TPU), and more. Discontinued Google products include gaming (Stadia), Glass,[citation needed] Google+, Reader, Play Music, Nexus, Hangouts, and Inbox by Gmail.[15][16]\n",
      "\n",
      "Google's other ventures outside of Internet services and consumer electronics include quantum computing (Sycamore), self-driving cars (Waymo, formerly the Google Self-Driving Car Project), smart cities (Sidewalk Labs), and transformer models (Google Brain).[17]\n",
      "\n",
      "Google and YouTube are the two most visited websites worldwide followed by Facebook and Twitter. Google is also the largest search engine, mapping and navigation application, email provider, office suite, video sharing platform, photo and cloud storage provider, mobile operating system, web browser, ML framework, and AI virtual assistant provider in the world as measured by market share. On the list of most valuable brands, Google is ranked second by Forbes[18] and fourth by Interbrand.[19] It has received significant criticism involving issues such as privacy concerns, tax avoidance, censorship, search neutrality, antitrust and abuse of its monopoly position.\n",
      "\n",
      "\n"
     ]
    }
   ],
   "source": [
    "import re\n",
    "\n",
    "article = \"\"\"\n",
    "\n",
    "Google LLC is an American multinational technology company focusing on search engine technology, online advertising, cloud computing, computer software, quantum computing, e-commerce, artificial intelligence,[9] and consumer electronics. It has been referred to as \"the most powerful company in the world\"[10] and one of the world's most valuable brands due to its market dominance, data collection, and technological advantages in the area of artificial intelligence.[11][12][13] Its parent company Alphabet is considered one of the Big Five American information technology companies, alongside Amazon, Apple, Meta, and Microsoft.\n",
    "\n",
    "Google was founded on September 4, 1998, by Larry Page and Sergey Brin while they were PhD students at Stanford University in California. Together they own about 14% of its publicly listed shares and control 56% of the stockholder voting power through super-voting stock. The company went public via an initial public offering (IPO) in 2004. In 2015, Google was reorganized as a wholly owned subsidiary of Alphabet Inc. Google is Alphabet's largest subsidiary and is a holding company for Alphabet's Internet properties and interests. Sundar Pichai was appointed CEO of Google on October 24, 2015, replacing Larry Page, who became the CEO of Alphabet. On December 3, 2019, Pichai also became the CEO of Alphabet.[14]\n",
    "\n",
    "The company has since rapidly grown to offer a multitude of products and services beyond Google Search, many of which hold dominant market positions. These products address a wide range of use cases, including email (Gmail), navigation (Waze & Maps), cloud computing (Cloud), web browsing (Chrome), video sharing (YouTube), productivity (Workspace), operating systems (Android), cloud storage (Drive), language translation (Translate), photo storage (Photos), video calling (Meet), smart home (Nest), smartphones (Pixel), wearable technology (Pixel Watch & Fitbit), music streaming (YouTube Music), video on demand (YouTube TV), artificial intelligence (Google Assistant), machine learning APIs (TensorFlow), AI chips (TPU), and more. Discontinued Google products include gaming (Stadia), Glass,[citation needed] Google+, Reader, Play Music, Nexus, Hangouts, and Inbox by Gmail.[15][16]\n",
    "\n",
    "Google's other ventures outside of Internet services and consumer electronics include quantum computing (Sycamore), self-driving cars (Waymo, formerly the Google Self-Driving Car Project), smart cities (Sidewalk Labs), and transformer models (Google Brain).[17]\n",
    "\n",
    "Google and YouTube are the two most visited websites worldwide followed by Facebook and Twitter. Google is also the largest search engine, mapping and navigation application, email provider, office suite, video sharing platform, photo and cloud storage provider, mobile operating system, web browser, ML framework, and AI virtual assistant provider in the world as measured by market share. On the list of most valuable brands, Google is ranked second by Forbes[18] and fourth by Interbrand.[19] It has received significant criticism involving issues such as privacy concerns, tax avoidance, censorship, search neutrality, antitrust and abuse of its monopoly position.\n",
    "\n",
    "\"\"\"\n",
    "\n",
    "print('before:' )\n",
    "print(article)"
   ],
   "metadata": {
    "collapsed": false,
    "ExecuteTime": {
     "start_time": "2023-08-24T11:36:17.433410Z",
     "end_time": "2023-08-24T11:36:17.466347Z"
    }
   }
  },
  {
   "cell_type": "code",
   "execution_count": 5,
   "outputs": [
    {
     "name": "stdout",
     "output_type": "stream",
     "text": [
      "after: \n",
      "Google LLC is an American multinational technology company focusing on search engine technology, online advertising, cloud computing, computer software, quantum computing, e-commerce, artificial intelligence and consumer electronics. It has been referred to as \"the most powerful company in the world and one of the world's most valuable brands due to its market dominance, data collection, and technological advantages in the area of artificial intelligence Its parent company Alphabet is considered one of the Big Five American information technology companies, alongside Amazon, Apple, Meta, and Microsoft.Google was founded on September 4, 1998, by Larry Page and Sergey Brin while they were PhD students at Stanford University in California. Together they own about 14% of its publicly listed shares and control 56% of the stockholder voting power through super-voting stock. The company went public via an initial public offering (IPO) in 2004. In 2015, Google was reorganized as a wholly owned subsidiary of Alphabet Inc. Google is Alphabet's largest subsidiary and is a holding company for Alphabet's Internet properties and interests. Sundar Pichai was appointed CEO of Google on October 24, 2015, replacing Larry Page, who became the CEO of Alphabet. On December 3, 2019, Pichai also became the CEO of AlphabetThe company has since rapidly grown to offer a multitude of products and services beyond Google Search, many of which hold dominant market positions. These products address a wide range of use cases, including email (Gmail), navigation (Waze & Maps), cloud computing (Cloud), web browsing (Chrome), video sharing (YouTube), productivity (Workspace), operating systems (Android), cloud storage (Drive), language translation (Translate), photo storage (Photos), video calling (Meet), smart home (Nest), smartphones (Pixel), wearable technology (Pixel Watch & Fitbit), music streaming (YouTube Music), video on demand (YouTube TV), artificial intelligence (Google Assistant), machine learning APIs (TensorFlow), AI chips (TPU), and more. Discontinued Google products include gaming (Stadia), Glass,[citation needed] Google+, Reader, Play Music, Nexus, Hangouts, and Inbox by GmailGoogle's other ventures outside of Internet services and consumer electronics include quantum computing (Sycamore), self-driving cars (Waymo, formerly the Google Self-Driving Car Project), smart cities (Sidewalk Labs), and transformer models (Google Brain)Google and YouTube are the two most visited websites worldwide followed by Facebook and Twitter. Google is also the largest search engine, mapping and navigation application, email provider, office suite, video sharing platform, photo and cloud storage provider, mobile operating system, web browser, ML framework, and AI virtual assistant provider in the world as measured by market share. On the list of most valuable brands, Google is ranked second by Forbe and fourth by Interbrand It has received significant criticism involving issues such as privacy concerns, tax avoidance, censorship, search neutrality, antitrust and abuse of its monopoly position.\n"
     ]
    }
   ],
   "source": [
    "article = re.sub(r\"[:.]\\[[0-9]+\\](.*?)\\([0-9]+\\)|.?[([][0-9]+[])]|\\n|\\r\", r\"\", article)\n",
    "# re regular expression 정규 표현식\n",
    "# sub (패턴, 대체값, 문장)\n",
    "print('after: ')\n",
    "print(article)"
   ],
   "metadata": {
    "collapsed": false,
    "ExecuteTime": {
     "start_time": "2023-08-24T11:49:54.173639Z",
     "end_time": "2023-08-24T11:49:54.186605Z"
    }
   }
  },
  {
   "cell_type": "code",
   "execution_count": 6,
   "outputs": [
    {
     "data": {
      "text/plain": "{'input_ids': <tf.Tensor: shape=(1, 609), dtype=int32, numpy=\narray([[    0, 20441,  2291,    16,    41,   470, 17043,   806,   138,\n         5650,    15,  1707,  3819,   806,     6,   804,  4579,     6,\n         3613, 11730,     6,  3034,  2257,     6, 17997, 11730,     6,\n          364,    12,  8342,     6,  7350,  2316,     8,  2267,  8917,\n            4,    85,    34,    57,  4997,     7,    25,    22,   627,\n          144,  2247,   138,    11,     5,   232,     8,    65,     9,\n            5,   232,    18,   144,  5130,  3595,   528,     7,    63,\n          210, 12532,     6,   414,  2783,     6,     8,  9874, 12340,\n           11,     5,   443,     9,  7350,  2316,  3139,  4095,   138,\n        15023,    16,  1687,    65,     9,     5,  1776,  4934,   470,\n          335,   806,   451,     6,  2863,  1645,     6,  1257,     6,\n        37622,     6,     8,  3709,     4, 20441,    21,  4790,    15,\n          772,   204,     6,  6708,     6,    30,  6045,  7086,     8,\n        23509,  2265,   179,   150,    51,    58, 15221,   521,    23,\n         8607,   589,    11,   886,     4, 10853,    51,   308,    59,\n          501,   207,     9,    63,  3271,  3147,   327,     8,   797,\n         4772,   207,     9,     5,   388, 14074,  3434,   476,   149,\n         2422,    12,   705, 12653,   388,     4,    20,   138,   439,\n          285,  1241,    41,  2557,   285,  1839,    36,  3808,   673,\n           43,    11,  4482,     4,    96,   570,     6,  1204,    21,\n          769, 29835,    25,    10, 16123,  2164,  8540,     9, 15023,\n          603,     4,  1204,    16, 15023,    18,  1154,  8540,     8,\n           16,    10,  1826,   138,    13, 15023,    18,  3742,  3611,\n            8,  3168,     4, 12282,   271,   221,  1725,  1439,    21,\n         3873,  1324,     9,  1204,    15,   779,   706,     6,   570,\n            6,  8119,  6045,  7086,     6,    54,  1059,     5,  1324,\n            9, 15023,     4,   374,   719,   155,     6,   954,     6,\n          221,  1725,  1439,    67,  1059,     5,  1324,     9, 15023,\n          133,   138,    34,   187,  6042,  3831,     7,   904,    10,\n        25180,     9,   785,     8,   518,  1684,  1204, 12180,     6,\n          171,     9,    61,   946,  7353,   210,  2452,     4,  1216,\n          785,  1100,    10,  1810,  1186,     9,   304,  1200,     6,\n          217,  1047,    36,   534,  6380,   238, 14461,    36,   771,\n        10129,   359, 21089,   238,  3613, 11730,    36, 14438,   238,\n         3748, 24033,    36,  4771, 20169,   238,   569,  3565,    36,\n        36169,   238,  8106,    36, 26025, 18851,   238,  1633,  1743,\n           36, 42375,   238,  3613,  3521,    36, 29279,   238,  2777,\n        19850,    36, 19163, 19593,   238,  1345,  3521,    36, 38580,\n          238,   569,  1765,    36, 30682,   238,  2793,   184,    36,\n          487,   990,   238,  7466,    36, 46548,   238, 23541,   806,\n           36, 46548,  3075,   359, 14950,  5881,   238,   930,  5230,\n           36, 36169,  3920,   238,   569,    15,  1077,    36, 36169,\n         1012,   238,  7350,  2316,    36, 20441,  6267,   238,  3563,\n         2239, 35329,    36,   565, 35354, 41779,   238,  4687,  8053,\n           36,   565, 16821,   238,     8,    55,     4, 19020,  2533,\n          179,  6796,  1204,   785,   680,  6548,    36,  5320, 20329,\n          238, 10352, 47789,   438, 12257,   956,   742,  1204, 30787,\n        27019,     6,  3902,  3920,     6, 28645,     6, 12403,  4518,\n            6,     8,    96,  8304,    30, 29004, 20441,    18,    97,\n        16186,   751,     9,  3742,   518,     8,  2267,  8917,   680,\n        17997, 11730,    36, 35615, 16767,  1688,   238,  1403,    12,\n        10241,  1677,    36, 24450,  4992,     6,  9598,     5,  1204,\n        12156,    12, 34002,  6645,  1653,  3728,   238,  2793,  1947,\n           36,   104,   808,  2753,  9707, 20404,   238,     8, 40878,\n         3092,    36, 20441, 19743,    43, 20441,     8,  4037,    32,\n            5,    80,   144,  3790,  7656,  3612,  1432,    30,   622,\n            8,   599,     4,  1204,    16,    67,     5,  1154,  1707,\n         3819,     6, 20410,     8, 14461,  2502,     6,  1047,  3696,\n            6,   558, 10606,     6,   569,  3565,  1761,     6,  1345,\n            8,  3613,  3521,  3696,     6,  1830,  1633,   467,     6,\n         3748, 11407,     6, 10725,  7208,     6,     8,  4687,  6229,\n         3167,  3696,    11,     5,   232,    25,  9550,    30,   210,\n          458,     4,   374,     5,   889,     9,   144,  5130,  3595,\n            6,  1204,    16,  4173,   200,    30,   286,  1610,     8,\n          887,    30,  3870, 11638,    85,    34,   829,  1233,  3633,\n         3329,   743,   215,    25,  4144,  1379,     6,   629, 29751,\n            6, 23915,     6,  1707, 18755,     6, 18849,     8,  2134,\n            9,    63, 21445,   737,     4,     2]])>, 'attention_mask': <tf.Tensor: shape=(1, 609), dtype=int32, numpy=\narray([[1, 1, 1, 1, 1, 1, 1, 1, 1, 1, 1, 1, 1, 1, 1, 1, 1, 1, 1, 1, 1, 1,\n        1, 1, 1, 1, 1, 1, 1, 1, 1, 1, 1, 1, 1, 1, 1, 1, 1, 1, 1, 1, 1, 1,\n        1, 1, 1, 1, 1, 1, 1, 1, 1, 1, 1, 1, 1, 1, 1, 1, 1, 1, 1, 1, 1, 1,\n        1, 1, 1, 1, 1, 1, 1, 1, 1, 1, 1, 1, 1, 1, 1, 1, 1, 1, 1, 1, 1, 1,\n        1, 1, 1, 1, 1, 1, 1, 1, 1, 1, 1, 1, 1, 1, 1, 1, 1, 1, 1, 1, 1, 1,\n        1, 1, 1, 1, 1, 1, 1, 1, 1, 1, 1, 1, 1, 1, 1, 1, 1, 1, 1, 1, 1, 1,\n        1, 1, 1, 1, 1, 1, 1, 1, 1, 1, 1, 1, 1, 1, 1, 1, 1, 1, 1, 1, 1, 1,\n        1, 1, 1, 1, 1, 1, 1, 1, 1, 1, 1, 1, 1, 1, 1, 1, 1, 1, 1, 1, 1, 1,\n        1, 1, 1, 1, 1, 1, 1, 1, 1, 1, 1, 1, 1, 1, 1, 1, 1, 1, 1, 1, 1, 1,\n        1, 1, 1, 1, 1, 1, 1, 1, 1, 1, 1, 1, 1, 1, 1, 1, 1, 1, 1, 1, 1, 1,\n        1, 1, 1, 1, 1, 1, 1, 1, 1, 1, 1, 1, 1, 1, 1, 1, 1, 1, 1, 1, 1, 1,\n        1, 1, 1, 1, 1, 1, 1, 1, 1, 1, 1, 1, 1, 1, 1, 1, 1, 1, 1, 1, 1, 1,\n        1, 1, 1, 1, 1, 1, 1, 1, 1, 1, 1, 1, 1, 1, 1, 1, 1, 1, 1, 1, 1, 1,\n        1, 1, 1, 1, 1, 1, 1, 1, 1, 1, 1, 1, 1, 1, 1, 1, 1, 1, 1, 1, 1, 1,\n        1, 1, 1, 1, 1, 1, 1, 1, 1, 1, 1, 1, 1, 1, 1, 1, 1, 1, 1, 1, 1, 1,\n        1, 1, 1, 1, 1, 1, 1, 1, 1, 1, 1, 1, 1, 1, 1, 1, 1, 1, 1, 1, 1, 1,\n        1, 1, 1, 1, 1, 1, 1, 1, 1, 1, 1, 1, 1, 1, 1, 1, 1, 1, 1, 1, 1, 1,\n        1, 1, 1, 1, 1, 1, 1, 1, 1, 1, 1, 1, 1, 1, 1, 1, 1, 1, 1, 1, 1, 1,\n        1, 1, 1, 1, 1, 1, 1, 1, 1, 1, 1, 1, 1, 1, 1, 1, 1, 1, 1, 1, 1, 1,\n        1, 1, 1, 1, 1, 1, 1, 1, 1, 1, 1, 1, 1, 1, 1, 1, 1, 1, 1, 1, 1, 1,\n        1, 1, 1, 1, 1, 1, 1, 1, 1, 1, 1, 1, 1, 1, 1, 1, 1, 1, 1, 1, 1, 1,\n        1, 1, 1, 1, 1, 1, 1, 1, 1, 1, 1, 1, 1, 1, 1, 1, 1, 1, 1, 1, 1, 1,\n        1, 1, 1, 1, 1, 1, 1, 1, 1, 1, 1, 1, 1, 1, 1, 1, 1, 1, 1, 1, 1, 1,\n        1, 1, 1, 1, 1, 1, 1, 1, 1, 1, 1, 1, 1, 1, 1, 1, 1, 1, 1, 1, 1, 1,\n        1, 1, 1, 1, 1, 1, 1, 1, 1, 1, 1, 1, 1, 1, 1, 1, 1, 1, 1, 1, 1, 1,\n        1, 1, 1, 1, 1, 1, 1, 1, 1, 1, 1, 1, 1, 1, 1, 1, 1, 1, 1, 1, 1, 1,\n        1, 1, 1, 1, 1, 1, 1, 1, 1, 1, 1, 1, 1, 1, 1, 1, 1, 1, 1, 1, 1, 1,\n        1, 1, 1, 1, 1, 1, 1, 1, 1, 1, 1, 1, 1, 1, 1]])>}"
     },
     "execution_count": 6,
     "metadata": {},
     "output_type": "execute_result"
    }
   ],
   "source": [
    "inputs = tokenizer([article], max_length=1024, return_tensors='tf', truncation=True)\n",
    "inputs"
   ],
   "metadata": {
    "collapsed": false,
    "ExecuteTime": {
     "start_time": "2023-08-24T11:50:32.844294Z",
     "end_time": "2023-08-24T11:50:32.878231Z"
    }
   }
  },
  {
   "cell_type": "code",
   "execution_count": 13,
   "outputs": [
    {
     "name": "stdout",
     "output_type": "stream",
     "text": [
      "[[    0 20441  2291    16    41   470 17043   806   138  5650    15  1707\n",
      "   3819   806     6   804  4579     6  3613 11730     6  3034  2257     6\n",
      "  17997 11730     6   364    12  8342     6  7350  2316     8  2267  8917\n",
      "      4    85    34    57  4997     7    25    22   627   144  2247   138\n",
      "     11     5   232     8    65     9     5   232    18   144  5130  3595\n",
      "    528     7    63   210 12532     6   414  2783     6     8  9874 12340\n",
      "     11     5   443     9  7350  2316  3139  4095   138 15023    16  1687\n",
      "     65     9     5  1776  4934   470   335   806   451     6  2863  1645\n",
      "      6  1257     6 37622     6     8  3709     4 20441    21  4790    15\n",
      "    772   204     6  6708     6    30  6045  7086     8 23509  2265   179\n",
      "    150    51    58 15221   521    23  8607   589    11   886     4 10853\n",
      "     51   308    59   501   207     9    63  3271  3147   327     8   797\n",
      "   4772   207     9     5   388 14074  3434   476   149  2422    12   705\n",
      "  12653   388     4    20   138   439   285  1241    41  2557   285  1839\n",
      "     36  3808   673    43    11  4482     4    96   570     6  1204    21\n",
      "    769 29835    25    10 16123  2164  8540     9 15023   603     4  1204\n",
      "     16 15023    18  1154  8540     8    16    10  1826   138    13 15023\n",
      "     18  3742  3611     8  3168     4 12282   271   221  1725  1439    21\n",
      "   3873  1324     9  1204    15   779   706     6   570     6  8119  6045\n",
      "   7086     6    54  1059     5  1324     9 15023     4   374   719   155\n",
      "      6   954     6   221  1725  1439    67  1059     5  1324     9 15023\n",
      "    133   138    34   187  6042  3831     7   904    10 25180     9   785\n",
      "      8   518  1684  1204 12180     6   171     9    61   946  7353   210\n",
      "   2452     4  1216   785  1100    10  1810  1186     9   304  1200     6\n",
      "    217  1047    36   534  6380   238 14461    36   771 10129   359 21089\n",
      "    238  3613 11730    36 14438   238  3748 24033    36  4771 20169   238\n",
      "    569  3565    36 36169   238  8106    36 26025 18851   238  1633  1743\n",
      "     36 42375   238  3613  3521    36 29279   238  2777 19850    36 19163\n",
      "  19593   238  1345  3521    36 38580   238   569  1765    36 30682   238\n",
      "   2793   184    36   487   990   238  7466    36 46548   238 23541   806\n",
      "     36 46548  3075   359 14950  5881   238   930  5230    36 36169  3920\n",
      "    238   569    15  1077    36 36169  1012   238  7350  2316    36 20441\n",
      "   6267   238  3563  2239 35329    36   565 35354 41779   238  4687  8053\n",
      "     36   565 16821   238     8    55     4 19020  2533   179  6796  1204\n",
      "    785   680  6548    36  5320 20329   238 10352 47789   438 12257   956\n",
      "    742  1204 30787 27019     6  3902  3920     6 28645     6 12403  4518\n",
      "      6     8    96  8304    30 29004 20441    18    97 16186   751     9\n",
      "   3742   518     8  2267  8917   680 17997 11730    36 35615 16767  1688\n",
      "    238  1403    12 10241  1677    36 24450  4992     6  9598     5  1204\n",
      "  12156    12 34002  6645  1653  3728   238  2793  1947    36   104   808\n",
      "   2753  9707 20404   238     8 40878  3092    36 20441 19743    43 20441\n",
      "      8  4037    32     5    80   144  3790  7656  3612  1432    30   622\n",
      "      8   599     4  1204    16    67     5  1154  1707  3819     6 20410\n",
      "      8 14461  2502     6  1047  3696     6   558 10606     6   569  3565\n",
      "   1761     6  1345     8  3613  3521  3696     6  1830  1633   467     6\n",
      "   3748 11407     6 10725  7208     6     8  4687  6229  3167  3696    11\n",
      "      5   232    25  9550    30   210   458     4   374     5   889     9\n",
      "    144  5130  3595     6  1204    16  4173   200    30   286  1610     8\n",
      "    887    30  3870 11638    85    34   829  1233  3633  3329   743   215\n",
      "     25  4144  1379     6   629 29751     6 23915     6  1707 18755     6\n",
      "  18849     8  2134     9    63 21445   737     4     2]]\n"
     ]
    }
   ],
   "source": [
    "print(inputs['input_ids'].numpy())"
   ],
   "metadata": {
    "collapsed": false,
    "ExecuteTime": {
     "start_time": "2023-08-24T11:51:52.112695Z",
     "end_time": "2023-08-24T11:51:52.167547Z"
    }
   }
  },
  {
   "cell_type": "code",
   "execution_count": 14,
   "outputs": [
    {
     "data": {
      "text/plain": "<tf.Tensor: shape=(1, 25), dtype=int32, numpy=\narray([[    2,     0, 20441,  2291,    16,    41,   470, 17043,   806,\n          138,  5650,    15,  1707,  3819,   806,     6,   804,  4579,\n            6,  3613, 11730,     6,  3034,  2257,     2]])>"
     },
     "execution_count": 14,
     "metadata": {},
     "output_type": "execute_result"
    }
   ],
   "source": [
    "# 문장 요약 생성 결과(vocabulary ID)를 summary_ids에 저장\n",
    "# num_beams: 의미있는 문장 후보군의 수\n",
    "summary_ids = model.generate(inputs['input_ids'], num_beams=5, max_length=25)\n",
    "summary_ids"
   ],
   "metadata": {
    "collapsed": false,
    "ExecuteTime": {
     "start_time": "2023-08-24T11:53:20.000909Z",
     "end_time": "2023-08-24T11:53:29.431872Z"
    }
   }
  },
  {
   "cell_type": "markdown",
   "source": [
    " GPT 설명\n",
    "model.generate(): 이 메소드는 모델을 사용하여 텍스트를 생성하는 함수입니다. 입력으로는 input_ids와 함께 생성에 필요한 다양한 매개변수들을 제공합니다.\n",
    "\n",
    "inputs['input_ids']: 이 부분은 입력 문장을 나타냅니다. input_ids는 텍스트를 토큰화하여 각 토큰에 대한 고유 식별자(ID)로 변환한 것입니다.\n",
    "\n",
    "num_beams=5: 생성하는 동안 여러 개의 빔을 사용하여 다양한 후보 문장을 유지하고 선택하는 빔서치 방법입니다. num_beams는 빔의 개수를 나타냅니다. 이 경우 5개의 빔이 사용됩니다.\n",
    "\n",
    "max_length=25: 생성된 요약 문장의 최대 길이를 제한하는 매개변수입니다. 이 경우 최대 길이가 25로 설정되어 있으므로 생성된 요약은 25개의 토큰을 넘지 않습니다.\n",
    "\n",
    "마지막으로, summary_ids 변수에는 모델에 의해 생성된 요약 문장의 토큰 ID들이 저장됩니다. 이 요약 문장을 텍스트로 디코딩하여 읽을 수 있습니다. 다음 단계에서 이 summary_ids를 텍스트로 변환하여 실제로 생성된 요약 문장을 얻을 수 있습니다."
   ],
   "metadata": {
    "collapsed": false
   }
  },
  {
   "cell_type": "code",
   "execution_count": 16,
   "outputs": [
    {
     "name": "stdout",
     "output_type": "stream",
     "text": [
      "Google LLC is an American multinational technology company focusing on search engine technology, online advertising, cloud computing, computer software\n"
     ]
    }
   ],
   "source": [
    "# 숫자=>단어\n",
    "print(''.join([tokenizer.decode(g, skip_special_tokens=True, clean_up_tokenization_spaces=False) for g in summary_ids]))"
   ],
   "metadata": {
    "collapsed": false,
    "ExecuteTime": {
     "start_time": "2023-08-24T11:54:52.066566Z",
     "end_time": "2023-08-24T11:54:52.076538Z"
    }
   }
  },
  {
   "cell_type": "markdown",
   "source": [
    "tokenizer.decode(): 이 함수는 토큰 ID를 텍스트로 디코딩하는 역할을 합니다. 디코딩된 텍스트를 얻기 위해 생성한 요약 문장에 포함된 토큰 ID들을 디코딩합니다.\n",
    "\n",
    "g는 summary_ids에 있는 각 토큰 ID를 나타내는 변수입니다. 리스트 컴프리헨션 내에서 반복적으로 사용됩니다.\n",
    "\n",
    "skip_special_tokens=True: 디코딩할 때 특수 토큰(예: [CLS], [SEP], [PAD] 등)을 건너뛰고 실제 텍스트만 반환하도록 설정하는 매개변수입니다.\n",
    "\n",
    "clean_up_tokenization_spaces=False: 토크나이저가 추가한 공백 문자를 제거하지 않도록 설정하는 매개변수입니다. 이 매개변수가 False로 설정되어 있으면, 토큰화 과정에서 추가된 공백 문자가 그대로 유지됩니다.\n",
    "\n",
    "summary_ids는 모델이 생성한 요약 문장의 토큰 ID들을 저장하는 변수입니다."
   ],
   "metadata": {
    "collapsed": false
   }
  },
  {
   "cell_type": "code",
   "execution_count": null,
   "outputs": [],
   "source": [],
   "metadata": {
    "collapsed": false
   }
  }
 ],
 "metadata": {
  "kernelspec": {
   "display_name": "Python 3",
   "language": "python",
   "name": "python3"
  },
  "language_info": {
   "codemirror_mode": {
    "name": "ipython",
    "version": 2
   },
   "file_extension": ".py",
   "mimetype": "text/x-python",
   "name": "python",
   "nbconvert_exporter": "python",
   "pygments_lexer": "ipython2",
   "version": "2.7.6"
  }
 },
 "nbformat": 4,
 "nbformat_minor": 0
}
