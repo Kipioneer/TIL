{
 "cells": [
  {
   "cell_type": "code",
   "execution_count": 1,
   "id": "0352b5fd-109d-404f-8f96-579f773c3692",
   "metadata": {
    "execution": {
     "iopub.execute_input": "2023-08-23T08:36:44.354488Z",
     "iopub.status.busy": "2023-08-23T08:36:44.353150Z",
     "iopub.status.idle": "2023-08-23T08:36:55.351494Z",
     "shell.execute_reply": "2023-08-23T08:36:55.350670Z",
     "shell.execute_reply.started": "2023-08-23T08:36:44.354342Z"
    }
   },
   "outputs": [
    {
     "name": "stderr",
     "output_type": "stream",
     "text": [
      "2023-08-23 17:36:44.896806: I tensorflow/core/util/port.cc:110] oneDNN custom operations are on. You may see slightly different numerical results due to floating-point round-off errors from different computation orders. To turn them off, set the environment variable `TF_ENABLE_ONEDNN_OPTS=0`.\n",
      "2023-08-23 17:36:44.899927: I tensorflow/tsl/cuda/cudart_stub.cc:28] Could not find cuda drivers on your machine, GPU will not be used.\n",
      "2023-08-23 17:36:44.945375: I tensorflow/tsl/cuda/cudart_stub.cc:28] Could not find cuda drivers on your machine, GPU will not be used.\n",
      "2023-08-23 17:36:44.946473: I tensorflow/core/platform/cpu_feature_guard.cc:182] This TensorFlow binary is optimized to use available CPU instructions in performance-critical operations.\n",
      "To enable the following instructions: AVX2 AVX512F AVX512_VNNI FMA, in other operations, rebuild TensorFlow with the appropriate compiler flags.\n"
     ]
    },
    {
     "name": "stdout",
     "output_type": "stream",
     "text": [
      "Downloading data from https://storage.googleapis.com/tensorflow/tf-keras-datasets/mnist.npz\n",
      "11490434/11490434 [==============================] - 2s 0us/step\n"
     ]
    }
   ],
   "source": [
    "from keras.datasets import mnist\n",
    "(X_train, y_train), (X_test, y_test) = mnist.load_data()"
   ]
  },
  {
   "cell_type": "code",
   "execution_count": 3,
   "id": "5dfe6039-ad7d-4ead-bf2a-f616e97d7530",
   "metadata": {
    "execution": {
     "iopub.execute_input": "2023-08-23T08:38:41.081814Z",
     "iopub.status.busy": "2023-08-23T08:38:41.080971Z",
     "iopub.status.idle": "2023-08-23T08:38:41.448685Z",
     "shell.execute_reply": "2023-08-23T08:38:41.447889Z",
     "shell.execute_reply.started": "2023-08-23T08:38:41.081760Z"
    },
    "tags": []
   },
   "outputs": [],
   "source": [
    "X_train = X_train.reshape(-1,784)\n",
    "X_test = X_test.reshape(-1,784)\n",
    "X_train = X_train/255.\n",
    "X_test = X_test/255."
   ]
  },
  {
   "cell_type": "code",
   "execution_count": 4,
   "id": "432d2db0-94ba-4072-a4b5-e4bac54d0462",
   "metadata": {
    "execution": {
     "iopub.execute_input": "2023-08-23T08:39:32.871246Z",
     "iopub.status.busy": "2023-08-23T08:39:32.870181Z",
     "iopub.status.idle": "2023-08-23T08:39:34.031553Z",
     "shell.execute_reply": "2023-08-23T08:39:34.030866Z",
     "shell.execute_reply.started": "2023-08-23T08:39:32.871190Z"
    }
   },
   "outputs": [
    {
     "data": {
      "image/png": "[encoded data removed]",
      "text/plain": [
       "<Figure size 640x480 with 1 Axes>"
      ]
     },
     "metadata": {},
     "output_type": "display_data"
    }
   ],
   "source": [
    "import matplotlib.pyplot as plt\n",
    "from matplotlib import cm\n",
    "plt.imshow(X_train[0].reshape(28,28), cmap=cm.gray_r)\n",
    "plt.show()"
   ]
  },
  {
   "cell_type": "code",
   "execution_count": 6,
   "id": "61c3dfe8-4043-434d-aa95-d9002d68b51b",
   "metadata": {
    "execution": {
     "iopub.execute_input": "2023-08-23T08:43:57.273368Z",
     "iopub.status.busy": "2023-08-23T08:43:57.272740Z",
     "iopub.status.idle": "2023-08-23T08:44:01.731292Z",
     "shell.execute_reply": "2023-08-23T08:44:01.730343Z",
     "shell.execute_reply.started": "2023-08-23T08:43:57.273317Z"
    },
    "tags": []
   },
   "outputs": [
    {
     "name": "stdout",
     "output_type": "stream",
     "text": [
      "torch.Size([60000, 784])\n",
      "torch.Size([60000])\n"
     ]
    }
   ],
   "source": [
    "import torch\n",
    "# 학습용 데이터 텐서 변환\n",
    "# from_numpy()넘파이 배열을 텐설로 변환\n",
    "X_train = torch.from_numpy(X_train).float()\n",
    "y_train = torch.from_numpy(y_train.astype('int32')).long()\n",
    "\n",
    "# 검증용 데이터 텐서로 변환\n",
    "X_test = torch.from_numpy(X_test).float()\n",
    "y_test = torch.from_numpy(y_test.astype('int32')).long()\n",
    "\n",
    "# 변환된 텐서의 샘플수 확인\n",
    "print(X_train.shape)\n",
    "print(y_train.shape)"
   ]
  },
  {
   "cell_type": "code",
   "execution_count": 7,
   "id": "4192ed0d-acbb-4cff-b808-2a503555b7de",
   "metadata": {
    "execution": {
     "iopub.execute_input": "2023-08-23T08:44:41.381250Z",
     "iopub.status.busy": "2023-08-23T08:44:41.379643Z",
     "iopub.status.idle": "2023-08-23T08:44:45.818044Z",
     "shell.execute_reply": "2023-08-23T08:44:45.816612Z",
     "shell.execute_reply.started": "2023-08-23T08:44:41.381185Z"
    }
   },
   "outputs": [],
   "source": [
    "X_train = X_train.cuda()\n",
    "y_train = y_train.cuda()\n",
    "X_test = X_test.cuda()\n",
    "y_test = y_test.cuda()"
   ]
  },
  {
   "cell_type": "code",
   "execution_count": 8,
   "id": "f8883e4c-2d87-4e54-8db0-1cf194054aff",
   "metadata": {
    "execution": {
     "iopub.execute_input": "2023-08-23T08:45:50.927488Z",
     "iopub.status.busy": "2023-08-23T08:45:50.926640Z",
     "iopub.status.idle": "2023-08-23T08:45:50.959068Z",
     "shell.execute_reply": "2023-08-23T08:45:50.957446Z",
     "shell.execute_reply.started": "2023-08-23T08:45:50.927434Z"
    }
   },
   "outputs": [],
   "source": [
    "from torch.utils.data import DataLoader, TensorDataset\n",
    "# 독립변수와 종속변수 텐서를 합침\n",
    "train = TensorDataset(X_train, y_train)\n",
    "# 미니배치 분할\n",
    "train_loader = DataLoader(train, batch_size=100, shuffle=True)"
   ]
  },
  {
   "cell_type": "code",
   "execution_count": 9,
   "id": "4ed22690-6023-4533-b3f3-d4b83b086aaf",
   "metadata": {
    "execution": {
     "iopub.execute_input": "2023-08-23T09:03:15.185244Z",
     "iopub.status.busy": "2023-08-23T09:03:15.184602Z",
     "iopub.status.idle": "2023-08-23T09:03:15.414233Z",
     "shell.execute_reply": "2023-08-23T09:03:15.413180Z",
     "shell.execute_reply.started": "2023-08-23T09:03:15.185193Z"
    }
   },
   "outputs": [],
   "source": [
    "import torch.nn as nn\n",
    "class Net(nn.Module):\n",
    "    def __init__(self):\n",
    "        super(Net,self).__init__()\n",
    "        self.fc1 = nn.Linear(784, 256)\n",
    "        self.fc2 = nn.Linear(256, 256)\n",
    "        self.fc3 = nn.Linear(256, 256)\n",
    "        self.fc4 = nn.Linear(256, 128)\n",
    "        self.fc5 = nn.Linear(128, 128)\n",
    "        self.fc6 = nn.Linear(128, 10)\n",
    "        \n",
    "    def forward(self,x):\n",
    "        x = F.relu(self.fc1(x))\n",
    "        x = F.relu(self.fc2(x))\n",
    "        x = F.relu(self.fc3(x))\n",
    "        x = F.relu(self.fc4(x))\n",
    "        x = F.relu(self.fc5(x))\n",
    "        x = self.fc6(x)\n",
    "        return F.log_softmax(x, dim=0)\n",
    "    \n",
    "model = Net().cuda()"
   ]
  },
  {
   "cell_type": "code",
   "execution_count": 10,
   "id": "c1a06152-88a1-443c-be1a-48ab6a7a6b22",
   "metadata": {
    "execution": {
     "iopub.execute_input": "2023-08-23T09:10:42.677363Z",
     "iopub.status.busy": "2023-08-23T09:10:42.676740Z",
     "iopub.status.idle": "2023-08-23T09:15:27.697236Z",
     "shell.execute_reply": "2023-08-23T09:15:27.696351Z",
     "shell.execute_reply.started": "2023-08-23T09:10:42.677312Z"
    }
   },
   "outputs": [
    {
     "name": "stdout",
     "output_type": "stream",
     "text": [
      "10 tensor(447.4958, device='cuda:0')\n",
      "20 tensor(86.7329, device='cuda:0')\n",
      "30 tensor(40.5548, device='cuda:0')\n",
      "40 tensor(20.1612, device='cuda:0')\n",
      "50 tensor(9.6901, device='cuda:0')\n",
      "60 tensor(5.2682, device='cuda:0')\n",
      "70 tensor(2.9997, device='cuda:0')\n",
      "80 tensor(2.0592, device='cuda:0')\n",
      "90 tensor(1.2324, device='cuda:0')\n",
      "100 tensor(1.0125, device='cuda:0')\n"
     ]
    }
   ],
   "source": [
    "from torch.autograd import Variable\n",
    "import torch.nn.functional as F\n",
    "import torch.optim as optim\n",
    "\n",
    "# 손실함수\n",
    "criterion = nn.CrossEntropyLoss()\n",
    "\n",
    "# 최적화함수\n",
    "optimizer = optim.SGD(model.parameters(), lr=0.01)\n",
    "for epoch in range(100):\n",
    "    total_loss = 0\n",
    "    for X_train, y_train in train_loader:\n",
    "        # 계산 그래프 구성\n",
    "        X_train, y_train = Variable(X_train), Variable(y_train)\n",
    "        X_train = X_train.cuda()\n",
    "        y_train = y_train.cuda()\n",
    "        # 경사 초기화\n",
    "        optimizer.zero_grad()\n",
    "        # 순전파 계산\n",
    "        output = model(X_train)\n",
    "        # 오차계산\n",
    "        loss = criterion(output, y_train)\n",
    "        # 역전파 계산\n",
    "        loss.backward()\n",
    "        # 가중치 업데이트\n",
    "        optimizer.step()\n",
    "        # 누적오차 계산\n",
    "        total_loss += loss.data\n",
    "    # 10회 반복마다 누적오차 출력\n",
    "    if (epoch+1) % 10  == 0:\n",
    "        print(epoch+1, total_loss)"
   ]
  },
  {
   "cell_type": "code",
   "execution_count": 12,
   "id": "4ea51b21-f192-406b-9cb9-8c8f70742800",
   "metadata": {
    "execution": {
     "iopub.execute_input": "2023-08-23T09:16:04.921977Z",
     "iopub.status.busy": "2023-08-23T09:16:04.921277Z",
     "iopub.status.idle": "2023-08-23T09:16:04.985665Z",
     "shell.execute_reply": "2023-08-23T09:16:04.984162Z",
     "shell.execute_reply.started": "2023-08-23T09:16:04.921923Z"
    },
    "tags": []
   },
   "outputs": [
    {
     "name": "stdout",
     "output_type": "stream",
     "text": [
      "tensor([7, 2, 1, 0, 4])\n",
      "[7 2 1 0 4]\n"
     ]
    },
    {
     "data": {
      "text/plain": [
       "0.9743"
      ]
     },
     "execution_count": 12,
     "metadata": {},
     "output_type": "execute_result"
    }
   ],
   "source": [
    "# 계산 그래프 구성\n",
    "X_test, y_test = Variable(X_test), Variable(y_test)\n",
    "result = torch.max(model(X_test).data, 1)[1]\n",
    "y_test = y_test.cpu()\n",
    "result = result.cpu()\n",
    "print(result[:5])\n",
    "print(y_test.data.numpy()[:5])\n",
    "\n",
    "# 모형의 정확도 측정\n",
    "accuracy = sum(y_test.data.numpy() == result.numpy())/len(y_test.data.numpy())\n",
    "\n",
    "# 모형의 정확도 출력\n",
    "accuracy                      "
   ]
  },
  {
   "cell_type": "code",
   "execution_count": 13,
   "id": "c352dd69-a719-4a5e-a714-c21a12a9001b",
   "metadata": {
    "execution": {
     "iopub.execute_input": "2023-08-23T09:16:07.666724Z",
     "iopub.status.busy": "2023-08-23T09:16:07.666080Z",
     "iopub.status.idle": "2023-08-23T09:16:07.676262Z",
     "shell.execute_reply": "2023-08-23T09:16:07.674392Z",
     "shell.execute_reply.started": "2023-08-23T09:16:07.666656Z"
    }
   },
   "outputs": [
    {
     "name": "stdout",
     "output_type": "stream",
     "text": [
      "Net(\n",
      "  (fc1): Linear(in_features=784, out_features=256, bias=True)\n",
      "  (fc2): Linear(in_features=256, out_features=256, bias=True)\n",
      "  (fc3): Linear(in_features=256, out_features=256, bias=True)\n",
      "  (fc4): Linear(in_features=256, out_features=128, bias=True)\n",
      "  (fc5): Linear(in_features=128, out_features=128, bias=True)\n",
      "  (fc6): Linear(in_features=128, out_features=10, bias=True)\n",
      ")\n"
     ]
    }
   ],
   "source": [
    "print(model)"
   ]
  },
  {
   "cell_type": "code",
   "execution_count": 16,
   "id": "ab2968b1-d871-43d5-b705-9b549a8b97ef",
   "metadata": {
    "execution": {
     "iopub.execute_input": "2023-08-23T09:17:04.399848Z",
     "iopub.status.busy": "2023-08-23T09:17:04.399175Z",
     "iopub.status.idle": "2023-08-23T09:17:26.104909Z",
     "shell.execute_reply": "2023-08-23T09:17:26.102909Z",
     "shell.execute_reply.started": "2023-08-23T09:17:04.399790Z"
    },
    "tags": []
   },
   "outputs": [
    {
     "name": "stdout",
     "output_type": "stream",
     "text": [
      "Defaulting to user installation because normal site-packages is not writeable\n",
      "Looking in indexes: http://repo.ai.gato/registry/repository/pypi-proxy/simple\n",
      "Collecting torchinfo\n",
      "  Downloading http://repo.ai.gato/registry/repository/pypi-proxy/packages/torchinfo/1.8.0/torchinfo-1.8.0-py3-none-any.whl (23 kB)\n",
      "\u001b[33mDEPRECATION: python-debian 0.1.43ubuntu1 has a non-standard version number. pip 23.3 will enforce this behaviour change. A possible replacement is to upgrade to a newer version of python-debian or contact the author to suggest that they release a version with a conforming version number. Discussion can be found at https://github.com/pypa/pip/issues/12063\u001b[0m\u001b[33m\n",
      "\u001b[0mInstalling collected packages: torchinfo\n",
      "Successfully installed torchinfo-1.8.0\n",
      "\n",
      "\u001b[1m[\u001b[0m\u001b[34;49mnotice\u001b[0m\u001b[1;39;49m]\u001b[0m\u001b[39;49m A new release of pip is available: \u001b[0m\u001b[31;49m23.2\u001b[0m\u001b[39;49m -> \u001b[0m\u001b[32;49m23.2.1\u001b[0m\n",
      "\u001b[1m[\u001b[0m\u001b[34;49mnotice\u001b[0m\u001b[1;39;49m]\u001b[0m\u001b[39;49m To update, run: \u001b[0m\u001b[32;49mpip install --upgrade pip\u001b[0m\n"
     ]
    }
   ],
   "source": [
    "!pip install torchinfo"
   ]
  },
  {
   "cell_type": "code",
   "execution_count": 17,
   "id": "d67faa0c-f760-4f19-ba75-bbc8333ebf3e",
   "metadata": {
    "execution": {
     "iopub.execute_input": "2023-08-23T09:17:28.302725Z",
     "iopub.status.busy": "2023-08-23T09:17:28.301842Z",
     "iopub.status.idle": "2023-08-23T09:17:28.331810Z",
     "shell.execute_reply": "2023-08-23T09:17:28.330919Z",
     "shell.execute_reply.started": "2023-08-23T09:17:28.302651Z"
    },
    "tags": []
   },
   "outputs": [
    {
     "data": {
      "text/plain": [
       "=================================================================\n",
       "Layer (type:depth-idx)                   Param #\n",
       "=================================================================\n",
       "Net                                      --\n",
       "├─Linear: 1-1                            200,960\n",
       "├─Linear: 1-2                            65,792\n",
       "├─Linear: 1-3                            65,792\n",
       "├─Linear: 1-4                            32,896\n",
       "├─Linear: 1-5                            16,512\n",
       "├─Linear: 1-6                            1,290\n",
       "=================================================================\n",
       "Total params: 383,242\n",
       "Trainable params: 383,242\n",
       "Non-trainable params: 0\n",
       "================================================================="
      ]
     },
     "execution_count": 17,
     "metadata": {},
     "output_type": "execute_result"
    }
   ],
   "source": [
    "from torchinfo import summary\n",
    "batch_size = 100\n",
    "# batch_size, input nodes\n",
    "summary(model)"
   ]
  },
  {
   "cell_type": "code",
   "execution_count": 18,
   "id": "386d2758-68be-45ba-bdca-ce1fe947408d",
   "metadata": {
    "execution": {
     "iopub.execute_input": "2023-08-23T09:17:31.957570Z",
     "iopub.status.busy": "2023-08-23T09:17:31.955956Z",
     "iopub.status.idle": "2023-08-23T09:17:31.988128Z",
     "shell.execute_reply": "2023-08-23T09:17:31.987322Z",
     "shell.execute_reply.started": "2023-08-23T09:17:31.957510Z"
    }
   },
   "outputs": [
    {
     "data": {
      "text/plain": [
       "==========================================================================================\n",
       "Layer (type:depth-idx)                   Output Shape              Param #\n",
       "==========================================================================================\n",
       "Net                                      [100, 10]                 --\n",
       "├─Linear: 1-1                            [100, 256]                200,960\n",
       "├─Linear: 1-2                            [100, 256]                65,792\n",
       "├─Linear: 1-3                            [100, 256]                65,792\n",
       "├─Linear: 1-4                            [100, 128]                32,896\n",
       "├─Linear: 1-5                            [100, 128]                16,512\n",
       "├─Linear: 1-6                            [100, 10]                 1,290\n",
       "==========================================================================================\n",
       "Total params: 383,242\n",
       "Trainable params: 383,242\n",
       "Non-trainable params: 0\n",
       "Total mult-adds (M): 38.32\n",
       "==========================================================================================\n",
       "Input size (MB): 0.31\n",
       "Forward/backward pass size (MB): 0.83\n",
       "Params size (MB): 1.53\n",
       "Estimated Total Size (MB): 2.67\n",
       "=========================================================================================="
      ]
     },
     "execution_count": 18,
     "metadata": {},
     "output_type": "execute_result"
    }
   ],
   "source": [
    "summary(model, input_size=(batch_size, 784))"
   ]
  },
  {
   "cell_type": "code",
   "execution_count": null,
   "id": "405a95d2-7e4c-47e7-bc3e-7e6df5cf15af",
   "metadata": {},
   "outputs": [],
   "source": []
  }
 ],
 "metadata": {
  "kernelspec": {
   "display_name": "Python 3.10",
   "language": "python",
   "name": "python3"
  },
  "language_info": {
   "codemirror_mode": {
    "name": "ipython",
    "version": 3
   },
   "file_extension": ".py",
   "mimetype": "text/x-python",
   "name": "python",
   "nbconvert_exporter": "python",
   "pygments_lexer": "ipython3",
   "version": "3.10.6"
  }
 },
 "nbformat": 4,
 "nbformat_minor": 5
}
