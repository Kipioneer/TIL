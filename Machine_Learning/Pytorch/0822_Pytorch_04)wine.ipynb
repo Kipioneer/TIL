{
 "cells": [
  {
   "cell_type": "code",
   "execution_count": 1,
   "id": "4493d93e-4ddb-4557-97e4-38af62119961",
   "metadata": {
    "execution": {
     "iopub.execute_input": "2023-08-22T12:13:22.425809Z",
     "iopub.status.busy": "2023-08-22T12:13:22.425036Z",
     "iopub.status.idle": "2023-08-22T12:13:24.115118Z",
     "shell.execute_reply": "2023-08-22T12:13:24.113836Z",
     "shell.execute_reply.started": "2023-08-22T12:13:22.425639Z"
    }
   },
   "outputs": [],
   "source": [
    "from sklearn.datasets import load_wine"
   ]
  },
  {
   "cell_type": "code",
   "execution_count": 2,
   "id": "adfd737d-a462-4765-90ba-a56afa3e2716",
   "metadata": {
    "execution": {
     "iopub.execute_input": "2023-08-22T12:13:50.803945Z",
     "iopub.status.busy": "2023-08-22T12:13:50.803050Z",
     "iopub.status.idle": "2023-08-22T12:13:50.854647Z",
     "shell.execute_reply": "2023-08-22T12:13:50.853141Z",
     "shell.execute_reply.started": "2023-08-22T12:13:50.803876Z"
    }
   },
   "outputs": [],
   "source": [
    "wine = load_wine()"
   ]
  },
  {
   "cell_type": "code",
   "execution_count": 3,
   "id": "a8fbe621-8318-44f0-aa75-f73699c67b32",
   "metadata": {
    "execution": {
     "iopub.execute_input": "2023-08-22T12:13:54.026979Z",
     "iopub.status.busy": "2023-08-22T12:13:54.026278Z",
     "iopub.status.idle": "2023-08-22T12:13:54.052500Z",
     "shell.execute_reply": "2023-08-22T12:13:54.050740Z",
     "shell.execute_reply.started": "2023-08-22T12:13:54.026924Z"
    }
   },
   "outputs": [
    {
     "data": {
      "text/plain": [
       "{'data': array([[1.423e+01, 1.710e+00, 2.430e+00, ..., 1.040e+00, 3.920e+00,\n",
       "         1.065e+03],\n",
       "        [1.320e+01, 1.780e+00, 2.140e+00, ..., 1.050e+00, 3.400e+00,\n",
       "         1.050e+03],\n",
       "        [1.316e+01, 2.360e+00, 2.670e+00, ..., 1.030e+00, 3.170e+00,\n",
       "         1.185e+03],\n",
       "        ...,\n",
       "        [1.327e+01, 4.280e+00, 2.260e+00, ..., 5.900e-01, 1.560e+00,\n",
       "         8.350e+02],\n",
       "        [1.317e+01, 2.590e+00, 2.370e+00, ..., 6.000e-01, 1.620e+00,\n",
       "         8.400e+02],\n",
       "        [1.413e+01, 4.100e+00, 2.740e+00, ..., 6.100e-01, 1.600e+00,\n",
       "         5.600e+02]]),\n",
       " 'target': array([0, 0, 0, 0, 0, 0, 0, 0, 0, 0, 0, 0, 0, 0, 0, 0, 0, 0, 0, 0, 0, 0,\n",
       "        0, 0, 0, 0, 0, 0, 0, 0, 0, 0, 0, 0, 0, 0, 0, 0, 0, 0, 0, 0, 0, 0,\n",
       "        0, 0, 0, 0, 0, 0, 0, 0, 0, 0, 0, 0, 0, 0, 0, 1, 1, 1, 1, 1, 1, 1,\n",
       "        1, 1, 1, 1, 1, 1, 1, 1, 1, 1, 1, 1, 1, 1, 1, 1, 1, 1, 1, 1, 1, 1,\n",
       "        1, 1, 1, 1, 1, 1, 1, 1, 1, 1, 1, 1, 1, 1, 1, 1, 1, 1, 1, 1, 1, 1,\n",
       "        1, 1, 1, 1, 1, 1, 1, 1, 1, 1, 1, 1, 1, 1, 1, 1, 1, 1, 1, 1, 2, 2,\n",
       "        2, 2, 2, 2, 2, 2, 2, 2, 2, 2, 2, 2, 2, 2, 2, 2, 2, 2, 2, 2, 2, 2,\n",
       "        2, 2, 2, 2, 2, 2, 2, 2, 2, 2, 2, 2, 2, 2, 2, 2, 2, 2, 2, 2, 2, 2,\n",
       "        2, 2]),\n",
       " 'frame': None,\n",
       " 'target_names': array(['class_0', 'class_1', 'class_2'], dtype='<U7'),\n",
       " 'DESCR': '.. _wine_dataset:\\n\\nWine recognition dataset\\n------------------------\\n\\n**Data Set Characteristics:**\\n\\n    :Number of Instances: 178\\n    :Number of Attributes: 13 numeric, predictive attributes and the class\\n    :Attribute Information:\\n \\t\\t- Alcohol\\n \\t\\t- Malic acid\\n \\t\\t- Ash\\n\\t\\t- Alcalinity of ash  \\n \\t\\t- Magnesium\\n\\t\\t- Total phenols\\n \\t\\t- Flavanoids\\n \\t\\t- Nonflavanoid phenols\\n \\t\\t- Proanthocyanins\\n\\t\\t- Color intensity\\n \\t\\t- Hue\\n \\t\\t- OD280/OD315 of diluted wines\\n \\t\\t- Proline\\n\\n    - class:\\n            - class_0\\n            - class_1\\n            - class_2\\n\\t\\t\\n    :Summary Statistics:\\n    \\n    ============================= ==== ===== ======= =====\\n                                   Min   Max   Mean     SD\\n    ============================= ==== ===== ======= =====\\n    Alcohol:                      11.0  14.8    13.0   0.8\\n    Malic Acid:                   0.74  5.80    2.34  1.12\\n    Ash:                          1.36  3.23    2.36  0.27\\n    Alcalinity of Ash:            10.6  30.0    19.5   3.3\\n    Magnesium:                    70.0 162.0    99.7  14.3\\n    Total Phenols:                0.98  3.88    2.29  0.63\\n    Flavanoids:                   0.34  5.08    2.03  1.00\\n    Nonflavanoid Phenols:         0.13  0.66    0.36  0.12\\n    Proanthocyanins:              0.41  3.58    1.59  0.57\\n    Colour Intensity:              1.3  13.0     5.1   2.3\\n    Hue:                          0.48  1.71    0.96  0.23\\n    OD280/OD315 of diluted wines: 1.27  4.00    2.61  0.71\\n    Proline:                       278  1680     746   315\\n    ============================= ==== ===== ======= =====\\n\\n    :Missing Attribute Values: None\\n    :Class Distribution: class_0 (59), class_1 (71), class_2 (48)\\n    :Creator: R.A. Fisher\\n    :Donor: Michael Marshall (MARSHALL%PLU@io.arc.nasa.gov)\\n    :Date: July, 1988\\n\\nThis is a copy of UCI ML Wine recognition datasets.\\nhttps://archive.ics.uci.edu/ml/machine-learning-databases/wine/wine.data\\n\\nThe data is the results of a chemical analysis of wines grown in the same\\nregion in Italy by three different cultivators. There are thirteen different\\nmeasurements taken for different constituents found in the three types of\\nwine.\\n\\nOriginal Owners: \\n\\nForina, M. et al, PARVUS - \\nAn Extendible Package for Data Exploration, Classification and Correlation. \\nInstitute of Pharmaceutical and Food Analysis and Technologies,\\nVia Brigata Salerno, 16147 Genoa, Italy.\\n\\nCitation:\\n\\nLichman, M. (2013). UCI Machine Learning Repository\\n[https://archive.ics.uci.edu/ml]. Irvine, CA: University of California,\\nSchool of Information and Computer Science. \\n\\n.. topic:: References\\n\\n  (1) S. Aeberhard, D. Coomans and O. de Vel, \\n  Comparison of Classifiers in High Dimensional Settings, \\n  Tech. Rep. no. 92-02, (1992), Dept. of Computer Science and Dept. of  \\n  Mathematics and Statistics, James Cook University of North Queensland. \\n  (Also submitted to Technometrics). \\n\\n  The data was used with many others for comparing various \\n  classifiers. The classes are separable, though only RDA \\n  has achieved 100% correct classification. \\n  (RDA : 100%, QDA 99.4%, LDA 98.9%, 1NN 96.1% (z-transformed data)) \\n  (All results using the leave-one-out technique) \\n\\n  (2) S. Aeberhard, D. Coomans and O. de Vel, \\n  \"THE CLASSIFICATION PERFORMANCE OF RDA\" \\n  Tech. Rep. no. 92-01, (1992), Dept. of Computer Science and Dept. of \\n  Mathematics and Statistics, James Cook University of North Queensland. \\n  (Also submitted to Journal of Chemometrics).\\n',\n",
       " 'feature_names': ['alcohol',\n",
       "  'malic_acid',\n",
       "  'ash',\n",
       "  'alcalinity_of_ash',\n",
       "  'magnesium',\n",
       "  'total_phenols',\n",
       "  'flavanoids',\n",
       "  'nonflavanoid_phenols',\n",
       "  'proanthocyanins',\n",
       "  'color_intensity',\n",
       "  'hue',\n",
       "  'od280/od315_of_diluted_wines',\n",
       "  'proline']}"
      ]
     },
     "execution_count": 3,
     "metadata": {},
     "output_type": "execute_result"
    }
   ],
   "source": [
    "wine"
   ]
  },
  {
   "cell_type": "code",
   "execution_count": 4,
   "id": "456ff80c-4dc1-4105-953f-7415df35508f",
   "metadata": {
    "execution": {
     "iopub.execute_input": "2023-08-22T12:14:23.171787Z",
     "iopub.status.busy": "2023-08-22T12:14:23.171085Z",
     "iopub.status.idle": "2023-08-22T12:14:24.215640Z",
     "shell.execute_reply": "2023-08-22T12:14:24.214382Z",
     "shell.execute_reply.started": "2023-08-22T12:14:23.171733Z"
    }
   },
   "outputs": [
    {
     "data": {
      "text/html": [
       "<div>\n",
       "<style scoped>\n",
       "    .dataframe tbody tr th:only-of-type {\n",
       "        vertical-align: middle;\n",
       "    }\n",
       "\n",
       "    .dataframe tbody tr th {\n",
       "        vertical-align: top;\n",
       "    }\n",
       "\n",
       "    .dataframe thead th {\n",
       "        text-align: right;\n",
       "    }\n",
       "</style>\n",
       "<table border=\"1\" class=\"dataframe\">\n",
       "  <thead>\n",
       "    <tr style=\"text-align: right;\">\n",
       "      <th></th>\n",
       "      <th>alcohol</th>\n",
       "      <th>malic_acid</th>\n",
       "      <th>ash</th>\n",
       "      <th>alcalinity_of_ash</th>\n",
       "      <th>magnesium</th>\n",
       "      <th>total_phenols</th>\n",
       "      <th>flavanoids</th>\n",
       "      <th>nonflavanoid_phenols</th>\n",
       "      <th>proanthocyanins</th>\n",
       "      <th>color_intensity</th>\n",
       "      <th>hue</th>\n",
       "      <th>od280/od315_of_diluted_wines</th>\n",
       "      <th>proline</th>\n",
       "    </tr>\n",
       "  </thead>\n",
       "  <tbody>\n",
       "    <tr>\n",
       "      <th>0</th>\n",
       "      <td>14.23</td>\n",
       "      <td>1.71</td>\n",
       "      <td>2.43</td>\n",
       "      <td>15.6</td>\n",
       "      <td>127.0</td>\n",
       "      <td>2.80</td>\n",
       "      <td>3.06</td>\n",
       "      <td>0.28</td>\n",
       "      <td>2.29</td>\n",
       "      <td>5.64</td>\n",
       "      <td>1.04</td>\n",
       "      <td>3.92</td>\n",
       "      <td>1065.0</td>\n",
       "    </tr>\n",
       "    <tr>\n",
       "      <th>1</th>\n",
       "      <td>13.20</td>\n",
       "      <td>1.78</td>\n",
       "      <td>2.14</td>\n",
       "      <td>11.2</td>\n",
       "      <td>100.0</td>\n",
       "      <td>2.65</td>\n",
       "      <td>2.76</td>\n",
       "      <td>0.26</td>\n",
       "      <td>1.28</td>\n",
       "      <td>4.38</td>\n",
       "      <td>1.05</td>\n",
       "      <td>3.40</td>\n",
       "      <td>1050.0</td>\n",
       "    </tr>\n",
       "    <tr>\n",
       "      <th>2</th>\n",
       "      <td>13.16</td>\n",
       "      <td>2.36</td>\n",
       "      <td>2.67</td>\n",
       "      <td>18.6</td>\n",
       "      <td>101.0</td>\n",
       "      <td>2.80</td>\n",
       "      <td>3.24</td>\n",
       "      <td>0.30</td>\n",
       "      <td>2.81</td>\n",
       "      <td>5.68</td>\n",
       "      <td>1.03</td>\n",
       "      <td>3.17</td>\n",
       "      <td>1185.0</td>\n",
       "    </tr>\n",
       "    <tr>\n",
       "      <th>3</th>\n",
       "      <td>14.37</td>\n",
       "      <td>1.95</td>\n",
       "      <td>2.50</td>\n",
       "      <td>16.8</td>\n",
       "      <td>113.0</td>\n",
       "      <td>3.85</td>\n",
       "      <td>3.49</td>\n",
       "      <td>0.24</td>\n",
       "      <td>2.18</td>\n",
       "      <td>7.80</td>\n",
       "      <td>0.86</td>\n",
       "      <td>3.45</td>\n",
       "      <td>1480.0</td>\n",
       "    </tr>\n",
       "    <tr>\n",
       "      <th>4</th>\n",
       "      <td>13.24</td>\n",
       "      <td>2.59</td>\n",
       "      <td>2.87</td>\n",
       "      <td>21.0</td>\n",
       "      <td>118.0</td>\n",
       "      <td>2.80</td>\n",
       "      <td>2.69</td>\n",
       "      <td>0.39</td>\n",
       "      <td>1.82</td>\n",
       "      <td>4.32</td>\n",
       "      <td>1.04</td>\n",
       "      <td>2.93</td>\n",
       "      <td>735.0</td>\n",
       "    </tr>\n",
       "    <tr>\n",
       "      <th>...</th>\n",
       "      <td>...</td>\n",
       "      <td>...</td>\n",
       "      <td>...</td>\n",
       "      <td>...</td>\n",
       "      <td>...</td>\n",
       "      <td>...</td>\n",
       "      <td>...</td>\n",
       "      <td>...</td>\n",
       "      <td>...</td>\n",
       "      <td>...</td>\n",
       "      <td>...</td>\n",
       "      <td>...</td>\n",
       "      <td>...</td>\n",
       "    </tr>\n",
       "    <tr>\n",
       "      <th>173</th>\n",
       "      <td>13.71</td>\n",
       "      <td>5.65</td>\n",
       "      <td>2.45</td>\n",
       "      <td>20.5</td>\n",
       "      <td>95.0</td>\n",
       "      <td>1.68</td>\n",
       "      <td>0.61</td>\n",
       "      <td>0.52</td>\n",
       "      <td>1.06</td>\n",
       "      <td>7.70</td>\n",
       "      <td>0.64</td>\n",
       "      <td>1.74</td>\n",
       "      <td>740.0</td>\n",
       "    </tr>\n",
       "    <tr>\n",
       "      <th>174</th>\n",
       "      <td>13.40</td>\n",
       "      <td>3.91</td>\n",
       "      <td>2.48</td>\n",
       "      <td>23.0</td>\n",
       "      <td>102.0</td>\n",
       "      <td>1.80</td>\n",
       "      <td>0.75</td>\n",
       "      <td>0.43</td>\n",
       "      <td>1.41</td>\n",
       "      <td>7.30</td>\n",
       "      <td>0.70</td>\n",
       "      <td>1.56</td>\n",
       "      <td>750.0</td>\n",
       "    </tr>\n",
       "    <tr>\n",
       "      <th>175</th>\n",
       "      <td>13.27</td>\n",
       "      <td>4.28</td>\n",
       "      <td>2.26</td>\n",
       "      <td>20.0</td>\n",
       "      <td>120.0</td>\n",
       "      <td>1.59</td>\n",
       "      <td>0.69</td>\n",
       "      <td>0.43</td>\n",
       "      <td>1.35</td>\n",
       "      <td>10.20</td>\n",
       "      <td>0.59</td>\n",
       "      <td>1.56</td>\n",
       "      <td>835.0</td>\n",
       "    </tr>\n",
       "    <tr>\n",
       "      <th>176</th>\n",
       "      <td>13.17</td>\n",
       "      <td>2.59</td>\n",
       "      <td>2.37</td>\n",
       "      <td>20.0</td>\n",
       "      <td>120.0</td>\n",
       "      <td>1.65</td>\n",
       "      <td>0.68</td>\n",
       "      <td>0.53</td>\n",
       "      <td>1.46</td>\n",
       "      <td>9.30</td>\n",
       "      <td>0.60</td>\n",
       "      <td>1.62</td>\n",
       "      <td>840.0</td>\n",
       "    </tr>\n",
       "    <tr>\n",
       "      <th>177</th>\n",
       "      <td>14.13</td>\n",
       "      <td>4.10</td>\n",
       "      <td>2.74</td>\n",
       "      <td>24.5</td>\n",
       "      <td>96.0</td>\n",
       "      <td>2.05</td>\n",
       "      <td>0.76</td>\n",
       "      <td>0.56</td>\n",
       "      <td>1.35</td>\n",
       "      <td>9.20</td>\n",
       "      <td>0.61</td>\n",
       "      <td>1.60</td>\n",
       "      <td>560.0</td>\n",
       "    </tr>\n",
       "  </tbody>\n",
       "</table>\n",
       "<p>178 rows × 13 columns</p>\n",
       "</div>"
      ],
      "text/plain": [
       "     alcohol  malic_acid   ash  alcalinity_of_ash  magnesium  total_phenols  \\\n",
       "0      14.23        1.71  2.43               15.6      127.0           2.80   \n",
       "1      13.20        1.78  2.14               11.2      100.0           2.65   \n",
       "2      13.16        2.36  2.67               18.6      101.0           2.80   \n",
       "3      14.37        1.95  2.50               16.8      113.0           3.85   \n",
       "4      13.24        2.59  2.87               21.0      118.0           2.80   \n",
       "..       ...         ...   ...                ...        ...            ...   \n",
       "173    13.71        5.65  2.45               20.5       95.0           1.68   \n",
       "174    13.40        3.91  2.48               23.0      102.0           1.80   \n",
       "175    13.27        4.28  2.26               20.0      120.0           1.59   \n",
       "176    13.17        2.59  2.37               20.0      120.0           1.65   \n",
       "177    14.13        4.10  2.74               24.5       96.0           2.05   \n",
       "\n",
       "     flavanoids  nonflavanoid_phenols  proanthocyanins  color_intensity   hue  \\\n",
       "0          3.06                  0.28             2.29             5.64  1.04   \n",
       "1          2.76                  0.26             1.28             4.38  1.05   \n",
       "2          3.24                  0.30             2.81             5.68  1.03   \n",
       "3          3.49                  0.24             2.18             7.80  0.86   \n",
       "4          2.69                  0.39             1.82             4.32  1.04   \n",
       "..          ...                   ...              ...              ...   ...   \n",
       "173        0.61                  0.52             1.06             7.70  0.64   \n",
       "174        0.75                  0.43             1.41             7.30  0.70   \n",
       "175        0.69                  0.43             1.35            10.20  0.59   \n",
       "176        0.68                  0.53             1.46             9.30  0.60   \n",
       "177        0.76                  0.56             1.35             9.20  0.61   \n",
       "\n",
       "     od280/od315_of_diluted_wines  proline  \n",
       "0                            3.92   1065.0  \n",
       "1                            3.40   1050.0  \n",
       "2                            3.17   1185.0  \n",
       "3                            3.45   1480.0  \n",
       "4                            2.93    735.0  \n",
       "..                            ...      ...  \n",
       "173                          1.74    740.0  \n",
       "174                          1.56    750.0  \n",
       "175                          1.56    835.0  \n",
       "176                          1.62    840.0  \n",
       "177                          1.60    560.0  \n",
       "\n",
       "[178 rows x 13 columns]"
      ]
     },
     "execution_count": 4,
     "metadata": {},
     "output_type": "execute_result"
    }
   ],
   "source": [
    "import pandas as pd\n",
    "pd.DataFrame(wine.data, columns=wine.feature_names)"
   ]
  },
  {
   "cell_type": "code",
   "execution_count": 5,
   "id": "4be6a275-e667-4893-9828-33ce72357a56",
   "metadata": {
    "execution": {
     "iopub.execute_input": "2023-08-22T12:14:32.778916Z",
     "iopub.status.busy": "2023-08-22T12:14:32.778015Z",
     "iopub.status.idle": "2023-08-22T12:14:32.790926Z",
     "shell.execute_reply": "2023-08-22T12:14:32.789525Z",
     "shell.execute_reply.started": "2023-08-22T12:14:32.778845Z"
    }
   },
   "outputs": [
    {
     "data": {
      "text/plain": [
       "array([0, 0, 0, 0, 0, 0, 0, 0, 0, 0, 0, 0, 0, 0, 0, 0, 0, 0, 0, 0, 0, 0,\n",
       "       0, 0, 0, 0, 0, 0, 0, 0, 0, 0, 0, 0, 0, 0, 0, 0, 0, 0, 0, 0, 0, 0,\n",
       "       0, 0, 0, 0, 0, 0, 0, 0, 0, 0, 0, 0, 0, 0, 0, 1, 1, 1, 1, 1, 1, 1,\n",
       "       1, 1, 1, 1, 1, 1, 1, 1, 1, 1, 1, 1, 1, 1, 1, 1, 1, 1, 1, 1, 1, 1,\n",
       "       1, 1, 1, 1, 1, 1, 1, 1, 1, 1, 1, 1, 1, 1, 1, 1, 1, 1, 1, 1, 1, 1,\n",
       "       1, 1, 1, 1, 1, 1, 1, 1, 1, 1, 1, 1, 1, 1, 1, 1, 1, 1, 1, 1, 2, 2,\n",
       "       2, 2, 2, 2, 2, 2, 2, 2, 2, 2, 2, 2, 2, 2, 2, 2, 2, 2, 2, 2, 2, 2,\n",
       "       2, 2, 2, 2, 2, 2, 2, 2, 2, 2, 2, 2, 2, 2, 2, 2, 2, 2, 2, 2, 2, 2,\n",
       "       2, 2])"
      ]
     },
     "execution_count": 5,
     "metadata": {},
     "output_type": "execute_result"
    }
   ],
   "source": [
    "wine.target"
   ]
  },
  {
   "cell_type": "code",
   "execution_count": 7,
   "id": "adfbd3d3-9b41-42f3-b79e-60d927b32aea",
   "metadata": {
    "execution": {
     "iopub.execute_input": "2023-08-22T12:15:03.198991Z",
     "iopub.status.busy": "2023-08-22T12:15:03.197539Z",
     "iopub.status.idle": "2023-08-22T12:15:03.205822Z",
     "shell.execute_reply": "2023-08-22T12:15:03.204292Z",
     "shell.execute_reply.started": "2023-08-22T12:15:03.198921Z"
    },
    "tags": []
   },
   "outputs": [],
   "source": [
    "# 독립변수\n",
    "X = wine.data\n",
    "# 종속변수\n",
    "y = wine.target"
   ]
  },
  {
   "cell_type": "code",
   "execution_count": 11,
   "id": "9b6ed348-5df9-4b45-bfa9-f08fb31cf251",
   "metadata": {
    "execution": {
     "iopub.execute_input": "2023-08-22T12:16:12.636360Z",
     "iopub.status.busy": "2023-08-22T12:16:12.635732Z",
     "iopub.status.idle": "2023-08-22T12:16:12.644204Z",
     "shell.execute_reply": "2023-08-22T12:16:12.642817Z",
     "shell.execute_reply.started": "2023-08-22T12:16:12.636308Z"
    },
    "tags": []
   },
   "outputs": [],
   "source": [
    "from sklearn.model_selection import train_test_split\n",
    "X_train, X_test, y_train, y_test = train_test_split(X, y, test_size=0.2)"
   ]
  },
  {
   "cell_type": "code",
   "execution_count": 15,
   "id": "a6bb5549-1e85-42c2-9189-6d5c3f566057",
   "metadata": {
    "execution": {
     "iopub.execute_input": "2023-08-22T12:16:53.572830Z",
     "iopub.status.busy": "2023-08-22T12:16:53.572524Z",
     "iopub.status.idle": "2023-08-22T12:16:53.578094Z",
     "shell.execute_reply": "2023-08-22T12:16:53.577235Z",
     "shell.execute_reply.started": "2023-08-22T12:16:53.572808Z"
    },
    "tags": []
   },
   "outputs": [
    {
     "name": "stdout",
     "output_type": "stream",
     "text": [
      "142\n",
      "142\n"
     ]
    }
   ],
   "source": [
    "print(len(X_train))\n",
    "print(len(y_train))"
   ]
  },
  {
   "cell_type": "code",
   "execution_count": 16,
   "id": "3a5f15fd-db5c-4886-bd29-6fd3c9ef3d1a",
   "metadata": {
    "execution": {
     "iopub.execute_input": "2023-08-22T12:19:56.504476Z",
     "iopub.status.busy": "2023-08-22T12:19:56.503859Z",
     "iopub.status.idle": "2023-08-22T12:19:57.870021Z",
     "shell.execute_reply": "2023-08-22T12:19:57.868626Z",
     "shell.execute_reply.started": "2023-08-22T12:19:56.504425Z"
    }
   },
   "outputs": [],
   "source": [
    "import torch\n",
    "# 학습용 데이터를 텐서로 변환\n",
    "X_train = torch.from_numpy(X_train).float()\n",
    "y_train = torch.from_numpy(y_train).long()\n",
    "\n",
    "# 검증용 데이터를 텐서로 변환\n",
    "X_test = torch.from_numpy(X_test).float()\n",
    "y_test = torch.from_numpy(y_test).long()"
   ]
  },
  {
   "cell_type": "code",
   "execution_count": 17,
   "id": "e8e9d7b2-c004-478b-a289-9feb3236731b",
   "metadata": {
    "execution": {
     "iopub.execute_input": "2023-08-22T12:20:49.501584Z",
     "iopub.status.busy": "2023-08-22T12:20:49.500790Z",
     "iopub.status.idle": "2023-08-22T12:20:54.248587Z",
     "shell.execute_reply": "2023-08-22T12:20:54.247811Z",
     "shell.execute_reply.started": "2023-08-22T12:20:49.501533Z"
    }
   },
   "outputs": [],
   "source": [
    "# 텐서를 gpu로 옮기고\n",
    "X_train = X_train.cuda()\n",
    "y_train= y_train.cuda()\n",
    "X_test = X_test.cuda()\n",
    "y_test= y_test.cuda()"
   ]
  },
  {
   "cell_type": "code",
   "execution_count": 18,
   "id": "8577ef20-248d-436c-99cb-6ffff2b42637",
   "metadata": {
    "execution": {
     "iopub.execute_input": "2023-08-22T12:20:54.250052Z",
     "iopub.status.busy": "2023-08-22T12:20:54.249824Z",
     "iopub.status.idle": "2023-08-22T12:20:54.335699Z",
     "shell.execute_reply": "2023-08-22T12:20:54.334422Z",
     "shell.execute_reply.started": "2023-08-22T12:20:54.250032Z"
    }
   },
   "outputs": [
    {
     "data": {
      "text/plain": [
       "tensor([[1.1840e+01, 2.8900e+00, 2.2300e+00,  ..., 9.6000e-01, 2.5200e+00,\n",
       "         5.0000e+02],\n",
       "        [1.3050e+01, 1.7300e+00, 2.0400e+00,  ..., 1.1200e+00, 2.9100e+00,\n",
       "         1.1500e+03],\n",
       "        [1.3050e+01, 5.8000e+00, 2.1300e+00,  ..., 7.3000e-01, 3.1000e+00,\n",
       "         3.8000e+02],\n",
       "        ...,\n",
       "        [1.2080e+01, 1.3900e+00, 2.5000e+00,  ..., 9.3000e-01, 3.1900e+00,\n",
       "         3.8500e+02],\n",
       "        [1.3710e+01, 5.6500e+00, 2.4500e+00,  ..., 6.4000e-01, 1.7400e+00,\n",
       "         7.4000e+02],\n",
       "        [1.4750e+01, 1.7300e+00, 2.3900e+00,  ..., 1.2500e+00, 2.7300e+00,\n",
       "         1.1500e+03]], device='cuda:0')"
      ]
     },
     "execution_count": 18,
     "metadata": {},
     "output_type": "execute_result"
    }
   ],
   "source": [
    "X_train"
   ]
  },
  {
   "cell_type": "code",
   "execution_count": 19,
   "id": "fb7b2d7e-9bd5-41a4-bf90-58024b919d5e",
   "metadata": {
    "execution": {
     "iopub.execute_input": "2023-08-22T12:22:15.974174Z",
     "iopub.status.busy": "2023-08-22T12:22:15.973542Z",
     "iopub.status.idle": "2023-08-22T12:22:16.001393Z",
     "shell.execute_reply": "2023-08-22T12:22:16.000177Z",
     "shell.execute_reply.started": "2023-08-22T12:22:15.974122Z"
    }
   },
   "outputs": [
    {
     "name": "stdout",
     "output_type": "stream",
     "text": [
      "(tensor([1.1840e+01, 2.8900e+00, 2.2300e+00, 1.8000e+01, 1.1200e+02, 1.7200e+00,\n",
      "        1.3200e+00, 4.3000e-01, 9.5000e-01, 2.6500e+00, 9.6000e-01, 2.5200e+00,\n",
      "        5.0000e+02], device='cuda:0'), tensor(1, device='cuda:0'))\n"
     ]
    }
   ],
   "source": [
    "from torch.utils.data import DataLoader, TensorDataset\n",
    "# 독립변수와 종속변수의 텐서를 합침\n",
    "train = TensorDataset(X_train, y_train)\n",
    "print(train[0])\n",
    "# 미니배치로 분할\n",
    "train_loader = DataLoader(train, batch_size=16, shuffle=True)"
   ]
  },
  {
   "cell_type": "code",
   "execution_count": 21,
   "id": "39b3cd66-0c8c-498c-ac9b-aa28a317de2d",
   "metadata": {
    "execution": {
     "iopub.execute_input": "2023-08-22T12:23:56.883610Z",
     "iopub.status.busy": "2023-08-22T12:23:56.882821Z",
     "iopub.status.idle": "2023-08-22T12:23:56.892335Z",
     "shell.execute_reply": "2023-08-22T12:23:56.890948Z",
     "shell.execute_reply.started": "2023-08-22T12:23:56.883554Z"
    },
    "tags": []
   },
   "outputs": [
    {
     "data": {
      "text/plain": [
       "torch.Size([142, 13])"
      ]
     },
     "execution_count": 21,
     "metadata": {},
     "output_type": "execute_result"
    }
   ],
   "source": [
    "X_train.shape # input=13"
   ]
  },
  {
   "cell_type": "code",
   "execution_count": 32,
   "id": "d70e566a-ac5f-483c-8c2e-4feb8ee85493",
   "metadata": {
    "execution": {
     "iopub.execute_input": "2023-08-22T12:37:04.224548Z",
     "iopub.status.busy": "2023-08-22T12:37:04.223790Z",
     "iopub.status.idle": "2023-08-22T12:37:04.256982Z",
     "shell.execute_reply": "2023-08-22T12:37:04.255920Z",
     "shell.execute_reply.started": "2023-08-22T12:37:04.224491Z"
    },
    "tags": []
   },
   "outputs": [],
   "source": [
    "import torch.nn as nn\n",
    "import torch.nn.functional as F\n",
    "# 신경망 구성\n",
    "class Net(nn.Module):\n",
    "    def __init__(self):\n",
    "        super(Net, self).__init__()\n",
    "        self.fc1 = nn.Linear(13, 96) # input13, output 96\n",
    "        self.fc2 = nn.Linear(96, 72)\n",
    "        self.fc3 = nn.Linear(72, 64)\n",
    "        self.fc4 = nn.Linear(64, 32)\n",
    "        self.fc5 = nn.Linear(32, 16)\n",
    "        self.fc6 = nn.Linear(16, 3)\n",
    "    \n",
    "    def forward(self, x):\n",
    "        x = F.relu(self.fc1(x))\n",
    "        x = F.relu(self.fc2(x))\n",
    "        x = F.relu(self.fc3(x))\n",
    "        x = F.relu(self.fc4(x))\n",
    "        x = F.relu(self.fc5(x))\n",
    "        x = self.fc6(x)\n",
    "        # softmax 함수의 결과값에 log 적용\n",
    "        # dim=0 행방향, 1 열방향\n",
    "        # dim=0, row에서 최대값을 구하는 방식\n",
    "        return F.log_softmax(x,dim=0)\n",
    "\n",
    "# 인스턴스 생성\n",
    "model = Net().cuda()"
   ]
  },
  {
   "cell_type": "code",
   "execution_count": 33,
   "id": "1bc5c4ab-fb80-4786-93f5-857a76f9bac8",
   "metadata": {
    "execution": {
     "iopub.execute_input": "2023-08-22T12:37:05.452500Z",
     "iopub.status.busy": "2023-08-22T12:37:05.451735Z",
     "iopub.status.idle": "2023-08-22T12:37:05.462366Z",
     "shell.execute_reply": "2023-08-22T12:37:05.460907Z",
     "shell.execute_reply.started": "2023-08-22T12:37:05.452444Z"
    },
    "tags": []
   },
   "outputs": [
    {
     "data": {
      "text/plain": [
       "Net(\n",
       "  (fc1): Linear(in_features=13, out_features=96, bias=True)\n",
       "  (fc2): Linear(in_features=96, out_features=72, bias=True)\n",
       "  (fc3): Linear(in_features=72, out_features=64, bias=True)\n",
       "  (fc4): Linear(in_features=64, out_features=32, bias=True)\n",
       "  (fc5): Linear(in_features=32, out_features=16, bias=True)\n",
       "  (fc6): Linear(in_features=16, out_features=3, bias=True)\n",
       ")"
      ]
     },
     "execution_count": 33,
     "metadata": {},
     "output_type": "execute_result"
    }
   ],
   "source": [
    "model"
   ]
  },
  {
   "cell_type": "code",
   "execution_count": 34,
   "id": "034a8c6b-33d0-49b8-9323-ad0f5b6706a4",
   "metadata": {
    "execution": {
     "iopub.execute_input": "2023-08-22T12:37:05.676204Z",
     "iopub.status.busy": "2023-08-22T12:37:05.675567Z",
     "iopub.status.idle": "2023-08-22T12:37:05.680533Z",
     "shell.execute_reply": "2023-08-22T12:37:05.679107Z",
     "shell.execute_reply.started": "2023-08-22T12:37:05.676181Z"
    },
    "tags": []
   },
   "outputs": [],
   "source": [
    "import torch.optim as optim\n",
    "from torch.autograd import Variable\n",
    "\n",
    "# 손실함수 객체\n",
    "criterion = nn.CrossEntropyLoss()\n",
    "\n",
    "# 최적화함수\n",
    "optimizer = optim.SGD(model.parameters(), lr=0.001)"
   ]
  },
  {
   "cell_type": "code",
   "execution_count": 35,
   "id": "ad8a839d-b506-4185-85a1-17123bcdf561",
   "metadata": {
    "execution": {
     "iopub.execute_input": "2023-08-22T12:37:05.851738Z",
     "iopub.status.busy": "2023-08-22T12:37:05.850820Z",
     "iopub.status.idle": "2023-08-22T12:37:24.676807Z",
     "shell.execute_reply": "2023-08-22T12:37:24.674764Z",
     "shell.execute_reply.started": "2023-08-22T12:37:05.851701Z"
    },
    "tags": []
   },
   "outputs": [
    {
     "name": "stdout",
     "output_type": "stream",
     "text": [
      "50 tensor(5.4996, device='cuda:0')\n",
      "100 tensor(5.2968, device='cuda:0')\n",
      "150 tensor(5.2356, device='cuda:0')\n",
      "200 tensor(5.5133, device='cuda:0')\n",
      "250 tensor(5.1146, device='cuda:0')\n",
      "300 tensor(5.1406, device='cuda:0')\n",
      "350 tensor(5.9508, device='cuda:0')\n",
      "400 tensor(5.5084, device='cuda:0')\n",
      "450 tensor(5.1416, device='cuda:0')\n",
      "500 tensor(4.8328, device='cuda:0')\n"
     ]
    }
   ],
   "source": [
    "# 학습시작\n",
    "\n",
    "for epoch in range(500):\n",
    "    total_loss = 0\n",
    "    for train_x, train_y in train_loader:\n",
    "        \n",
    "        # 계산 그래프 구성\n",
    "        train_x, train_y = Variable(train_x), Variable(train_y)\n",
    "        \n",
    "        #텐서를 gpu로 이동시킴\n",
    "        train_x=train_x.cuda()\n",
    "        train_y=train_y.cuda()        \n",
    "\n",
    "        # 경사 초기화\n",
    "        optimizer.zero_grad()\n",
    "\n",
    "        # 순전파 계산\n",
    "        output = model(train_x)\n",
    "\n",
    "        # 오차계산\n",
    "        loss = criterion(output, train_y)\n",
    "\n",
    "        # 역전파 계산\n",
    "        loss.backward()\n",
    "\n",
    "        # 가중치 업데이트\n",
    "        optimizer.step()\n",
    "\n",
    "        # 누적 오차 계산\n",
    "        total_loss += loss.data\n",
    "\n",
    "    # 50회 반복마다 누적오차 출력\n",
    "    if (epoch+1) % 50 == 0:\n",
    "        print(epoch+1, total_loss)"
   ]
  },
  {
   "cell_type": "code",
   "execution_count": 38,
   "id": "d7ff795b-5c11-4db6-ba88-2cc817b0de2d",
   "metadata": {
    "execution": {
     "iopub.execute_input": "2023-08-22T14:39:01.849587Z",
     "iopub.status.busy": "2023-08-22T14:39:01.848755Z",
     "iopub.status.idle": "2023-08-22T14:39:01.863525Z",
     "shell.execute_reply": "2023-08-22T14:39:01.862499Z",
     "shell.execute_reply.started": "2023-08-22T14:39:01.849532Z"
    },
    "tags": []
   },
   "outputs": [
    {
     "data": {
      "text/plain": [
       "0.6111111111111112"
      ]
     },
     "execution_count": 38,
     "metadata": {},
     "output_type": "execute_result"
    }
   ],
   "source": [
    "# 계산 그래프 구성\n",
    "X_test, y_test = Variable(X_test), Variable(y_test)\n",
    "\n",
    "# 출력값 계산\n",
    "result = torch.max(model(X_test).data,1)[1]\n",
    "\n",
    "# 모형의 정확도 측정\n",
    "# gpu에 저장된 텐서를 cpu로 이동시킴\n",
    "y_test = y_test.cpu()\n",
    "result = result.cpu()\n",
    "accuracy = sum(y_test.data.numpy() == result.numpy()) / len(y_test.data.numpy())\n",
    "\n",
    "# 모형의 정확도 출력\n",
    "accuracy"
   ]
  },
  {
   "cell_type": "code",
   "execution_count": null,
   "id": "ae0e7b69-19d0-4282-93e4-62c32b8b3bde",
   "metadata": {},
   "outputs": [],
   "source": []
  }
 ],
 "metadata": {
  "kernelspec": {
   "display_name": "Python 3.10",
   "language": "python",
   "name": "python3"
  },
  "language_info": {
   "codemirror_mode": {
    "name": "ipython",
    "version": 3
   },
   "file_extension": ".py",
   "mimetype": "text/x-python",
   "name": "python",
   "nbconvert_exporter": "python",
   "pygments_lexer": "ipython3",
   "version": "3.10.6"
  }
 },
 "nbformat": 4,
 "nbformat_minor": 5
}
