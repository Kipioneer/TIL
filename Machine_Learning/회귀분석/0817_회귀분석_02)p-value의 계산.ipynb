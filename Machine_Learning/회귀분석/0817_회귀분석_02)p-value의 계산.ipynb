{
 "cells": [
  {
   "cell_type": "markdown",
   "source": [],
   "metadata": {
    "collapsed": false
   }
  },
  {
   "cell_type": "code",
   "execution_count": 2,
   "metadata": {
    "collapsed": true,
    "ExecuteTime": {
     "start_time": "2023-08-17T11:48:00.750989Z",
     "end_time": "2023-08-17T11:48:00.767988Z"
    }
   },
   "outputs": [],
   "source": [
    "from math import sqrt\n",
    "from numpy import mean\n",
    "from scipy.stats import sem\n",
    "from scipy.stats import t\n",
    "\n",
    "# 독립표본 t 검정: 표본으로부터 측정된 분산, 표준편차를 이요하여 두 모집단의 평균의 차이를 검정하는 방법\n",
    "def independent_ttest(data1, data2):\n",
    "    # 평균값\n",
    "    mean1, mean2 = mean(data1), mean(data2)\n",
    "    # 모집단이 큰 경우 표본을 여러번 추출하게 되는데 추출할 때마다 표본들의 평균값이 달라지게 됨, 표본평균의 표준편차를 표준오차라고함(sem 함수로 계산)\n",
    "    se1, se2 = sem(data1), sem(data2)\n",
    "    # 표본간의 차이에 대한 표준호차 계산\n",
    "    sed = sqrt(se1**2 + se2**2)\n",
    "    t_stat = (mean1 - mean2) / sed\n",
    "    # 자유도(degree of freedom) 계산(샘플개수-1)\n",
    "    # 표본수가 n개인 표본이 있다면 표본값 중 자유롭게 변할 수 있는 값은 n-1개의 표본\n",
    "    # 시험 3회 응시, 평균 80점이라고 할떄 2개 시험에서 70점, 90점을 받았다면 나머지 1개는 80점이 되어야함, 표본수가 3이고 자유롭게 변할 수 있는 값은2\n",
    "    df = len(data1) + len(data2) - 2\n",
    "    # p-value 계산 (cdf 누적분포함수)\n",
    "    p = (1.0 - t.cdf(abs(t_stat), df)) * 2.0\n",
    "    return t_stat, p"
   ]
  },
  {
   "cell_type": "code",
   "execution_count": 6,
   "outputs": [
    {
     "name": "stdout",
     "output_type": "stream",
     "text": [
      "t=4.752, p-value=0.000096\n",
      "p-value < 0.05, 귀무가설 기각, 대립가설 채택\n"
     ]
    }
   ],
   "source": [
    "# 독립변수(입력값)\n",
    "X=[3.52, 2.58, 3.31, 4.07, 4.62, 3.98, 4.29, 4.83, 3.71, 4.61, 3.9, 3.2] #전기생산량\n",
    "#종속변수(출력값)\n",
    "y=[2.48, 2.27, 2.47, 2.77, 2.98, 3.05, 3.18, 3.46, 3.03, 3.25, 2.67, 2.53] #전기사용량\n",
    "\n",
    "#95% 신뢰수준\n",
    "alpha = 0.05\n",
    "t_stat, p = independent_ttest(X, y)\n",
    "print('t=%.3f, p-value=%f' % (t_stat, p))\n",
    "if p > alpha:\n",
    "    print('p-value > 0.05, 귀무가설 채택, 대립가설 기각')\n",
    "else:\n",
    "    print('p-value < 0.05, 귀무가설 기각, 대립가설 채택')"
   ],
   "metadata": {
    "collapsed": false,
    "ExecuteTime": {
     "start_time": "2023-08-17T11:51:16.977159Z",
     "end_time": "2023-08-17T11:51:17.034006Z"
    }
   }
  },
  {
   "cell_type": "code",
   "execution_count": 11,
   "outputs": [
    {
     "name": "stdout",
     "output_type": "stream",
     "text": [
      "[-8.         -7.83838384 -7.67676768 -7.51515152 -7.35353535] \n",
      "\n",
      "[3.39767312e-06 4.95353201e-06 7.17671574e-06 1.03327820e-05\n",
      " 1.47840373e-05]\n"
     ]
    },
    {
     "data": {
      "text/plain": "<Figure size 640x480 with 1 Axes>",
      "image/png": "[encoded data removed]"
     },
     "metadata": {},
     "output_type": "display_data"
    }
   ],
   "source": [
    "# 참고\n",
    "# 확률분포: 어떤 사건에 어느 정도의 확률이 할당되었는지를 묘사한것\n",
    "# 누적분포함수(cumulative distribution function)\n",
    "# 모든 사건에 대해 구간을 정의하기가 어려우므로 시작점을 마이너스 무한대로 설정하고\n",
    "# 마이너스 무한대 ~ -1, 마이너스무한대 ~ 0, 마이너스무한대 ~ 1 식으로 구간을 정의하는 방법\n",
    "\n",
    "%matplotlib inline\n",
    "import matplotlib.pyplot as plt\n",
    "import numpy as np\n",
    "import scipy as sp\n",
    "\n",
    "xx = np.linspace(-8,8, 100)\n",
    "# print(xx)\n",
    "\n",
    "# 정규분포 생성, loc 분포의 기대값, scale 븐포의 표준편차\n",
    "rv = sp.stats.norm(loc=1, scale=2)\n",
    "# 누적분포함수\n",
    "cdf = rv.cdf(xx)\n",
    "# 확률밀도함수(누적분포함수를 미분한 함수)\n",
    "pdf = rv.pdf(xx)\n",
    "\n",
    "print(xx[:5],'\\n')\n",
    "print(cdf[:5])\n",
    "\n",
    "plt.plot(xx, pdf)\n",
    "plt.plot(xx, cdf)\n",
    "\n",
    "plt.show()"
   ],
   "metadata": {
    "collapsed": false,
    "ExecuteTime": {
     "start_time": "2023-08-17T11:56:24.299958Z",
     "end_time": "2023-08-17T11:56:24.528347Z"
    }
   }
  },
  {
   "cell_type": "code",
   "execution_count": null,
   "outputs": [],
   "source": [],
   "metadata": {
    "collapsed": false
   }
  }
 ],
 "metadata": {
  "kernelspec": {
   "display_name": "Python 3",
   "language": "python",
   "name": "python3"
  },
  "language_info": {
   "codemirror_mode": {
    "name": "ipython",
    "version": 2
   },
   "file_extension": ".py",
   "mimetype": "text/x-python",
   "name": "python",
   "nbconvert_exporter": "python",
   "pygments_lexer": "ipython2",
   "version": "2.7.6"
  }
 },
 "nbformat": 4,
 "nbformat_minor": 0
}
