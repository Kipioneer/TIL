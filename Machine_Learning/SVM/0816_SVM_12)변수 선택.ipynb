{
 "cells": [
  {
   "cell_type": "code",
   "execution_count": 1,
   "metadata": {
    "collapsed": true,
    "ExecuteTime": {
     "start_time": "2023-08-16T11:17:06.559969Z",
     "end_time": "2023-08-16T11:17:07.925045Z"
    }
   },
   "outputs": [
    {
     "data": {
      "text/plain": "Index(['Int'l Plan', 'VMail Plan', 'VMail Message', 'Day Mins', 'Day Calls',\n       'Day Charge', 'Eve Mins', 'Eve Calls', 'Eve Charge', 'Night Mins',\n       'Night Calls', 'Night Charge', 'Intl Mins', 'Intl Calls', 'Intl Charge',\n       'CustServ Calls', 'Churn'],\n      dtype='object')"
     },
     "execution_count": 1,
     "metadata": {},
     "output_type": "execute_result"
    }
   ],
   "source": [
    "import pandas as pd\n",
    "df = pd.read_csv('c:/work/data/customer/customer.csv')\n",
    "df.columns"
   ]
  },
  {
   "cell_type": "code",
   "execution_count": 2,
   "outputs": [
    {
     "data": {
      "text/plain": "Churn\n0    2850\n1     483\nName: count, dtype: int64"
     },
     "execution_count": 2,
     "metadata": {},
     "output_type": "execute_result"
    }
   ],
   "source": [
    "cols=[\"Int'l Plan\", 'VMail Plan', 'VMail Message', 'Day Mins', 'Day Calls','Day Charge', 'Eve Mins', 'Eve Calls', 'Eve Charge', 'Night Mins','Night Calls', 'Night Charge', 'Intl Mins', 'Intl Calls', 'Intl Charge','CustServ Calls']\n",
    "\n",
    "X=df[cols]\n",
    "y=df['Churn']\n",
    "y.value_counts()"
   ],
   "metadata": {
    "collapsed": false,
    "ExecuteTime": {
     "start_time": "2023-08-16T11:18:38.024160Z",
     "end_time": "2023-08-16T11:18:38.034133Z"
    }
   }
  },
  {
   "cell_type": "code",
   "execution_count": 3,
   "outputs": [
    {
     "data": {
      "text/plain": "Churn\n0    483\n1    483\nName: count, dtype: int64"
     },
     "execution_count": 3,
     "metadata": {},
     "output_type": "execute_result"
    }
   ],
   "source": [
    "#언더샘플링\n",
    "from imblearn.under_sampling import RandomUnderSampler\n",
    "X_sample, y_sample = RandomUnderSampler(random_state=0).fit_resample(X,y)\n",
    "\n",
    "X_samp = pd.DataFrame(data=X_sample, columns=cols)\n",
    "y_samp = pd.DataFrame(data=y_sample, columns=['Churn'])\n",
    "df_samp=pd.concat([X_samp, y_samp], axis=1)\n",
    "df_samp['Churn'].value_counts()"
   ],
   "metadata": {
    "collapsed": false,
    "ExecuteTime": {
     "start_time": "2023-08-16T11:36:26.765803Z",
     "end_time": "2023-08-16T11:36:29.614670Z"
    }
   }
  },
  {
   "cell_type": "code",
   "execution_count": 4,
   "outputs": [],
   "source": [
    "X = df_samp[cols]\n",
    "y = df_samp['Churn']"
   ],
   "metadata": {
    "collapsed": false,
    "ExecuteTime": {
     "start_time": "2023-08-16T11:36:56.334616Z",
     "end_time": "2023-08-16T11:36:56.343617Z"
    }
   }
  },
  {
   "cell_type": "code",
   "execution_count": 5,
   "outputs": [
    {
     "data": {
      "text/plain": "RFECV(cv=StratifiedKFold(n_splits=5, random_state=None, shuffle=False),\n      estimator=SVC(kernel='linear'), scoring='accuracy', step=2)",
      "text/html": "<style>#sk-container-id-1 {color: black;}#sk-container-id-1 pre{padding: 0;}#sk-container-id-1 div.sk-toggleable {background-color: white;}#sk-container-id-1 label.sk-toggleable__label {cursor: pointer;display: block;width: 100%;margin-bottom: 0;padding: 0.3em;box-sizing: border-box;text-align: center;}#sk-container-id-1 label.sk-toggleable__label-arrow:before {content: \"▸\";float: left;margin-right: 0.25em;color: #696969;}#sk-container-id-1 label.sk-toggleable__label-arrow:hover:before {color: black;}#sk-container-id-1 div.sk-estimator:hover label.sk-toggleable__label-arrow:before {color: black;}#sk-container-id-1 div.sk-toggleable__content {max-height: 0;max-width: 0;overflow: hidden;text-align: left;background-color: #f0f8ff;}#sk-container-id-1 div.sk-toggleable__content pre {margin: 0.2em;color: black;border-radius: 0.25em;background-color: #f0f8ff;}#sk-container-id-1 input.sk-toggleable__control:checked~div.sk-toggleable__content {max-height: 200px;max-width: 100%;overflow: auto;}#sk-container-id-1 input.sk-toggleable__control:checked~label.sk-toggleable__label-arrow:before {content: \"▾\";}#sk-container-id-1 div.sk-estimator input.sk-toggleable__control:checked~label.sk-toggleable__label {background-color: #d4ebff;}#sk-container-id-1 div.sk-label input.sk-toggleable__control:checked~label.sk-toggleable__label {background-color: #d4ebff;}#sk-container-id-1 input.sk-hidden--visually {border: 0;clip: rect(1px 1px 1px 1px);clip: rect(1px, 1px, 1px, 1px);height: 1px;margin: -1px;overflow: hidden;padding: 0;position: absolute;width: 1px;}#sk-container-id-1 div.sk-estimator {font-family: monospace;background-color: #f0f8ff;border: 1px dotted black;border-radius: 0.25em;box-sizing: border-box;margin-bottom: 0.5em;}#sk-container-id-1 div.sk-estimator:hover {background-color: #d4ebff;}#sk-container-id-1 div.sk-parallel-item::after {content: \"\";width: 100%;border-bottom: 1px solid gray;flex-grow: 1;}#sk-container-id-1 div.sk-label:hover label.sk-toggleable__label {background-color: #d4ebff;}#sk-container-id-1 div.sk-serial::before {content: \"\";position: absolute;border-left: 1px solid gray;box-sizing: border-box;top: 0;bottom: 0;left: 50%;z-index: 0;}#sk-container-id-1 div.sk-serial {display: flex;flex-direction: column;align-items: center;background-color: white;padding-right: 0.2em;padding-left: 0.2em;position: relative;}#sk-container-id-1 div.sk-item {position: relative;z-index: 1;}#sk-container-id-1 div.sk-parallel {display: flex;align-items: stretch;justify-content: center;background-color: white;position: relative;}#sk-container-id-1 div.sk-item::before, #sk-container-id-1 div.sk-parallel-item::before {content: \"\";position: absolute;border-left: 1px solid gray;box-sizing: border-box;top: 0;bottom: 0;left: 50%;z-index: -1;}#sk-container-id-1 div.sk-parallel-item {display: flex;flex-direction: column;z-index: 1;position: relative;background-color: white;}#sk-container-id-1 div.sk-parallel-item:first-child::after {align-self: flex-end;width: 50%;}#sk-container-id-1 div.sk-parallel-item:last-child::after {align-self: flex-start;width: 50%;}#sk-container-id-1 div.sk-parallel-item:only-child::after {width: 0;}#sk-container-id-1 div.sk-dashed-wrapped {border: 1px dashed gray;margin: 0 0.4em 0.5em 0.4em;box-sizing: border-box;padding-bottom: 0.4em;background-color: white;}#sk-container-id-1 div.sk-label label {font-family: monospace;font-weight: bold;display: inline-block;line-height: 1.2em;}#sk-container-id-1 div.sk-label-container {text-align: center;}#sk-container-id-1 div.sk-container {/* jupyter's `normalize.less` sets `[hidden] { display: none; }` but bootstrap.min.css set `[hidden] { display: none !important; }` so we also need the `!important` here to be able to override the default hidden behavior on the sphinx rendered scikit-learn.org. See: https://github.com/scikit-learn/scikit-learn/issues/21755 */display: inline-block !important;position: relative;}#sk-container-id-1 div.sk-text-repr-fallback {display: none;}</style><div id=\"sk-container-id-1\" class=\"sk-top-container\"><div class=\"sk-text-repr-fallback\"><pre>RFECV(cv=StratifiedKFold(n_splits=5, random_state=None, shuffle=False),\n      estimator=SVC(kernel=&#x27;linear&#x27;), scoring=&#x27;accuracy&#x27;, step=2)</pre><b>In a Jupyter environment, please rerun this cell to show the HTML representation or trust the notebook. <br />On GitHub, the HTML representation is unable to render, please try loading this page with nbviewer.org.</b></div><div class=\"sk-container\" hidden><div class=\"sk-item sk-dashed-wrapped\"><div class=\"sk-label-container\"><div class=\"sk-label sk-toggleable\"><input class=\"sk-toggleable__control sk-hidden--visually\" id=\"sk-estimator-id-1\" type=\"checkbox\" ><label for=\"sk-estimator-id-1\" class=\"sk-toggleable__label sk-toggleable__label-arrow\">RFECV</label><div class=\"sk-toggleable__content\"><pre>RFECV(cv=StratifiedKFold(n_splits=5, random_state=None, shuffle=False),\n      estimator=SVC(kernel=&#x27;linear&#x27;), scoring=&#x27;accuracy&#x27;, step=2)</pre></div></div></div><div class=\"sk-parallel\"><div class=\"sk-parallel-item\"><div class=\"sk-item\"><div class=\"sk-label-container\"><div class=\"sk-label sk-toggleable\"><input class=\"sk-toggleable__control sk-hidden--visually\" id=\"sk-estimator-id-2\" type=\"checkbox\" ><label for=\"sk-estimator-id-2\" class=\"sk-toggleable__label sk-toggleable__label-arrow\">estimator: SVC</label><div class=\"sk-toggleable__content\"><pre>SVC(kernel=&#x27;linear&#x27;)</pre></div></div></div><div class=\"sk-serial\"><div class=\"sk-item\"><div class=\"sk-estimator sk-toggleable\"><input class=\"sk-toggleable__control sk-hidden--visually\" id=\"sk-estimator-id-3\" type=\"checkbox\" ><label for=\"sk-estimator-id-3\" class=\"sk-toggleable__label sk-toggleable__label-arrow\">SVC</label><div class=\"sk-toggleable__content\"><pre>SVC(kernel=&#x27;linear&#x27;)</pre></div></div></div></div></div></div></div></div></div></div>"
     },
     "execution_count": 5,
     "metadata": {},
     "output_type": "execute_result"
    }
   ],
   "source": [
    "# 시간이 오래 걸림\n",
    "from sklearn.svm import SVC\n",
    "from sklearn.model_selection import StratifiedKFold\n",
    "from sklearn.feature_selection import RFECV\n",
    "\n",
    "# 선형모형만 가능함(rbf 커널에는 coef가 제공되지 않음)\n",
    "# SVC의 경우 변수 선택이 잘 되지 않을 수 있으므로 DecisionTree도 함께 테스트\n",
    "\n",
    "model = SVC(kernel='linear')\n",
    "#model = DecisionTreeClassifier(random_state=0).fit(X,y)\n",
    "#step=1 각 단계에서 제거할 변수의 개수\n",
    "rfecv = RFECV(estimator=model, step=2, cv=StratifiedKFold(5), scoring='accuracy')\n",
    "rfecv.fit(X,y)"
   ],
   "metadata": {
    "collapsed": false,
    "ExecuteTime": {
     "start_time": "2023-08-16T11:39:29.447984Z",
     "end_time": "2023-08-16T11:40:49.722035Z"
    }
   }
  },
  {
   "cell_type": "code",
   "execution_count": 6,
   "outputs": [
    {
     "name": "stdout",
     "output_type": "stream",
     "text": [
      "[0.6097217  0.6097217  0.69463704 0.72252016 0.73599167 0.76914695\n",
      " 0.75982586 0.75982586 0.7639656 ]\n",
      "10\n",
      "[ True  True  True  True False False False False  True False False  True\n",
      "  True  True  True  True]\n",
      "[1 1 1 1 3 2 2 4 1 3 4 1 1 1 1 1]\n"
     ]
    }
   ],
   "source": [
    "import numpy as np\n",
    "print(rfecv.cv_results_['mean_test_score']) # 교차검증으로 계산한 변수들의 중요도\n",
    "print(rfecv.n_features_) # 교차검증을 통해 선택된 변수 개수\n",
    "print(rfecv.support_) # 변수 선택 여부\n",
    "print(rfecv.ranking_) # 변수 선택 랭킹"
   ],
   "metadata": {
    "collapsed": false,
    "ExecuteTime": {
     "start_time": "2023-08-16T11:40:56.210675Z",
     "end_time": "2023-08-16T11:40:56.229761Z"
    }
   }
  },
  {
   "cell_type": "code",
   "execution_count": 8,
   "outputs": [
    {
     "name": "stdout",
     "output_type": "stream",
     "text": [
      "Index(['Int'l Plan', 'VMail Plan', 'VMail Message', 'Day Mins', 'Eve Charge',\n",
      "       'Night Charge', 'Intl Mins', 'Intl Calls', 'Intl Charge',\n",
      "       'CustServ Calls'],\n",
      "      dtype='object')\n",
      "Index(['Day Calls', 'Day Charge', 'Eve Calls', 'Eve Mins', 'Night Calls',\n",
      "       'Night Mins'],\n",
      "      dtype='object')\n"
     ]
    }
   ],
   "source": [
    "# 선택된 변수들\n",
    "print(X.columns[rfecv.support_])\n",
    "# 선택되지 않은 변수들\n",
    "print(X.columns.difference(X.columns[rfecv.support_]))"
   ],
   "metadata": {
    "collapsed": false,
    "ExecuteTime": {
     "start_time": "2023-08-16T11:42:38.797169Z",
     "end_time": "2023-08-16T11:42:38.810134Z"
    }
   }
  },
  {
   "cell_type": "code",
   "execution_count": 9,
   "outputs": [
    {
     "data": {
      "text/plain": "             변수명      평균점수\n0     Int'l Plan  0.609722\n1     VMail Plan  0.609722\n2  VMail Message  0.694637\n3       Day Mins  0.722520\n4     Eve Charge  0.735992\n5   Night Charge  0.769147\n6      Intl Mins  0.759826\n7     Intl Calls  0.759826\n8    Intl Charge  0.763966",
      "text/html": "<div>\n<style scoped>\n    .dataframe tbody tr th:only-of-type {\n        vertical-align: middle;\n    }\n\n    .dataframe tbody tr th {\n        vertical-align: top;\n    }\n\n    .dataframe thead th {\n        text-align: right;\n    }\n</style>\n<table border=\"1\" class=\"dataframe\">\n  <thead>\n    <tr style=\"text-align: right;\">\n      <th></th>\n      <th>변수명</th>\n      <th>평균점수</th>\n    </tr>\n  </thead>\n  <tbody>\n    <tr>\n      <th>0</th>\n      <td>Int'l Plan</td>\n      <td>0.609722</td>\n    </tr>\n    <tr>\n      <th>1</th>\n      <td>VMail Plan</td>\n      <td>0.609722</td>\n    </tr>\n    <tr>\n      <th>2</th>\n      <td>VMail Message</td>\n      <td>0.694637</td>\n    </tr>\n    <tr>\n      <th>3</th>\n      <td>Day Mins</td>\n      <td>0.722520</td>\n    </tr>\n    <tr>\n      <th>4</th>\n      <td>Eve Charge</td>\n      <td>0.735992</td>\n    </tr>\n    <tr>\n      <th>5</th>\n      <td>Night Charge</td>\n      <td>0.769147</td>\n    </tr>\n    <tr>\n      <th>6</th>\n      <td>Intl Mins</td>\n      <td>0.759826</td>\n    </tr>\n    <tr>\n      <th>7</th>\n      <td>Intl Calls</td>\n      <td>0.759826</td>\n    </tr>\n    <tr>\n      <th>8</th>\n      <td>Intl Charge</td>\n      <td>0.763966</td>\n    </tr>\n  </tbody>\n</table>\n</div>"
     },
     "execution_count": 9,
     "metadata": {},
     "output_type": "execute_result"
    }
   ],
   "source": [
    "df2 = pd.DataFrame(list(zip(X.columns[rfecv.support_],rfecv.cv_results_['mean_test_score'])), columns=['변수명', '평균점수'])\n",
    "df2"
   ],
   "metadata": {
    "collapsed": false,
    "ExecuteTime": {
     "start_time": "2023-08-16T11:43:56.688617Z",
     "end_time": "2023-08-16T11:43:56.706567Z"
    }
   }
  },
  {
   "cell_type": "code",
   "execution_count": 10,
   "outputs": [
    {
     "data": {
      "text/plain": "             변수명      평균점수\n5   Night Charge  0.769147\n8    Intl Charge  0.763966\n6      Intl Mins  0.759826\n7     Intl Calls  0.759826\n4     Eve Charge  0.735992\n3       Day Mins  0.722520\n2  VMail Message  0.694637\n0     Int'l Plan  0.609722\n1     VMail Plan  0.609722",
      "text/html": "<div>\n<style scoped>\n    .dataframe tbody tr th:only-of-type {\n        vertical-align: middle;\n    }\n\n    .dataframe tbody tr th {\n        vertical-align: top;\n    }\n\n    .dataframe thead th {\n        text-align: right;\n    }\n</style>\n<table border=\"1\" class=\"dataframe\">\n  <thead>\n    <tr style=\"text-align: right;\">\n      <th></th>\n      <th>변수명</th>\n      <th>평균점수</th>\n    </tr>\n  </thead>\n  <tbody>\n    <tr>\n      <th>5</th>\n      <td>Night Charge</td>\n      <td>0.769147</td>\n    </tr>\n    <tr>\n      <th>8</th>\n      <td>Intl Charge</td>\n      <td>0.763966</td>\n    </tr>\n    <tr>\n      <th>6</th>\n      <td>Intl Mins</td>\n      <td>0.759826</td>\n    </tr>\n    <tr>\n      <th>7</th>\n      <td>Intl Calls</td>\n      <td>0.759826</td>\n    </tr>\n    <tr>\n      <th>4</th>\n      <td>Eve Charge</td>\n      <td>0.735992</td>\n    </tr>\n    <tr>\n      <th>3</th>\n      <td>Day Mins</td>\n      <td>0.722520</td>\n    </tr>\n    <tr>\n      <th>2</th>\n      <td>VMail Message</td>\n      <td>0.694637</td>\n    </tr>\n    <tr>\n      <th>0</th>\n      <td>Int'l Plan</td>\n      <td>0.609722</td>\n    </tr>\n    <tr>\n      <th>1</th>\n      <td>VMail Plan</td>\n      <td>0.609722</td>\n    </tr>\n  </tbody>\n</table>\n</div>"
     },
     "execution_count": 10,
     "metadata": {},
     "output_type": "execute_result"
    }
   ],
   "source": [
    "df2.sort_values(by='평균점수', ascending=False)"
   ],
   "metadata": {
    "collapsed": false,
    "ExecuteTime": {
     "start_time": "2023-08-16T11:44:25.173988Z",
     "end_time": "2023-08-16T11:44:25.206919Z"
    }
   }
  },
  {
   "cell_type": "code",
   "execution_count": null,
   "outputs": [],
   "source": [],
   "metadata": {
    "collapsed": false
   }
  }
 ],
 "metadata": {
  "kernelspec": {
   "display_name": "Python 3",
   "language": "python",
   "name": "python3"
  },
  "language_info": {
   "codemirror_mode": {
    "name": "ipython",
    "version": 2
   },
   "file_extension": ".py",
   "mimetype": "text/x-python",
   "name": "python",
   "nbconvert_exporter": "python",
   "pygments_lexer": "ipython2",
   "version": "2.7.6"
  }
 },
 "nbformat": 4,
 "nbformat_minor": 0
}
